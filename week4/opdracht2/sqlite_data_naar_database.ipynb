{
 "cells": [
  {
   "cell_type": "code",
   "id": "initial_id",
   "metadata": {
    "collapsed": true,
    "ExecuteTime": {
     "end_time": "2025-02-25T13:44:46.241706Z",
     "start_time": "2025-02-25T13:44:46.232137Z"
    }
   },
   "source": [
    "import pandas as pd\n",
    "from sqlalchemy import create_engine\n",
    "import sqlite3\n",
    "from sqlalchemy.types import Numeric, Integer, String\n",
    "\n",
    "\n",
    "DB = {'servername': 'XPS15\\\\SQLEXPRESS', 'database': 'gecombineerde_database2'}\n",
    "\n",
    "#SQLAlchemy engine voor SQL Server\n",
    "engine_str = (\n",
    "    f\"mssql+pyodbc://{DB['servername']}/{DB['database']}?\"\n",
    "    \"trusted_connection=yes&driver=ODBC+Driver+17+for+SQL+Server\"\n",
    ")\n",
    "\n",
    "engine = create_engine(engine_str)"
   ],
   "outputs": [],
   "execution_count": 14
  },
  {
   "metadata": {
    "ExecuteTime": {
     "end_time": "2025-02-25T13:44:48.936238Z",
     "start_time": "2025-02-25T13:44:48.925414Z"
    }
   },
   "cell_type": "code",
   "source": [
    "# Lijst met SQLite-bestanden\n",
    "sqlite_files = ['go_crm_train.sqlite', 'go_sales_train.sqlite', 'go_staff_train.sqlite']\n",
    "\n",
    "# Dictionaries om per tabel:\n",
    "# - de union van kolommen (als set) en\n",
    "# - de lijst van dataframes uit de verschillende SQLite-bestanden op te slaan\n",
    "table_columns = {}  # key: tabelnaam, value: set met kolomnamen\n",
    "dataframes = {}     # key: tabelnaam, value: lijst met DataFrames"
   ],
   "id": "d14230a3461c070f",
   "outputs": [],
   "execution_count": 15
  },
  {
   "metadata": {
    "ExecuteTime": {
     "end_time": "2025-02-25T13:44:51.277679Z",
     "start_time": "2025-02-25T13:44:51.074452Z"
    }
   },
   "cell_type": "code",
   "source": [
    "# Loop door alle SQLite-bestanden\n",
    "for file in sqlite_files:\n",
    "    conn = sqlite3.connect(file)\n",
    "    cursor = conn.cursor()\n",
    "    cursor.execute(\"SELECT name FROM sqlite_master WHERE type='table'\")\n",
    "    tables = cursor.fetchall()\n",
    "\n",
    "    for (table_name,) in tables:\n",
    "        # Lees de tabel in een DataFrame\n",
    "        df = pd.read_sql_query(f\"SELECT * FROM {table_name}\", conn)\n",
    "\n",
    "        # Als deze tabel nog niet eerder is tegengekomen, initialiseer de dictionaries\n",
    "        if table_name not in table_columns:\n",
    "            table_columns[table_name] = set(df.columns)\n",
    "            dataframes[table_name] = [df]\n",
    "        else:\n",
    "            # Voeg de kolommen van de huidige DataFrame toe aan de union van kolommen\n",
    "            table_columns[table_name].update(df.columns)\n",
    "            dataframes[table_name].append(df)\n",
    "\n",
    "    conn.close()"
   ],
   "id": "91126b820d7a3421",
   "outputs": [],
   "execution_count": 16
  },
  {
   "metadata": {
    "ExecuteTime": {
     "end_time": "2025-02-25T13:51:51.876056Z",
     "start_time": "2025-02-25T13:51:42.294659Z"
    }
   },
   "cell_type": "code",
   "source": [
    "# Voor elke tabel: combineer de DataFrames zodat alle kolommen aanwezig zijn\n",
    "for table_name, df_list in dataframes.items():\n",
    "    # Haal de union van alle kolommen op\n",
    "    union_cols = list(table_columns[table_name])\n",
    "\n",
    "    # Herindexeer iedere DataFrame zodat alle kolommen aanwezig zijn (ontbrekende waarden = NaN)\n",
    "    df_list = [df.reindex(columns=union_cols) for df in df_list]\n",
    "\n",
    "    # Definieer een mapping van kolomnamen naar SQLAlchemy datatypes.\n",
    "    # Pas de kolomnamen en types aan op basis van jouw data.\n",
    "    dtype_mapping = {\n",
    "        'prijs': Numeric(10, 2),       # Numeriek met precisie 10 en schaal 2\n",
    "        'aantal': Integer(),           # Integer\n",
    "        'beschrijving': String(255)    # String met max 255 tekens\n",
    "    }\n",
    "\n",
    "    # Combineer de DataFrames\n",
    "    merged_df = pd.concat(df_list, ignore_index=True)\n",
    "\n",
    "    # Schrijf de gecombineerde DataFrame weg naar SQL Server.\n",
    "    # if_exists='replace' maakt de tabel aan (of vervangt hem als die al bestaat)\n",
    "    merged_df.to_sql(table_name, engine, if_exists='replace', index=False, dtype=dtype_mapping)\n",
    "    print(f\"Tabel '{table_name}' is naar SQL Server gestuurd.\")\n"
   ],
   "id": "70319574b000509e",
   "outputs": [
    {
     "name": "stdout",
     "output_type": "stream",
     "text": [
      "Tabel 'age_group' is naar SQL Server gestuurd.\n",
      "Tabel 'country' is naar SQL Server gestuurd.\n",
      "Tabel 'retailer_segment' is naar SQL Server gestuurd.\n",
      "Tabel 'sales_territory' is naar SQL Server gestuurd.\n",
      "Tabel 'retailer' is naar SQL Server gestuurd.\n",
      "Tabel 'retailer_site' is naar SQL Server gestuurd.\n",
      "Tabel 'retailer_type' is naar SQL Server gestuurd.\n",
      "Tabel 'sales_demographic' is naar SQL Server gestuurd.\n",
      "Tabel 'retailer_headquarters' is naar SQL Server gestuurd.\n",
      "Tabel 'retailer_contact' is naar SQL Server gestuurd.\n",
      "Tabel 'order_details' is naar SQL Server gestuurd.\n",
      "Tabel 'order_header' is naar SQL Server gestuurd.\n",
      "Tabel 'order_method' is naar SQL Server gestuurd.\n",
      "Tabel 'product_line' is naar SQL Server gestuurd.\n",
      "Tabel 'product_type' is naar SQL Server gestuurd.\n",
      "Tabel 'product' is naar SQL Server gestuurd.\n",
      "Tabel 'return_reason' is naar SQL Server gestuurd.\n",
      "Tabel 'returned_item' is naar SQL Server gestuurd.\n",
      "Tabel 'sales_branch' is naar SQL Server gestuurd.\n",
      "Tabel 'sales_staff' is naar SQL Server gestuurd.\n",
      "Tabel 'course' is naar SQL Server gestuurd.\n",
      "Tabel 'satisfaction' is naar SQL Server gestuurd.\n",
      "Tabel 'satisfaction_type' is naar SQL Server gestuurd.\n",
      "Tabel 'training' is naar SQL Server gestuurd.\n"
     ]
    }
   ],
   "execution_count": 18
  }
 ],
 "metadata": {
  "kernelspec": {
   "display_name": "Python 3",
   "language": "python",
   "name": "python3"
  },
  "language_info": {
   "codemirror_mode": {
    "name": "ipython",
    "version": 2
   },
   "file_extension": ".py",
   "mimetype": "text/x-python",
   "name": "python",
   "nbconvert_exporter": "python",
   "pygments_lexer": "ipython2",
   "version": "2.7.6"
  }
 },
 "nbformat": 4,
 "nbformat_minor": 5
}
