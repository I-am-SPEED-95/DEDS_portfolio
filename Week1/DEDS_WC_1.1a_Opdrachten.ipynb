{
 "cells": [
  {
   "cell_type": "markdown",
   "metadata": {},
   "source": [
    "# Werkcollege-opdrachten Week 1.1"
   ]
  },
  {
   "cell_type": "markdown",
   "metadata": {},
   "source": [
    "## Maak een virtual environment"
   ]
  },
  {
   "cell_type": "markdown",
   "metadata": {},
   "source": [
    "Zorg dat je met behulp van de handleiding *Bouw en gebruik van virtual environments - Handleiding* een virtual environment hebt gemaakt, dat jou en je duopartner garandeert altijd dezelfde versie van geïmporteerde dependencies te gebruiken.<br>\n",
    "Voeg hier vervolgens met *poetry add pandas* de pandas-dependency aan toe.<br>\n",
    "Als je dit allemaal goed hebt gedaan moet de onderstaande code bij jullie allebei succesvol runnen:"
   ]
  },
  {
   "cell_type": "code",
   "metadata": {
    "ExecuteTime": {
     "end_time": "2025-02-10T15:28:33.386116Z",
     "start_time": "2025-02-10T15:28:33.058904Z"
    }
   },
   "source": [
    "import pandas as np\n",
    "from tomlkit import string"
   ],
   "outputs": [],
   "execution_count": 1
  },
  {
   "cell_type": "markdown",
   "metadata": {},
   "source": [
    "Zorg er daarnaast voor dat je...\n",
    "- Het bestand Waarheidstabel.png in dezelfde map als dit notebook hebt staan.\n",
    "- Het bestand Prinstabel.png in dezelfde map als dit notebook hebt staan.\n",
    "- Alle informatie onder het kopje *Basisoperaties* van de cheatsheet *Van Java naar Python - Cheatsheet* (zie Brightspace) bij de hand hebt."
   ]
  },
  {
   "cell_type": "markdown",
   "metadata": {},
   "source": [
    "## 1.1: Output, variabelen en input"
   ]
  },
  {
   "cell_type": "markdown",
   "metadata": {},
   "source": [
    "Geef code waarmee het volgende op het scherm komt te staan:<br>\n",
    "geef me je geld <br>\n",
    "of ik gebruik geweld, <br>\n",
    "toen kwam de controle aangesneld"
   ]
  },
  {
   "cell_type": "code",
   "metadata": {
    "ExecuteTime": {
     "end_time": "2025-02-10T15:33:34.859821Z",
     "start_time": "2025-02-10T15:33:34.856567Z"
    }
   },
   "source": [
    "print(\"geef me je geld\")\n",
    "print(\"of ik gebruik geweld,\")\n",
    "print(\"toen kwam de controle aangesneld\")"
   ],
   "outputs": [
    {
     "name": "stdout",
     "output_type": "stream",
     "text": [
      "geef me je geld\n",
      "of ik gebruik geweld,\n",
      "toen kwam de controle aangesneld\n"
     ]
    }
   ],
   "execution_count": 3
  },
  {
   "cell_type": "markdown",
   "metadata": {},
   "source": [
    "Declareer 2 variabelen zodat de volgende tekst geprint wordt:<br>\n",
    "Apenhoofd<br>\n",
    "Paardenstaart"
   ]
  },
  {
   "cell_type": "code",
   "metadata": {
    "ExecuteTime": {
     "end_time": "2025-02-10T15:36:45.811375Z",
     "start_time": "2025-02-10T15:36:45.807880Z"
    }
   },
   "source": [
    "hoofd = \"Apenhoofd\"\n",
    "staart = \"Paardenstaart\"\n",
    "\n",
    "print(hoofd)\n",
    "print (staart)"
   ],
   "outputs": [
    {
     "name": "stdout",
     "output_type": "stream",
     "text": [
      "Apenhoofd\n",
      "Paardenstaart\n"
     ]
    }
   ],
   "execution_count": 6
  },
  {
   "cell_type": "markdown",
   "metadata": {},
   "source": [
    "Voeg code toe zodat het programma het volgende doet:<br>\n",
    "1): Op het scherm komt A, B, C, D, ..., F, G te staan<br>\n",
    "2): De gebruiker voert een letter in<br>\n",
    "3): Op het scherm komt te staan:<br>\n",
    "Het is inderdaad:<br>\n",
    "*ingevoerde letter*"
   ]
  },
  {
   "cell_type": "code",
   "metadata": {
    "ExecuteTime": {
     "end_time": "2025-02-10T15:42:50.617455Z",
     "start_time": "2025-02-10T15:42:47.350840Z"
    }
   },
   "source": [
    "print(\"A,B,C,D,...,F,G\")\n",
    "letter = str(input())\n",
    "print(\"Het is inderdaad: \")\n",
    "print(letter)"
   ],
   "outputs": [
    {
     "name": "stdout",
     "output_type": "stream",
     "text": [
      "A,B,C,D,...,F,G\n",
      "Het is inderdaad: \n",
      "D\n"
     ]
    }
   ],
   "execution_count": 11
  },
  {
   "cell_type": "markdown",
   "metadata": {},
   "source": [
    "## 1.2: Stringconcatenatie en Rekenen"
   ]
  },
  {
   "cell_type": "markdown",
   "metadata": {},
   "source": [
    "Schrijf code dat een inkomen inleest en het volgende uitprint:<br>\n",
    "Uw inkomen (*ingelezen inkomen*) is zeer acceptabel."
   ]
  },
  {
   "cell_type": "code",
   "metadata": {
    "ExecuteTime": {
     "end_time": "2025-02-10T20:49:26.143587Z",
     "start_time": "2025-02-10T20:49:13.675315Z"
    }
   },
   "source": [
    "print (\"Uw inkomen is: \")\n",
    "inkomen = int(input())\n",
    "print(inkomen)"
   ],
   "outputs": [
    {
     "name": "stdout",
     "output_type": "stream",
     "text": [
      "Uw inkomen is: \n",
      "5000\n"
     ]
    }
   ],
   "execution_count": 1
  },
  {
   "cell_type": "markdown",
   "metadata": {},
   "source": [
    "De oppervlakte van een driehoek is 1/2 * hoogte * basis<br>\n",
    "Schrijf code zodat het programma het volgende doet:<br>\n",
    "1): Op het scherm komt Wat is de basis? te staan<br>\n",
    "2): De gebruiker voert een basis in<br>\n",
    "3): Op het scherm komt Wat is de hoogte? te staan<br>\n",
    "4): De gebruiker voert een hoogte in<br>\n",
    "5): Op het scherm komt: De oppervlakte van de driehoek is *berekende oppervlakte* te staan"
   ]
  },
  {
   "cell_type": "code",
   "metadata": {
    "ExecuteTime": {
     "end_time": "2025-02-10T15:47:28.630540Z",
     "start_time": "2025-02-10T15:47:20.244939Z"
    }
   },
   "source": [
    "print(\"Wat is de basis?\")\n",
    "basis = int(input())\n",
    "print(\"Wat is de hoogte\")\n",
    "hoogte = int(input())\n",
    "print(\"Oppervlakte van de driehoek is:\")\n",
    "print(1/2 * hoogte * basis)"
   ],
   "outputs": [
    {
     "name": "stdout",
     "output_type": "stream",
     "text": [
      "Wat is de basis?\n",
      "Wat is de hoogte\n",
      "Oppervlakte van de driehoek is:\n",
      "15.0\n"
     ]
    }
   ],
   "execution_count": 16
  },
  {
   "cell_type": "markdown",
   "metadata": {},
   "source": [
    "## 1.3: if() en booleans"
   ]
  },
  {
   "cell_type": "markdown",
   "metadata": {},
   "source": [
    "Schrijf code dat het volgende doet:<br>\n",
    "1): De gebruiker voert in hoe oud iemand is<br>\n",
    "2): De gebruiker voert in of de ouders meegekomen zijn (input is J of N)<br><br>\n",
    "\n",
    "Als...\n",
    "- Jonger dan 6, wel ouders: op het scherm staat Je mag het zwembad in\n",
    "- Jonger dan 6, geen ouders: op het scherm staat Je mag het niet zwembad in\n",
    "- Leeftijd vanaf 6, geen ouders: op het scherm staat Je mag het zwembad in als je een diploma hebt\n",
    "- Leeftijd vanaf 6, wel ouders: op het scherm staat Waarom neem je nog je ouders mee?"
   ]
  },
  {
   "cell_type": "code",
   "metadata": {
    "ExecuteTime": {
     "end_time": "2025-02-10T16:11:46.734851Z",
     "start_time": "2025-02-10T16:11:39.272080Z"
    }
   },
   "source": [
    "print(\"Hoe oud is dit persoon\")\n",
    "leeftijd = int(input())\n",
    "print(\"ouder meegekomen?\")\n",
    "\n",
    "while True:\n",
    "    try:\n",
    "        meegekomen = str(input('Alleen J of N invullen: '))\n",
    "        if meegekomen == \"J\" and leeftijd < 6:\n",
    "            print(\"Je mag het zwembad in\")\n",
    "            break\n",
    "        elif meegekomen == \"N\" and leeftijd < 6:\n",
    "            print('Je mag het zwembad niet in')\n",
    "            break\n",
    "        elif meegekomen == \"J\" and leeftijd >= 6:\n",
    "            print('Waarom neem je nog je ouders mee?')\n",
    "            break\n",
    "        elif meegekomen == \"N\" and leeftijd >= 6:\n",
    "            print('Je mag het zwembad in als je een diploma hebt')\n",
    "            break\n",
    "    except ValueError:\n",
    "        print('Invalid input, kan alleen J of N')"
   ],
   "outputs": [
    {
     "name": "stdout",
     "output_type": "stream",
     "text": [
      "Hoe oud is dit persoon\n",
      "ouder meegekomen?\n",
      "Je mag het zwembad in als je een diploma hebt\n"
     ]
    }
   ],
   "execution_count": 23
  },
  {
   "cell_type": "markdown",
   "metadata": {},
   "source": [
    "Schrijf code zodat de boolean-variabelen een en twee aangemaakt worden en waarmee de juiste waarde in de boolean-variabele uitkomst komt te staan. In de waarheidstabel hieronder staat wat de waarde van uitkomst is bij de verschillende mogelijke combinaties van een en twee.<br><br>\n",
    "<img src=\"Waarheidstabel.png\">"
   ]
  },
  {
   "cell_type": "code",
   "metadata": {
    "ExecuteTime": {
     "end_time": "2025-02-10T16:45:01.465804Z",
     "start_time": "2025-02-10T16:45:01.455769Z"
    }
   },
   "source": [
    "een = True\n",
    "twee = False\n",
    "\n",
    "print(\"onwaar\" if (een and not twee) else \"waar\")\n"
   ],
   "outputs": [
    {
     "name": "stdout",
     "output_type": "stream",
     "text": [
      "onwaar\n"
     ]
    }
   ],
   "execution_count": 38
  },
  {
   "cell_type": "markdown",
   "metadata": {},
   "source": [
    "## 1.4: Methoden"
   ]
  },
  {
   "cell_type": "markdown",
   "metadata": {},
   "source": [
    "Schrijf een methode wachtwoord die als parameters twee woorden meekrijgt en het volgende controleert:\n",
    "- Als de woorden gelijk zijn, print het programma gelijk.\n",
    "- Als de woorden ongelijk zijn print het programma ongelijk.\n",
    "\n",
    "Vergeet niet dat je de methode niet alleen aan moet maken, maar ook aan moet roepen om output te krijgen."
   ]
  },
  {
   "cell_type": "code",
   "metadata": {
    "ExecuteTime": {
     "end_time": "2025-02-10T16:38:25.702348Z",
     "start_time": "2025-02-10T16:38:20.159338Z"
    }
   },
   "source": [
    "def wachtwoord(woord1, woord2):\n",
    "\n",
    "    if woord1 == woord2:\n",
    "        print(\"het programma gelijk\")\n",
    "    else:\n",
    "        print(\"het programma ongelijk\")\n",
    "\n",
    "woord1 = str(input())\n",
    "woord2 = str(input())\n",
    "wachtwoord(woord1, woord2)"
   ],
   "outputs": [
    {
     "name": "stdout",
     "output_type": "stream",
     "text": [
      "het programma ongelijk\n"
     ]
    }
   ],
   "execution_count": 36
  },
  {
   "cell_type": "markdown",
   "metadata": {},
   "source": [
    "Schrijf de methode zoekPrins die als parameter een prinses meekrijgt en vervolgens de bijbehorende prins teruggeeft, volgens de volgende tabel:<br><br>\n",
    "<img src=\"Prinstabel.png\"><br>\n",
    "Als de naam van de prinses niet in de tabel staat wordt het volgende door de methode teruggegeven: naamloos.<br>\n",
    "Roep ten slotte de gemaakte methode ook daadwerkelijk aan met een zelfgekozen prinsessennaam."
   ]
  },
  {
   "cell_type": "code",
   "metadata": {
    "ExecuteTime": {
     "end_time": "2025-02-10T16:48:20.094362Z",
     "start_time": "2025-02-10T16:48:14.299358Z"
    }
   },
   "source": [
    "def zoekPrins(prinses):\n",
    "    if (prinses == \"Aurora\"):\n",
    "        print(\"Philip\")\n",
    "    elif (prinses == \"Ariel\"):\n",
    "        print(\"Eric\")\n",
    "    elif (prinses == \"Jasmine\"):\n",
    "        print(\"Aladdin\")\n",
    "    elif (prinses == \"Pocahontas\"):\n",
    "        print(\"John\")\n",
    "    elif (prinses == \"Belle\"):\n",
    "        print(\"Beast\")\n",
    "    elif (prinses == \"Tiana\"):\n",
    "        print(\"Naveen\")\n",
    "    elif(prinses == \"Mulan\"):\n",
    "        print(\"Shang\")\n",
    "\n",
    "prinses = str(input())\n",
    "zoekPrins(prinses)"
   ],
   "outputs": [
    {
     "name": "stdout",
     "output_type": "stream",
     "text": [
      "Naveen\n"
     ]
    }
   ],
   "execution_count": 39
  },
  {
   "cell_type": "markdown",
   "metadata": {},
   "source": [
    "## 1.5: While"
   ]
  },
  {
   "cell_type": "markdown",
   "metadata": {},
   "source": [
    "Schrijf de inhoud van de methode wachtwoord. Deze heeft geen parameters en laat de gebruiker twee wachtwoorden invoeren, waarna hij bekijkt of deze gelijk zijn. Zolang dat niet het geval is wordt er eerst Fout, probeer het opnieuw! uitgeprint en moet de gebruiker het opnieuw proberen.<br>Als de gebruiker het goed doet, komt er Succes! op het scherm te staan."
   ]
  },
  {
   "cell_type": "code",
   "metadata": {
    "ExecuteTime": {
     "end_time": "2025-02-11T08:48:39.000936Z",
     "start_time": "2025-02-11T08:48:31.673588Z"
    }
   },
   "source": [
    "def wachtwoord():\n",
    "    while True:\n",
    "        wachtwoord1 = str(input(\"wachtwoord1: \"))\n",
    "        wachtwoord2 = str(input(\"wachtwoord2: \"))\n",
    "\n",
    "        if wachtwoord1 == wachtwoord2:\n",
    "            print(\"Succes\")\n",
    "            break\n",
    "        else:\n",
    "            print(\"fout, probeer het opnieuw\")\n",
    "wachtwoord()"
   ],
   "outputs": [
    {
     "name": "stdout",
     "output_type": "stream",
     "text": [
      "Succes\n"
     ]
    }
   ],
   "execution_count": 1
  },
  {
   "cell_type": "markdown",
   "metadata": {},
   "source": [
    "Schrijf de inhoud van de methode tafels. De methode print alle tafels vanaf 1 (dus inclusief de tafel van 1) tot en met de tafel van het meegekregen getal (dus inclusief de tafel van getal).  Zet een witregel tussen alle tafels in. <br>\n",
    "Let op:\n",
    "- Gebruik een while-loop\n",
    "- Gebruik de reeds geschreven methode tafel om een tafel uit te printen"
   ]
  },
  {
   "cell_type": "code",
   "metadata": {
    "ExecuteTime": {
     "end_time": "2025-02-11T08:53:52.553141Z",
     "start_time": "2025-02-11T08:53:48.776263Z"
    }
   },
   "source": [
    "def tafel(getal: int):\n",
    "    teller: int = 1\n",
    "\n",
    "    while(teller <= 10):\n",
    "        print(f'{teller} x {getal} = {teller * getal}')\n",
    "        teller += 1\n",
    "\n",
    "def tafels(getal: int):\n",
    "    teller = 1\n",
    "    while(teller <= getal):\n",
    "        tafel(teller)\n",
    "        print()\n",
    "        teller += 1\n",
    "\n",
    "x: int = int(input())\n",
    "tafels(x)"
   ],
   "outputs": [
    {
     "name": "stdout",
     "output_type": "stream",
     "text": [
      "1 x 1 = 1\n",
      "2 x 1 = 2\n",
      "3 x 1 = 3\n",
      "4 x 1 = 4\n",
      "5 x 1 = 5\n",
      "6 x 1 = 6\n",
      "7 x 1 = 7\n",
      "8 x 1 = 8\n",
      "9 x 1 = 9\n",
      "10 x 1 = 10\n",
      "\n",
      "1 x 2 = 2\n",
      "2 x 2 = 4\n",
      "3 x 2 = 6\n",
      "4 x 2 = 8\n",
      "5 x 2 = 10\n",
      "6 x 2 = 12\n",
      "7 x 2 = 14\n",
      "8 x 2 = 16\n",
      "9 x 2 = 18\n",
      "10 x 2 = 20\n",
      "\n",
      "1 x 3 = 3\n",
      "2 x 3 = 6\n",
      "3 x 3 = 9\n",
      "4 x 3 = 12\n",
      "5 x 3 = 15\n",
      "6 x 3 = 18\n",
      "7 x 3 = 21\n",
      "8 x 3 = 24\n",
      "9 x 3 = 27\n",
      "10 x 3 = 30\n",
      "\n",
      "1 x 4 = 4\n",
      "2 x 4 = 8\n",
      "3 x 4 = 12\n",
      "4 x 4 = 16\n",
      "5 x 4 = 20\n",
      "6 x 4 = 24\n",
      "7 x 4 = 28\n",
      "8 x 4 = 32\n",
      "9 x 4 = 36\n",
      "10 x 4 = 40\n",
      "\n",
      "1 x 5 = 5\n",
      "2 x 5 = 10\n",
      "3 x 5 = 15\n",
      "4 x 5 = 20\n",
      "5 x 5 = 25\n",
      "6 x 5 = 30\n",
      "7 x 5 = 35\n",
      "8 x 5 = 40\n",
      "9 x 5 = 45\n",
      "10 x 5 = 50\n",
      "\n"
     ]
    }
   ],
   "execution_count": 2
  },
  {
   "cell_type": "markdown",
   "metadata": {},
   "source": [
    "## For-loop"
   ]
  },
  {
   "cell_type": "markdown",
   "metadata": {},
   "source": [
    "Vervang de while-loop door een werkende for-loop. De uitkomst van het programma mag daarbij niet veranderen."
   ]
  },
  {
   "cell_type": "code",
   "metadata": {
    "ExecuteTime": {
     "end_time": "2025-02-11T09:00:31.631993Z",
     "start_time": "2025-02-11T09:00:31.627759Z"
    }
   },
   "source": [
    "def loopje():\n",
    "    aantal = 0\n",
    "\n",
    "    for aantal in range(10):\n",
    "        print(f\"huidige getal: {aantal}\")\n",
    "\n",
    "loopje()"
   ],
   "outputs": [
    {
     "name": "stdout",
     "output_type": "stream",
     "text": [
      "huidige getal: 0\n",
      "huidige getal: 1\n",
      "huidige getal: 2\n",
      "huidige getal: 3\n",
      "huidige getal: 4\n",
      "huidige getal: 5\n",
      "huidige getal: 6\n",
      "huidige getal: 7\n",
      "huidige getal: 8\n",
      "huidige getal: 9\n"
     ]
    }
   ],
   "execution_count": 3
  },
  {
   "cell_type": "markdown",
   "metadata": {},
   "source": [
    "Schrijf de methode checkEven die achtereenvolgens 12 getallen inleest en afdrukt hoe vaak het ingevoerde getal even was."
   ]
  },
  {
   "cell_type": "code",
   "metadata": {
    "ExecuteTime": {
     "end_time": "2025-02-11T09:09:08.581566Z",
     "start_time": "2025-02-11T09:08:34.191766Z"
    }
   },
   "source": [
    "def checkEven():\n",
    "    even = 0\n",
    "\n",
    "    for i in range(12):\n",
    "        getal = int(input())\n",
    "        if getal % 2 == 0:\n",
    "            even += 1\n",
    "    print(f\"even getallen: {even}\")\n",
    "\n",
    "checkEven()"
   ],
   "outputs": [
    {
     "name": "stdout",
     "output_type": "stream",
     "text": [
      "even getallen: 3\n"
     ]
    }
   ],
   "execution_count": 8
  },
  {
   "cell_type": "markdown",
   "metadata": {},
   "source": [
    "## Objectoriëntatie"
   ]
  },
  {
   "cell_type": "markdown",
   "metadata": {},
   "source": [
    "Maak een minisysteem voor een kledingwinkel. Maak verschillende klassen voor verschillende soorten kledingstukken, waarbij sommige klassen geërfd worden van andere klassen.\n",
    "- Maak een klasse Kledingstuk aan, waarin door de constructor een merk, een maat en een prijs geïnitialiseerd worden.\n",
    "- Maak een klasse Broek en een klasse Shirt, beide erven van de klasse Kledingstuk. Voeg aan Broek een broek_type, en aan Shirt een shirt_type toe (d.m.v. constructorgebruik).\n",
    "- Maak een klasse Spijkerbroek die erft van broek en een klasse Poloshirt die erft van shirt. Voeg aan Spijkerbroek een blauwtint toe, en aan Poloshirt een kraagsoort (d.m.v. constructorgebruik).\n",
    "- Implementeer in elke klasse een beschrijf-methode, waarmee alle informatie over het betreffende kledingstuk wordt afgedrukt.\n",
    "- Maak van elke klasse een object aan en roep de beschrijfmethode aan. Controleer nauwkeurig of alles naar behoren werkt."
   ]
  },
  {
   "cell_type": "code",
   "metadata": {
    "ExecuteTime": {
     "end_time": "2025-02-11T10:01:21.257389Z",
     "start_time": "2025-02-11T10:01:21.249667Z"
    }
   },
   "source": [
    "class Kledingstuk:\n",
    "\n",
    "    def __init__(self, merk, maat, prijs):\n",
    "        self.merk = merk\n",
    "        self.maat = maat\n",
    "        self.prijs = prijs\n",
    "\n",
    "    def beschrijf(self):\n",
    "            return f\"Merk: {self.merk},Maat: {self.maat } Prijs:  { self.prijs}\"\n",
    "\n",
    "class Broek(Kledingstuk):\n",
    "    def __init__(self, merk, maat, prijs, broek_type):\n",
    "        super().__init__(merk, maat, prijs)\n",
    "        self.broek_type = broek_type\n",
    "\n",
    "    def beschrijf(self):\n",
    "            return f\"{super().beschrijf()}, Broek: {self.broek_type}\"\n",
    "\n",
    "class Shirt(Kledingstuk):\n",
    "    def __init__(self, merk, maat, prijs, shirt_type):\n",
    "        super().__init__(merk, maat, prijs)\n",
    "        self.shirt_type = shirt_type\n",
    "\n",
    "    def beschrijf(self):\n",
    "            return f\"{super().beschrijf()}, Shirt:  {self.shirt_type}\"\n",
    "\n",
    "class Spijkerbroek(Broek):\n",
    "    def __init__(self, merk, maat, prijs, broek_type, blauwtint):\n",
    "        super().__init__(merk, maat, prijs, broek_type)\n",
    "        self.blauwtint = blauwtint\n",
    "\n",
    "    def beschrijf(self):\n",
    "            return f\"{super().beschrijf()}, Blauwtint:  {self.blauwtint}\"\n",
    "\n",
    "class Poloshirt(Shirt):\n",
    "    def __init__(self, merk, maat, prijs, shirt_type, kraagsoort):\n",
    "        super().__init__(merk, maat, prijs, shirt_type)\n",
    "        self.kraagsoort = kraagsoort\n",
    "\n",
    "    def beschrijf(self):\n",
    "            return f\"{super().beschrijf()}, kraagsoort:  {self.kraagsoort}\"\n",
    "\n",
    "\n",
    "kledingstuk = Kledingstuk(\"Nike\", \"M\", 50)\n",
    "broek = Broek(\"Levi\", \"L\", 80, \"blauw\")\n",
    "shirt = Shirt(\"Nike\", \"M\", 80, \"speed\")\n",
    "spijkerbroek = Spijkerbroek(\"Nike\", \"M\", 80, \"test\", \"test2\")\n",
    "poloshirt = Poloshirt(\"Nike\", \"M\", 80, \"test3\", \"test4\")\n",
    "\n",
    "print(kledingstuk.beschrijf())\n",
    "print(broek.beschrijf())\n",
    "print(shirt.beschrijf())\n",
    "print(spijkerbroek.beschrijf())\n",
    "print(poloshirt.beschrijf())\n",
    "\n"
   ],
   "outputs": [
    {
     "name": "stdout",
     "output_type": "stream",
     "text": [
      "Merk: Nike,Maat: M Prijs:  50\n",
      "Merk: Levi,Maat: L Prijs:  80, Broek: blauw\n",
      "Merk: Nike,Maat: M Prijs:  80, Shirt:  speed\n",
      "Merk: Nike,Maat: M Prijs:  80, Broek: test, Blauwtint:  test2\n",
      "Merk: Nike,Maat: M Prijs:  80, Shirt:  test3, kraagsoort:  test4\n"
     ]
    }
   ],
   "execution_count": 13
  },
  {
   "cell_type": "markdown",
   "metadata": {},
   "source": [
    "Opmerking: in themaweken 2 t/m 8 ga je objectoriëntatie waarschijnlijk veel minder vaak gebruiken dan de andere boven- en ondergenoemde programmeertechnieken.<br>\n",
    "Maar let op: in themaweken 9 en 10 komt objectoriëntatie <b><u>uitvoerig</u></b> aan de orde. Zorg dus dat je deze kennis niet vergeet!"
   ]
  },
  {
   "cell_type": "markdown",
   "metadata": {},
   "source": [
    "## Verzamelingen"
   ]
  },
  {
   "cell_type": "markdown",
   "metadata": {},
   "source": [
    "Kijk nu naar alle info onder het kopje *Verzamelingen* van de cheatsheet *Van Java naar Python - Cheatsheet*."
   ]
  },
  {
   "cell_type": "markdown",
   "metadata": {},
   "source": [
    "Initialiseer een lijst met de naam mijn_lijst met de volgende waarden:<br>\n",
    "Jelle, Marleen, Henk, Fatima, Jelle, Henk"
   ]
  },
  {
   "cell_type": "code",
   "metadata": {
    "ExecuteTime": {
     "end_time": "2025-02-11T10:06:17.563545Z",
     "start_time": "2025-02-11T10:06:17.560536Z"
    }
   },
   "source": [
    "mijn_lijst = [\"Jelle\", \"Marleen\", \"Henk\", \"Fatima\", \"Jelle\", \"Henk\"]\n",
    "print(mijn_lijst)\n"
   ],
   "outputs": [
    {
     "name": "stdout",
     "output_type": "stream",
     "text": [
      "['Jelle', 'Marleen', 'Henk', 'Fatima', 'Jelle', 'Henk']\n"
     ]
    }
   ],
   "execution_count": 16
  },
  {
   "cell_type": "markdown",
   "metadata": {},
   "source": [
    "Probeer nu de eerste waarde uit te lijst te veranderen in een naam naar keuze. Lukt dat?"
   ]
  },
  {
   "cell_type": "code",
   "metadata": {
    "ExecuteTime": {
     "end_time": "2025-02-11T10:08:03.375815Z",
     "start_time": "2025-02-11T10:08:03.372503Z"
    }
   },
   "source": [
    "mijn_lijst[0] = \"Speed\"\n",
    "print(mijn_lijst[0])"
   ],
   "outputs": [
    {
     "name": "stdout",
     "output_type": "stream",
     "text": [
      "Speed\n"
     ]
    }
   ],
   "execution_count": 18
  },
  {
   "cell_type": "markdown",
   "metadata": {},
   "source": [
    "Maak van bovengenoemde lijst nu een tupel, genaamd: mijn_tupel."
   ]
  },
  {
   "cell_type": "code",
   "metadata": {
    "ExecuteTime": {
     "end_time": "2025-02-11T19:57:45.858795Z",
     "start_time": "2025-02-11T19:57:45.849777Z"
    }
   },
   "source": [
    "mijn_tupel = mijn_lijst\n",
    "print(mijn_tupel)"
   ],
   "outputs": [
    {
     "name": "stdout",
     "output_type": "stream",
     "text": [
      "['Speed', 'Marleen', 'Henk', 'Fatima', 'Jelle', 'Henk']\n"
     ]
    }
   ],
   "execution_count": 21
  },
  {
   "cell_type": "markdown",
   "metadata": {},
   "source": [
    "Probeer nu de eerste waarde uit te tupel te veranderen in een naam naar keuze. Lukt dat?"
   ]
  },
  {
   "cell_type": "code",
   "metadata": {
    "ExecuteTime": {
     "end_time": "2025-02-11T19:59:07.619292Z",
     "start_time": "2025-02-11T19:59:07.614713Z"
    }
   },
   "source": [
    "mijn_tupel[0] = \"McQueen\"\n",
    "print(mijn_tupel[0])"
   ],
   "outputs": [
    {
     "name": "stdout",
     "output_type": "stream",
     "text": [
      "McQueen\n"
     ]
    }
   ],
   "execution_count": 22
  },
  {
   "cell_type": "markdown",
   "metadata": {},
   "source": [
    "Initialiseer een dictionary met de volgende key-value-combinaties:\n",
    "- naam: \"Jelle\"\n",
    "- leeftijd: 28\n",
    "- beroep: \"Docent\"\n",
    "- hobby: \"Volleybal\""
   ]
  },
  {
   "cell_type": "code",
   "metadata": {
    "ExecuteTime": {
     "end_time": "2025-02-11T20:02:54.227551Z",
     "start_time": "2025-02-11T20:02:54.223276Z"
    }
   },
   "source": [
    "mijn_dict = {\n",
    "    'naam' : \"Jelle\",\n",
    "    'Leeftijd' : 28,\n",
    "    'beroep' : \"Docent\",\n",
    "    'hobby' : \"Volleybal\"\n",
    "}\n",
    "\n",
    "print(mijn_dict)"
   ],
   "outputs": [
    {
     "name": "stdout",
     "output_type": "stream",
     "text": [
      "{'naam': 'Jelle', 'Leeftijd': 28, 'beroep': 'Docent', 'hobby': 'Volleybal'}\n"
     ]
    }
   ],
   "execution_count": 25
  },
  {
   "cell_type": "markdown",
   "metadata": {},
   "source": [
    "Probeer nu de naam te veranderen naar een naam naar keuze. Lukt dat?"
   ]
  },
  {
   "cell_type": "code",
   "metadata": {
    "ExecuteTime": {
     "end_time": "2025-02-11T20:03:50.019604Z",
     "start_time": "2025-02-11T20:03:50.014750Z"
    }
   },
   "source": [
    "mijn_dict['naam'] = \"Lightning McQueen\"\n",
    "print(mijn_dict)"
   ],
   "outputs": [
    {
     "name": "stdout",
     "output_type": "stream",
     "text": [
      "{'naam': 'Lightning McQueen', 'Leeftijd': 28, 'beroep': 'Docent', 'hobby': 'Volleybal'}\n"
     ]
    }
   ],
   "execution_count": 26
  }
 ],
 "metadata": {
  "kernelspec": {
   "display_name": "python-in-deds-P4iSP_yI-py3.11",
   "language": "python",
   "name": "python3"
  },
  "language_info": {
   "codemirror_mode": {
    "name": "ipython",
    "version": 3
   },
   "file_extension": ".py",
   "mimetype": "text/x-python",
   "name": "python",
   "nbconvert_exporter": "python",
   "pygments_lexer": "ipython3",
   "version": "3.11.3"
  }
 },
 "nbformat": 4,
 "nbformat_minor": 2
}
