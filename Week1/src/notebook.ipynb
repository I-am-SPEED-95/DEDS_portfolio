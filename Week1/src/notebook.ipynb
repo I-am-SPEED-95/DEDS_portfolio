{
 "cells": [
  {
   "cell_type": "markdown",
   "metadata": {},
   "source": [
    "# Werkcollege-opdrachten Week 1.3"
   ]
  },
  {
   "cell_type": "markdown",
   "metadata": {},
   "source": [
    "## Dependencies importeren"
   ]
  },
  {
   "cell_type": "markdown",
   "metadata": {},
   "source": [
    "Kopieer in het codeblok hieronder van het vorige practicum de import-code voor de dependencies die het vaakst worden gebruikt om data in te lezen. Geef er ook de gebruikelijke aliassen aan.<br>\n",
    "Zet eventuele warnings uit."
   ]
  },
  {
   "cell_type": "code",
   "metadata": {
    "ExecuteTime": {
     "end_time": "2025-02-16T19:09:48.264902Z",
     "start_time": "2025-02-16T19:09:43.639371Z"
    }
   },
   "source": [
    "import sqlite3\n",
    "from pickle import HIGHEST_PROTOCOL\n",
    "\n",
    "import pandas as pd\n",
    "import warnings\n",
    "\n",
    "from pygments import highlight\n",
    "from win32netcon import ACCESS_GROUP\n",
    "\n",
    "warnings.simplefilter('ignore')"
   ],
   "outputs": [],
   "execution_count": 5
  },
  {
   "cell_type": "markdown",
   "metadata": {},
   "source": [
    "Zet het bestand go_sales_train.sqlite in een makkelijk te vinden map"
   ]
  },
  {
   "cell_type": "markdown",
   "metadata": {},
   "source": [
    "## Databasetabellen inlezen"
   ]
  },
  {
   "cell_type": "markdown",
   "metadata": {},
   "source": [
    "Kopieer in het codeblok hieronder van het vorige practicum de code om een connectie met het bestand go_sales_train.sqlite te maken."
   ]
  },
  {
   "cell_type": "code",
   "metadata": {
    "ExecuteTime": {
     "end_time": "2025-02-16T19:09:48.280533Z",
     "start_time": "2025-02-16T19:09:48.275594Z"
    }
   },
   "source": "conn = sqlite3.connect('../Makkelijk_te_vinden_map/go_sales_train.sqlite')",
   "outputs": [],
   "execution_count": 6
  },
  {
   "cell_type": "markdown",
   "metadata": {},
   "source": [
    "Lees van de ingelezen go_sales_train-database te volgende tabellen in met behulp van \"SELECT * FROM *tabel*\".\n",
    "- product\n",
    "- product_type\n",
    "- product_line\n",
    "- sales_staff\n",
    "- sales_branch\n",
    "- retailer_site\n",
    "- country\n",
    "- order_header\n",
    "- order_details\n",
    "- returned_item\n",
    "- return_reason"
   ]
  },
  {
   "cell_type": "code",
   "metadata": {
    "ExecuteTime": {
     "end_time": "2025-02-16T19:09:48.371585Z",
     "start_time": "2025-02-16T19:09:48.350129Z"
    }
   },
   "source": [
    "sql_query = \"SELECT * FROM sqlite_master WHERE type='table';\"\n",
    "tables = pd.read_sql_query(sql_query, conn)\n",
    "tables"
   ],
   "outputs": [
    {
     "data": {
      "text/plain": [
       "     type           name       tbl_name  rootpage  \\\n",
       "0   table        country        country       480   \n",
       "1   table  order_details  order_details        11   \n",
       "2   table   order_header   order_header        24   \n",
       "3   table   order_method   order_method        27   \n",
       "4   table        product        product        28   \n",
       "5   table   product_line   product_line        17   \n",
       "6   table   product_type   product_type        10   \n",
       "7   table  retailer_site  retailer_site        18   \n",
       "8   table  return_reason  return_reason        30   \n",
       "9   table  returned_item  returned_item        31   \n",
       "10  table   sales_branch   sales_branch         2   \n",
       "11  table    sales_staff    sales_staff         3   \n",
       "\n",
       "                                                  sql  \n",
       "0   CREATE TABLE \"country\" (\\n\\t\"COUNTRY_CODE\"\\tIN...  \n",
       "1   CREATE TABLE \"order_details\" (\\n\\t\"ORDER_DETAI...  \n",
       "2   CREATE TABLE \"order_header\" (\\n\\t\"ORDER_NUMBER...  \n",
       "3   CREATE TABLE \"order_method\" (\\n\\t\"ORDER_METHOD...  \n",
       "4   CREATE TABLE \"product\" (\\n\\t\"PRODUCT_NUMBER\"\\t...  \n",
       "5   CREATE TABLE \"product_line\" (\\n\\t\"PRODUCT_LINE...  \n",
       "6   CREATE TABLE \"product_type\" (\\n\\t\"PRODUCT_TYPE...  \n",
       "7   CREATE TABLE \"retailer_site\" (\\n\\t\"RETAILER_SI...  \n",
       "8   CREATE TABLE \"return_reason\" (\\n\\t\"RETURN_REAS...  \n",
       "9   CREATE TABLE \"returned_item\" (\\n\\t\"RETURN_CODE...  \n",
       "10  CREATE TABLE \"sales_branch\" (\\n\\t\"SALES_BRANCH...  \n",
       "11  CREATE TABLE \"sales_staff\" (\\n\\t\"SALES_STAFF_C...  "
      ],
      "text/html": [
       "<div>\n",
       "<style scoped>\n",
       "    .dataframe tbody tr th:only-of-type {\n",
       "        vertical-align: middle;\n",
       "    }\n",
       "\n",
       "    .dataframe tbody tr th {\n",
       "        vertical-align: top;\n",
       "    }\n",
       "\n",
       "    .dataframe thead th {\n",
       "        text-align: right;\n",
       "    }\n",
       "</style>\n",
       "<table border=\"1\" class=\"dataframe\">\n",
       "  <thead>\n",
       "    <tr style=\"text-align: right;\">\n",
       "      <th></th>\n",
       "      <th>type</th>\n",
       "      <th>name</th>\n",
       "      <th>tbl_name</th>\n",
       "      <th>rootpage</th>\n",
       "      <th>sql</th>\n",
       "    </tr>\n",
       "  </thead>\n",
       "  <tbody>\n",
       "    <tr>\n",
       "      <th>0</th>\n",
       "      <td>table</td>\n",
       "      <td>country</td>\n",
       "      <td>country</td>\n",
       "      <td>480</td>\n",
       "      <td>CREATE TABLE \"country\" (\\n\\t\"COUNTRY_CODE\"\\tIN...</td>\n",
       "    </tr>\n",
       "    <tr>\n",
       "      <th>1</th>\n",
       "      <td>table</td>\n",
       "      <td>order_details</td>\n",
       "      <td>order_details</td>\n",
       "      <td>11</td>\n",
       "      <td>CREATE TABLE \"order_details\" (\\n\\t\"ORDER_DETAI...</td>\n",
       "    </tr>\n",
       "    <tr>\n",
       "      <th>2</th>\n",
       "      <td>table</td>\n",
       "      <td>order_header</td>\n",
       "      <td>order_header</td>\n",
       "      <td>24</td>\n",
       "      <td>CREATE TABLE \"order_header\" (\\n\\t\"ORDER_NUMBER...</td>\n",
       "    </tr>\n",
       "    <tr>\n",
       "      <th>3</th>\n",
       "      <td>table</td>\n",
       "      <td>order_method</td>\n",
       "      <td>order_method</td>\n",
       "      <td>27</td>\n",
       "      <td>CREATE TABLE \"order_method\" (\\n\\t\"ORDER_METHOD...</td>\n",
       "    </tr>\n",
       "    <tr>\n",
       "      <th>4</th>\n",
       "      <td>table</td>\n",
       "      <td>product</td>\n",
       "      <td>product</td>\n",
       "      <td>28</td>\n",
       "      <td>CREATE TABLE \"product\" (\\n\\t\"PRODUCT_NUMBER\"\\t...</td>\n",
       "    </tr>\n",
       "    <tr>\n",
       "      <th>5</th>\n",
       "      <td>table</td>\n",
       "      <td>product_line</td>\n",
       "      <td>product_line</td>\n",
       "      <td>17</td>\n",
       "      <td>CREATE TABLE \"product_line\" (\\n\\t\"PRODUCT_LINE...</td>\n",
       "    </tr>\n",
       "    <tr>\n",
       "      <th>6</th>\n",
       "      <td>table</td>\n",
       "      <td>product_type</td>\n",
       "      <td>product_type</td>\n",
       "      <td>10</td>\n",
       "      <td>CREATE TABLE \"product_type\" (\\n\\t\"PRODUCT_TYPE...</td>\n",
       "    </tr>\n",
       "    <tr>\n",
       "      <th>7</th>\n",
       "      <td>table</td>\n",
       "      <td>retailer_site</td>\n",
       "      <td>retailer_site</td>\n",
       "      <td>18</td>\n",
       "      <td>CREATE TABLE \"retailer_site\" (\\n\\t\"RETAILER_SI...</td>\n",
       "    </tr>\n",
       "    <tr>\n",
       "      <th>8</th>\n",
       "      <td>table</td>\n",
       "      <td>return_reason</td>\n",
       "      <td>return_reason</td>\n",
       "      <td>30</td>\n",
       "      <td>CREATE TABLE \"return_reason\" (\\n\\t\"RETURN_REAS...</td>\n",
       "    </tr>\n",
       "    <tr>\n",
       "      <th>9</th>\n",
       "      <td>table</td>\n",
       "      <td>returned_item</td>\n",
       "      <td>returned_item</td>\n",
       "      <td>31</td>\n",
       "      <td>CREATE TABLE \"returned_item\" (\\n\\t\"RETURN_CODE...</td>\n",
       "    </tr>\n",
       "    <tr>\n",
       "      <th>10</th>\n",
       "      <td>table</td>\n",
       "      <td>sales_branch</td>\n",
       "      <td>sales_branch</td>\n",
       "      <td>2</td>\n",
       "      <td>CREATE TABLE \"sales_branch\" (\\n\\t\"SALES_BRANCH...</td>\n",
       "    </tr>\n",
       "    <tr>\n",
       "      <th>11</th>\n",
       "      <td>table</td>\n",
       "      <td>sales_staff</td>\n",
       "      <td>sales_staff</td>\n",
       "      <td>3</td>\n",
       "      <td>CREATE TABLE \"sales_staff\" (\\n\\t\"SALES_STAFF_C...</td>\n",
       "    </tr>\n",
       "  </tbody>\n",
       "</table>\n",
       "</div>"
      ]
     },
     "execution_count": 7,
     "metadata": {},
     "output_type": "execute_result"
    }
   ],
   "execution_count": 7
  },
  {
   "cell_type": "markdown",
   "metadata": {},
   "source": [
    "Krijg je een \"no such table\" error? Dan heb je misschien met .connect() per ongeluk een leeg  databasebestand (.sqlite) aangemaakt. <u>Let op:</u> lees eventueel de informatie uit het Notebook van werkcollege 1.1b nog eens goed door."
   ]
  },
  {
   "cell_type": "markdown",
   "metadata": {},
   "source": [
    "Als je tijdens onderstaande opdrachten uit het oog verliest welke tabellen er allemaal zijn, kan je deze Pythoncode uitvoeren:"
   ]
  },
  {
   "cell_type": "code",
   "metadata": {
    "ExecuteTime": {
     "end_time": "2025-02-16T19:09:48.409661Z",
     "start_time": "2025-02-16T19:09:48.399139Z"
    }
   },
   "source": [
    "sql_query = \"SELECT name FROM sqlite_master WHERE type='table';\"\n",
    "#Vul dit codeblok verder in\n",
    "Naam_tabellen = pd.read_sql(sql_query, conn)\n",
    "#Op de puntjes hoort de connectie naar go_sales_train óf go_staff_train óf go_crm_train te staan.\n",
    "Naam_tabellen"
   ],
   "outputs": [
    {
     "data": {
      "text/plain": [
       "             name\n",
       "0         country\n",
       "1   order_details\n",
       "2    order_header\n",
       "3    order_method\n",
       "4         product\n",
       "5    product_line\n",
       "6    product_type\n",
       "7   retailer_site\n",
       "8   return_reason\n",
       "9   returned_item\n",
       "10   sales_branch\n",
       "11    sales_staff"
      ],
      "text/html": [
       "<div>\n",
       "<style scoped>\n",
       "    .dataframe tbody tr th:only-of-type {\n",
       "        vertical-align: middle;\n",
       "    }\n",
       "\n",
       "    .dataframe tbody tr th {\n",
       "        vertical-align: top;\n",
       "    }\n",
       "\n",
       "    .dataframe thead th {\n",
       "        text-align: right;\n",
       "    }\n",
       "</style>\n",
       "<table border=\"1\" class=\"dataframe\">\n",
       "  <thead>\n",
       "    <tr style=\"text-align: right;\">\n",
       "      <th></th>\n",
       "      <th>name</th>\n",
       "    </tr>\n",
       "  </thead>\n",
       "  <tbody>\n",
       "    <tr>\n",
       "      <th>0</th>\n",
       "      <td>country</td>\n",
       "    </tr>\n",
       "    <tr>\n",
       "      <th>1</th>\n",
       "      <td>order_details</td>\n",
       "    </tr>\n",
       "    <tr>\n",
       "      <th>2</th>\n",
       "      <td>order_header</td>\n",
       "    </tr>\n",
       "    <tr>\n",
       "      <th>3</th>\n",
       "      <td>order_method</td>\n",
       "    </tr>\n",
       "    <tr>\n",
       "      <th>4</th>\n",
       "      <td>product</td>\n",
       "    </tr>\n",
       "    <tr>\n",
       "      <th>5</th>\n",
       "      <td>product_line</td>\n",
       "    </tr>\n",
       "    <tr>\n",
       "      <th>6</th>\n",
       "      <td>product_type</td>\n",
       "    </tr>\n",
       "    <tr>\n",
       "      <th>7</th>\n",
       "      <td>retailer_site</td>\n",
       "    </tr>\n",
       "    <tr>\n",
       "      <th>8</th>\n",
       "      <td>return_reason</td>\n",
       "    </tr>\n",
       "    <tr>\n",
       "      <th>9</th>\n",
       "      <td>returned_item</td>\n",
       "    </tr>\n",
       "    <tr>\n",
       "      <th>10</th>\n",
       "      <td>sales_branch</td>\n",
       "    </tr>\n",
       "    <tr>\n",
       "      <th>11</th>\n",
       "      <td>sales_staff</td>\n",
       "    </tr>\n",
       "  </tbody>\n",
       "</table>\n",
       "</div>"
      ]
     },
     "execution_count": 8,
     "metadata": {},
     "output_type": "execute_result"
    }
   ],
   "execution_count": 8
  },
  {
   "cell_type": "markdown",
   "metadata": {},
   "source": [
    "erachter "
   ]
  },
  {
   "cell_type": "markdown",
   "metadata": {},
   "source": [
    "Let op! Voor alle onderstaande opdrachten mag je <u>alleen Python</u> gebruiken, <u>geen SQL!</u>"
   ]
  },
  {
   "cell_type": "markdown",
   "metadata": {},
   "source": [
    "## Selecties op één tabel zonder functies"
   ]
  },
  {
   "cell_type": "markdown",
   "metadata": {},
   "source": [
    "Geef een overzicht met daarin de producten en hun productiekosten waarvan de productiekosten lager dan 100 dollar en hoger dan 50 dollar ligt. (2 kolommen, 23 rijen)"
   ]
  },
  {
   "cell_type": "code",
   "metadata": {
    "ExecuteTime": {
     "end_time": "2025-02-16T19:09:48.508723Z",
     "start_time": "2025-02-16T19:09:48.492852Z"
    }
   },
   "source": [
    "sql_query = \"SELECT * FROM product ;\"\n",
    "products = pd.read_sql_query(sql_query, conn)\n",
    "products_dataframe = pd.DataFrame(products)\n",
    "\n",
    "products_tussen_100_en_50 = (products_dataframe['PRODUCTION_COST'] >=50) & (products_dataframe['PRODUCTION_COST'] <=100)\n",
    "\n",
    "products_dataframe.loc[products_tussen_100_en_50, ['PRODUCT_NAME','PRODUCTION_COST']]"
   ],
   "outputs": [
    {
     "data": {
      "text/plain": [
       "                        PRODUCT_NAME  PRODUCTION_COST\n",
       "5          TrailChef Deluxe Cook Set            85.11\n",
       "7             TrailChef Double Flame            75.00\n",
       "16                   Hibernator Lite            60.00\n",
       "17                        Hibernator            86.00\n",
       "19   Hibernator Self - Inflating Mat            78.55\n",
       "22               Hibernator Camp Cot            65.33\n",
       "23      Canyon Mule Climber Backpack            62.50\n",
       "45           Granite Climbing Helmet            52.86\n",
       "47             Husky Harness Extreme            55.00\n",
       "57                    Granite Hammer            57.13\n",
       "68                         Polar Ice            73.33\n",
       "69                      Polar Sports            80.00\n",
       "70                        Polar Wave            60.00\n",
       "71                     Polar Extreme            72.50\n",
       "74                      Edge Extreme            80.00\n",
       "77                         Seeker 35            79.19\n",
       "78                         Seeker 50            92.58\n",
       "79                    Seeker Extreme            94.12\n",
       "82                    Glacier Deluxe            56.25\n",
       "83                       Glacier GPS            78.55\n",
       "109                Blue Steel Putter            60.00\n",
       "110            Blue Steel Max Putter            81.80\n",
       "113              Course Pro Golf Bag            80.00"
      ],
      "text/html": [
       "<div>\n",
       "<style scoped>\n",
       "    .dataframe tbody tr th:only-of-type {\n",
       "        vertical-align: middle;\n",
       "    }\n",
       "\n",
       "    .dataframe tbody tr th {\n",
       "        vertical-align: top;\n",
       "    }\n",
       "\n",
       "    .dataframe thead th {\n",
       "        text-align: right;\n",
       "    }\n",
       "</style>\n",
       "<table border=\"1\" class=\"dataframe\">\n",
       "  <thead>\n",
       "    <tr style=\"text-align: right;\">\n",
       "      <th></th>\n",
       "      <th>PRODUCT_NAME</th>\n",
       "      <th>PRODUCTION_COST</th>\n",
       "    </tr>\n",
       "  </thead>\n",
       "  <tbody>\n",
       "    <tr>\n",
       "      <th>5</th>\n",
       "      <td>TrailChef Deluxe Cook Set</td>\n",
       "      <td>85.11</td>\n",
       "    </tr>\n",
       "    <tr>\n",
       "      <th>7</th>\n",
       "      <td>TrailChef Double Flame</td>\n",
       "      <td>75.00</td>\n",
       "    </tr>\n",
       "    <tr>\n",
       "      <th>16</th>\n",
       "      <td>Hibernator Lite</td>\n",
       "      <td>60.00</td>\n",
       "    </tr>\n",
       "    <tr>\n",
       "      <th>17</th>\n",
       "      <td>Hibernator</td>\n",
       "      <td>86.00</td>\n",
       "    </tr>\n",
       "    <tr>\n",
       "      <th>19</th>\n",
       "      <td>Hibernator Self - Inflating Mat</td>\n",
       "      <td>78.55</td>\n",
       "    </tr>\n",
       "    <tr>\n",
       "      <th>22</th>\n",
       "      <td>Hibernator Camp Cot</td>\n",
       "      <td>65.33</td>\n",
       "    </tr>\n",
       "    <tr>\n",
       "      <th>23</th>\n",
       "      <td>Canyon Mule Climber Backpack</td>\n",
       "      <td>62.50</td>\n",
       "    </tr>\n",
       "    <tr>\n",
       "      <th>45</th>\n",
       "      <td>Granite Climbing Helmet</td>\n",
       "      <td>52.86</td>\n",
       "    </tr>\n",
       "    <tr>\n",
       "      <th>47</th>\n",
       "      <td>Husky Harness Extreme</td>\n",
       "      <td>55.00</td>\n",
       "    </tr>\n",
       "    <tr>\n",
       "      <th>57</th>\n",
       "      <td>Granite Hammer</td>\n",
       "      <td>57.13</td>\n",
       "    </tr>\n",
       "    <tr>\n",
       "      <th>68</th>\n",
       "      <td>Polar Ice</td>\n",
       "      <td>73.33</td>\n",
       "    </tr>\n",
       "    <tr>\n",
       "      <th>69</th>\n",
       "      <td>Polar Sports</td>\n",
       "      <td>80.00</td>\n",
       "    </tr>\n",
       "    <tr>\n",
       "      <th>70</th>\n",
       "      <td>Polar Wave</td>\n",
       "      <td>60.00</td>\n",
       "    </tr>\n",
       "    <tr>\n",
       "      <th>71</th>\n",
       "      <td>Polar Extreme</td>\n",
       "      <td>72.50</td>\n",
       "    </tr>\n",
       "    <tr>\n",
       "      <th>74</th>\n",
       "      <td>Edge Extreme</td>\n",
       "      <td>80.00</td>\n",
       "    </tr>\n",
       "    <tr>\n",
       "      <th>77</th>\n",
       "      <td>Seeker 35</td>\n",
       "      <td>79.19</td>\n",
       "    </tr>\n",
       "    <tr>\n",
       "      <th>78</th>\n",
       "      <td>Seeker 50</td>\n",
       "      <td>92.58</td>\n",
       "    </tr>\n",
       "    <tr>\n",
       "      <th>79</th>\n",
       "      <td>Seeker Extreme</td>\n",
       "      <td>94.12</td>\n",
       "    </tr>\n",
       "    <tr>\n",
       "      <th>82</th>\n",
       "      <td>Glacier Deluxe</td>\n",
       "      <td>56.25</td>\n",
       "    </tr>\n",
       "    <tr>\n",
       "      <th>83</th>\n",
       "      <td>Glacier GPS</td>\n",
       "      <td>78.55</td>\n",
       "    </tr>\n",
       "    <tr>\n",
       "      <th>109</th>\n",
       "      <td>Blue Steel Putter</td>\n",
       "      <td>60.00</td>\n",
       "    </tr>\n",
       "    <tr>\n",
       "      <th>110</th>\n",
       "      <td>Blue Steel Max Putter</td>\n",
       "      <td>81.80</td>\n",
       "    </tr>\n",
       "    <tr>\n",
       "      <th>113</th>\n",
       "      <td>Course Pro Golf Bag</td>\n",
       "      <td>80.00</td>\n",
       "    </tr>\n",
       "  </tbody>\n",
       "</table>\n",
       "</div>"
      ]
     },
     "execution_count": 9,
     "metadata": {},
     "output_type": "execute_result"
    }
   ],
   "execution_count": 9
  },
  {
   "cell_type": "markdown",
   "metadata": {},
   "source": [
    "Geef een overzicht met daarin de producten en hun marge waarvan de marge lager dan 20 % of hoger dan 60 % ligt. (2 kolommen, 7 rijen) "
   ]
  },
  {
   "cell_type": "code",
   "metadata": {
    "ExecuteTime": {
     "end_time": "2025-02-16T19:09:48.704923Z",
     "start_time": "2025-02-16T19:09:48.690676Z"
    }
   },
   "source": [
    "products_margin_ding = (products_dataframe['MARGIN'] < 0.2) | (products_dataframe['MARGIN'] >0.6)\n",
    "\n",
    "products_dataframe.loc[products_margin_ding, ['PRODUCT_NAME', 'MARGIN']]"
   ],
   "outputs": [
    {
     "data": {
      "text/plain": [
       "                    PRODUCT_NAME  MARGIN\n",
       "20                Hibernator Pad    0.17\n",
       "23  Canyon Mule Climber Backpack    0.17\n",
       "85             BugShield Natural    0.67\n",
       "86               BugShield Spray    0.67\n",
       "87         BugShield Lotion Lite    0.70\n",
       "88              BugShield Lotion    0.63\n",
       "89             BugShield Extreme    0.63"
      ],
      "text/html": [
       "<div>\n",
       "<style scoped>\n",
       "    .dataframe tbody tr th:only-of-type {\n",
       "        vertical-align: middle;\n",
       "    }\n",
       "\n",
       "    .dataframe tbody tr th {\n",
       "        vertical-align: top;\n",
       "    }\n",
       "\n",
       "    .dataframe thead th {\n",
       "        text-align: right;\n",
       "    }\n",
       "</style>\n",
       "<table border=\"1\" class=\"dataframe\">\n",
       "  <thead>\n",
       "    <tr style=\"text-align: right;\">\n",
       "      <th></th>\n",
       "      <th>PRODUCT_NAME</th>\n",
       "      <th>MARGIN</th>\n",
       "    </tr>\n",
       "  </thead>\n",
       "  <tbody>\n",
       "    <tr>\n",
       "      <th>20</th>\n",
       "      <td>Hibernator Pad</td>\n",
       "      <td>0.17</td>\n",
       "    </tr>\n",
       "    <tr>\n",
       "      <th>23</th>\n",
       "      <td>Canyon Mule Climber Backpack</td>\n",
       "      <td>0.17</td>\n",
       "    </tr>\n",
       "    <tr>\n",
       "      <th>85</th>\n",
       "      <td>BugShield Natural</td>\n",
       "      <td>0.67</td>\n",
       "    </tr>\n",
       "    <tr>\n",
       "      <th>86</th>\n",
       "      <td>BugShield Spray</td>\n",
       "      <td>0.67</td>\n",
       "    </tr>\n",
       "    <tr>\n",
       "      <th>87</th>\n",
       "      <td>BugShield Lotion Lite</td>\n",
       "      <td>0.70</td>\n",
       "    </tr>\n",
       "    <tr>\n",
       "      <th>88</th>\n",
       "      <td>BugShield Lotion</td>\n",
       "      <td>0.63</td>\n",
       "    </tr>\n",
       "    <tr>\n",
       "      <th>89</th>\n",
       "      <td>BugShield Extreme</td>\n",
       "      <td>0.63</td>\n",
       "    </tr>\n",
       "  </tbody>\n",
       "</table>\n",
       "</div>"
      ]
     },
     "execution_count": 10,
     "metadata": {},
     "output_type": "execute_result"
    }
   ],
   "execution_count": 10
  },
  {
   "cell_type": "markdown",
   "metadata": {},
   "source": [
    "Geef een overzicht met daarin de landen waar met francs wordt betaald. Sorteer de uitkomst op land.  (1 kolom, 3 rijen)"
   ]
  },
  {
   "cell_type": "code",
   "metadata": {
    "ExecuteTime": {
     "end_time": "2025-02-16T19:09:49.097725Z",
     "start_time": "2025-02-16T19:09:49.088426Z"
    }
   },
   "source": [
    "sql_query = \"SELECT * FROM country ;\"\n",
    "country = pd.read_sql_query(sql_query, conn)\n",
    "country_dataframe = pd.DataFrame(country)\n",
    "\n",
    "country_francs = country_dataframe['CURRENCY_NAME'] == 'francs'\n",
    "\n",
    "country_dataframe.loc[country_francs, ['COUNTRY']]"
   ],
   "outputs": [
    {
     "data": {
      "text/plain": [
       "        COUNTRY\n",
       "0        France\n",
       "7   Switzerland\n",
       "15      Belgium"
      ],
      "text/html": [
       "<div>\n",
       "<style scoped>\n",
       "    .dataframe tbody tr th:only-of-type {\n",
       "        vertical-align: middle;\n",
       "    }\n",
       "\n",
       "    .dataframe tbody tr th {\n",
       "        vertical-align: top;\n",
       "    }\n",
       "\n",
       "    .dataframe thead th {\n",
       "        text-align: right;\n",
       "    }\n",
       "</style>\n",
       "<table border=\"1\" class=\"dataframe\">\n",
       "  <thead>\n",
       "    <tr style=\"text-align: right;\">\n",
       "      <th></th>\n",
       "      <th>COUNTRY</th>\n",
       "    </tr>\n",
       "  </thead>\n",
       "  <tbody>\n",
       "    <tr>\n",
       "      <th>0</th>\n",
       "      <td>France</td>\n",
       "    </tr>\n",
       "    <tr>\n",
       "      <th>7</th>\n",
       "      <td>Switzerland</td>\n",
       "    </tr>\n",
       "    <tr>\n",
       "      <th>15</th>\n",
       "      <td>Belgium</td>\n",
       "    </tr>\n",
       "  </tbody>\n",
       "</table>\n",
       "</div>"
      ]
     },
     "execution_count": 11,
     "metadata": {},
     "output_type": "execute_result"
    }
   ],
   "execution_count": 11
  },
  {
   "cell_type": "markdown",
   "metadata": {},
   "source": [
    "Geef een overzicht met daarin de verschillende introductiedatums waarop producten met meer dan 50% marge worden geïntroduceerd (1 kolom, 7 rijen) "
   ]
  },
  {
   "cell_type": "code",
   "metadata": {
    "ExecuteTime": {
     "end_time": "2025-02-16T19:09:49.400730Z",
     "start_time": "2025-02-16T19:09:49.387191Z"
    }
   },
   "source": [
    "introductiedatums_meer_dan_50 = products_dataframe['MARGIN'] > 0.5\n",
    "\n",
    "introductie = products_dataframe.loc[introductiedatums_meer_dan_50, ['INTRODUCTION_DATE']]\n",
    "unieke_introductie = introductie.drop_duplicates()\n",
    "unieke_introductie"
   ],
   "outputs": [
    {
     "data": {
      "text/plain": [
       "    INTRODUCTION_DATE\n",
       "66         2000-10-26\n",
       "85         1995-02-15\n",
       "101        2003-12-10\n",
       "103        2003-12-18\n",
       "104        2003-12-27\n",
       "106        2004-01-13\n",
       "110        2003-12-15"
      ],
      "text/html": [
       "<div>\n",
       "<style scoped>\n",
       "    .dataframe tbody tr th:only-of-type {\n",
       "        vertical-align: middle;\n",
       "    }\n",
       "\n",
       "    .dataframe tbody tr th {\n",
       "        vertical-align: top;\n",
       "    }\n",
       "\n",
       "    .dataframe thead th {\n",
       "        text-align: right;\n",
       "    }\n",
       "</style>\n",
       "<table border=\"1\" class=\"dataframe\">\n",
       "  <thead>\n",
       "    <tr style=\"text-align: right;\">\n",
       "      <th></th>\n",
       "      <th>INTRODUCTION_DATE</th>\n",
       "    </tr>\n",
       "  </thead>\n",
       "  <tbody>\n",
       "    <tr>\n",
       "      <th>66</th>\n",
       "      <td>2000-10-26</td>\n",
       "    </tr>\n",
       "    <tr>\n",
       "      <th>85</th>\n",
       "      <td>1995-02-15</td>\n",
       "    </tr>\n",
       "    <tr>\n",
       "      <th>101</th>\n",
       "      <td>2003-12-10</td>\n",
       "    </tr>\n",
       "    <tr>\n",
       "      <th>103</th>\n",
       "      <td>2003-12-18</td>\n",
       "    </tr>\n",
       "    <tr>\n",
       "      <th>104</th>\n",
       "      <td>2003-12-27</td>\n",
       "    </tr>\n",
       "    <tr>\n",
       "      <th>106</th>\n",
       "      <td>2004-01-13</td>\n",
       "    </tr>\n",
       "    <tr>\n",
       "      <th>110</th>\n",
       "      <td>2003-12-15</td>\n",
       "    </tr>\n",
       "  </tbody>\n",
       "</table>\n",
       "</div>"
      ]
     },
     "execution_count": 12,
     "metadata": {},
     "output_type": "execute_result"
    }
   ],
   "execution_count": 12
  },
  {
   "cell_type": "markdown",
   "metadata": {},
   "source": [
    "Geef een overzicht met daarin het eerste adres en de stad van verkoopafdelingen waarvan zowel het tweede adres als de regio bekend is (2 kolommen, 7 rijen)"
   ]
  },
  {
   "cell_type": "code",
   "metadata": {
    "ExecuteTime": {
     "end_time": "2025-02-16T19:09:49.742294Z",
     "start_time": "2025-02-16T19:09:49.731357Z"
    }
   },
   "source": [
    "sql_query = \"SELECT * FROM sales_branch ;\"\n",
    "sales_branch = pd.read_sql_query(sql_query, conn)\n",
    "sales_branch_dataframe = pd.DataFrame(sales_branch)\n",
    "verkoopafdeling = (sales_branch_dataframe['REGION'].notna()) & (sales_branch_dataframe['ADDRESS2'].notna())\n",
    "sales_branch_dataframe.loc[verkoopafdeling, ['ADDRESS1', 'CITY']]\n"
   ],
   "outputs": [
    {
     "data": {
      "text/plain": [
       "                            ADDRESS1              CITY\n",
       "2                Singelgravenplein 4         Amsterdam\n",
       "13  Prol. Paseo de la Reforma No. 51  Distrito Federal\n",
       "14               202-2-3 Hyakunincho             Tokyo\n",
       "15                     543-225 Asahi        Osaka City\n",
       "16                  2315 Queen's Ave         Melbourne\n",
       "18             Avenida Paulista, 333         São Paulo\n",
       "24                    3 Albany Court        Birmingham"
      ],
      "text/html": [
       "<div>\n",
       "<style scoped>\n",
       "    .dataframe tbody tr th:only-of-type {\n",
       "        vertical-align: middle;\n",
       "    }\n",
       "\n",
       "    .dataframe tbody tr th {\n",
       "        vertical-align: top;\n",
       "    }\n",
       "\n",
       "    .dataframe thead th {\n",
       "        text-align: right;\n",
       "    }\n",
       "</style>\n",
       "<table border=\"1\" class=\"dataframe\">\n",
       "  <thead>\n",
       "    <tr style=\"text-align: right;\">\n",
       "      <th></th>\n",
       "      <th>ADDRESS1</th>\n",
       "      <th>CITY</th>\n",
       "    </tr>\n",
       "  </thead>\n",
       "  <tbody>\n",
       "    <tr>\n",
       "      <th>2</th>\n",
       "      <td>Singelgravenplein 4</td>\n",
       "      <td>Amsterdam</td>\n",
       "    </tr>\n",
       "    <tr>\n",
       "      <th>13</th>\n",
       "      <td>Prol. Paseo de la Reforma No. 51</td>\n",
       "      <td>Distrito Federal</td>\n",
       "    </tr>\n",
       "    <tr>\n",
       "      <th>14</th>\n",
       "      <td>202-2-3 Hyakunincho</td>\n",
       "      <td>Tokyo</td>\n",
       "    </tr>\n",
       "    <tr>\n",
       "      <th>15</th>\n",
       "      <td>543-225 Asahi</td>\n",
       "      <td>Osaka City</td>\n",
       "    </tr>\n",
       "    <tr>\n",
       "      <th>16</th>\n",
       "      <td>2315 Queen's Ave</td>\n",
       "      <td>Melbourne</td>\n",
       "    </tr>\n",
       "    <tr>\n",
       "      <th>18</th>\n",
       "      <td>Avenida Paulista, 333</td>\n",
       "      <td>São Paulo</td>\n",
       "    </tr>\n",
       "    <tr>\n",
       "      <th>24</th>\n",
       "      <td>3 Albany Court</td>\n",
       "      <td>Birmingham</td>\n",
       "    </tr>\n",
       "  </tbody>\n",
       "</table>\n",
       "</div>"
      ]
     },
     "execution_count": 13,
     "metadata": {},
     "output_type": "execute_result"
    }
   ],
   "execution_count": 13
  },
  {
   "cell_type": "markdown",
   "metadata": {},
   "source": [
    "Geef een overzicht met daarin de landen waar met dollars (dollars of new dollar) wordt betaald. Sorteer de uitkomst op land. (1 kolom, 4 rijen) "
   ]
  },
  {
   "cell_type": "code",
   "metadata": {
    "ExecuteTime": {
     "end_time": "2025-02-16T19:09:49.956337Z",
     "start_time": "2025-02-16T19:09:49.946228Z"
    }
   },
   "source": [
    "landen_met_dollars = (country_dataframe['CURRENCY_NAME'] == 'dollars') | (country_dataframe['CURRENCY_NAME'] == 'new dollar')\n",
    "country_dataframe.loc[landen_met_dollars, ['COUNTRY']]"
   ],
   "outputs": [
    {
     "data": {
      "text/plain": [
       "          COUNTRY\n",
       "2   United States\n",
       "3          Canada\n",
       "11         Taiwan\n",
       "14      Australia"
      ],
      "text/html": [
       "<div>\n",
       "<style scoped>\n",
       "    .dataframe tbody tr th:only-of-type {\n",
       "        vertical-align: middle;\n",
       "    }\n",
       "\n",
       "    .dataframe tbody tr th {\n",
       "        vertical-align: top;\n",
       "    }\n",
       "\n",
       "    .dataframe thead th {\n",
       "        text-align: right;\n",
       "    }\n",
       "</style>\n",
       "<table border=\"1\" class=\"dataframe\">\n",
       "  <thead>\n",
       "    <tr style=\"text-align: right;\">\n",
       "      <th></th>\n",
       "      <th>COUNTRY</th>\n",
       "    </tr>\n",
       "  </thead>\n",
       "  <tbody>\n",
       "    <tr>\n",
       "      <th>2</th>\n",
       "      <td>United States</td>\n",
       "    </tr>\n",
       "    <tr>\n",
       "      <th>3</th>\n",
       "      <td>Canada</td>\n",
       "    </tr>\n",
       "    <tr>\n",
       "      <th>11</th>\n",
       "      <td>Taiwan</td>\n",
       "    </tr>\n",
       "    <tr>\n",
       "      <th>14</th>\n",
       "      <td>Australia</td>\n",
       "    </tr>\n",
       "  </tbody>\n",
       "</table>\n",
       "</div>"
      ]
     },
     "execution_count": 14,
     "metadata": {},
     "output_type": "execute_result"
    }
   ],
   "execution_count": 14
  },
  {
   "cell_type": "markdown",
   "metadata": {},
   "source": [
    "Geef een overzicht met daarin beide adressen en de stad van vestigingen van klanten waarvan de postcode begint met een ‘D’ (van duitsland). Filter op vestigingen die een tweede adres hebben. (3 kolommen, 2 rijen) "
   ]
  },
  {
   "cell_type": "code",
   "metadata": {
    "ExecuteTime": {
     "end_time": "2025-02-16T19:09:50.324542Z",
     "start_time": "2025-02-16T19:09:50.310645Z"
    }
   },
   "source": [
    "sql_query = \"SELECT * FROM retailer_site ;\"\n",
    "retailer_site = pd.read_sql_query(sql_query, conn)\n",
    "retailer_site_dataframe = pd.DataFrame(retailer_site)\n",
    "postcode_met_D = (retailer_site_dataframe['POSTAL_ZONE'].str[0] == 'D' ) & (retailer_site_dataframe['ADDRESS2'].notna() )\n",
    "retailer_site_dataframe.loc[postcode_met_D, ['ADDRESS1', 'ADDRESS2', 'CITY']]"
   ],
   "outputs": [
    {
     "data": {
      "text/plain": [
       "            ADDRESS1       ADDRESS2       CITY\n",
       "31  Röntgenstraße 90  3. Tür rechts  Frankfurt\n",
       "59   Grubesallee 141       4. Stock    Hamburg"
      ],
      "text/html": [
       "<div>\n",
       "<style scoped>\n",
       "    .dataframe tbody tr th:only-of-type {\n",
       "        vertical-align: middle;\n",
       "    }\n",
       "\n",
       "    .dataframe tbody tr th {\n",
       "        vertical-align: top;\n",
       "    }\n",
       "\n",
       "    .dataframe thead th {\n",
       "        text-align: right;\n",
       "    }\n",
       "</style>\n",
       "<table border=\"1\" class=\"dataframe\">\n",
       "  <thead>\n",
       "    <tr style=\"text-align: right;\">\n",
       "      <th></th>\n",
       "      <th>ADDRESS1</th>\n",
       "      <th>ADDRESS2</th>\n",
       "      <th>CITY</th>\n",
       "    </tr>\n",
       "  </thead>\n",
       "  <tbody>\n",
       "    <tr>\n",
       "      <th>31</th>\n",
       "      <td>Röntgenstraße 90</td>\n",
       "      <td>3. Tür rechts</td>\n",
       "      <td>Frankfurt</td>\n",
       "    </tr>\n",
       "    <tr>\n",
       "      <th>59</th>\n",
       "      <td>Grubesallee 141</td>\n",
       "      <td>4. Stock</td>\n",
       "      <td>Hamburg</td>\n",
       "    </tr>\n",
       "  </tbody>\n",
       "</table>\n",
       "</div>"
      ]
     },
     "execution_count": 15,
     "metadata": {},
     "output_type": "execute_result"
    }
   ],
   "execution_count": 15
  },
  {
   "cell_type": "markdown",
   "metadata": {},
   "source": [
    "## Selecties op één tabel met functies"
   ]
  },
  {
   "cell_type": "markdown",
   "metadata": {},
   "source": [
    "Geef het totaal aantal producten dat is teruggebracht (1 waarde) "
   ]
  },
  {
   "cell_type": "code",
   "metadata": {
    "ExecuteTime": {
     "end_time": "2025-02-16T19:09:50.517882Z",
     "start_time": "2025-02-16T19:09:50.506936Z"
    }
   },
   "source": [
    "sql_query = \"SELECT * FROM returned_item;\"\n",
    "returned_item = pd.read_sql_query(sql_query, conn)\n",
    "returned_item_dataframe = pd.DataFrame(returned_item)\n",
    "returned_item_dataframe['RETURN_QUANTITY'].sum()"
   ],
   "outputs": [
    {
     "data": {
      "text/plain": [
       "np.int64(11908)"
      ]
     },
     "execution_count": 16,
     "metadata": {},
     "output_type": "execute_result"
    }
   ],
   "execution_count": 16
  },
  {
   "cell_type": "markdown",
   "metadata": {},
   "source": [
    "Geef het aantal regio’s waarin verkoopafdelingen gevestigd zijn. (1 waarde)"
   ]
  },
  {
   "cell_type": "code",
   "metadata": {
    "ExecuteTime": {
     "end_time": "2025-02-16T19:09:50.804120Z",
     "start_time": "2025-02-16T19:09:50.798472Z"
    }
   },
   "source": "sales_branch_dataframe['REGION'].notna().count()",
   "outputs": [
    {
     "data": {
      "text/plain": [
       "np.int64(28)"
      ]
     },
     "execution_count": 17,
     "metadata": {},
     "output_type": "execute_result"
    }
   ],
   "execution_count": 17
  },
  {
   "cell_type": "markdown",
   "metadata": {},
   "source": [
    "Maak 3 variabelen:\n",
    "- Een met de laagste\n",
    "- Een met de hoogste\n",
    "- Een met de gemiddelde (afgerond op 2 decimalen)\n",
    "\n",
    "marge van producten (3 kolommen, 1 rij) "
   ]
  },
  {
   "cell_type": "code",
   "metadata": {
    "ExecuteTime": {
     "end_time": "2025-02-16T19:09:50.972557Z",
     "start_time": "2025-02-16T19:09:50.961384Z"
    }
   },
   "source": [
    "laagste_marge_products = products_dataframe['MARGIN'].min()\n",
    "hoogste_marge_products = products_dataframe['MARGIN'].max()\n",
    "gemiddelde_marge_products = products_dataframe['MARGIN'].mean()\n",
    "\n",
    "resultaat = pd.DataFrame({\n",
    "    \"laasgte marge products\" : [round(laagste_marge_products, 2)],\n",
    "    \"hoogste marge products\" : [round(hoogste_marge_products, 2)],\n",
    "    \"gemiddelde marge products\" : [round(gemiddelde_marge_products,2)]\n",
    "})\n",
    "\n",
    "resultaat"
   ],
   "outputs": [
    {
     "data": {
      "text/plain": [
       "   laasgte marge products  hoogste marge products  gemiddelde marge products\n",
       "0                    0.17                     0.7                        0.4"
      ],
      "text/html": [
       "<div>\n",
       "<style scoped>\n",
       "    .dataframe tbody tr th:only-of-type {\n",
       "        vertical-align: middle;\n",
       "    }\n",
       "\n",
       "    .dataframe tbody tr th {\n",
       "        vertical-align: top;\n",
       "    }\n",
       "\n",
       "    .dataframe thead th {\n",
       "        text-align: right;\n",
       "    }\n",
       "</style>\n",
       "<table border=\"1\" class=\"dataframe\">\n",
       "  <thead>\n",
       "    <tr style=\"text-align: right;\">\n",
       "      <th></th>\n",
       "      <th>laasgte marge products</th>\n",
       "      <th>hoogste marge products</th>\n",
       "      <th>gemiddelde marge products</th>\n",
       "    </tr>\n",
       "  </thead>\n",
       "  <tbody>\n",
       "    <tr>\n",
       "      <th>0</th>\n",
       "      <td>0.17</td>\n",
       "      <td>0.7</td>\n",
       "      <td>0.4</td>\n",
       "    </tr>\n",
       "  </tbody>\n",
       "</table>\n",
       "</div>"
      ]
     },
     "execution_count": 18,
     "metadata": {},
     "output_type": "execute_result"
    }
   ],
   "execution_count": 18
  },
  {
   "cell_type": "markdown",
   "metadata": {},
   "source": [
    "Geef het aantal vestigingen van klanten waarvan het 2e adres niet bekend is (1 waarde)"
   ]
  },
  {
   "cell_type": "code",
   "metadata": {
    "ExecuteTime": {
     "end_time": "2025-02-16T19:09:51.187945Z",
     "start_time": "2025-02-16T19:09:51.180990Z"
    }
   },
   "source": [
    "geen_2e_address = retailer_site_dataframe['ADDRESS2'].isna()\n",
    "resultaat = retailer_site_dataframe.loc[geen_2e_address, 'CITY'].count()\n",
    "resultaat"
   ],
   "outputs": [
    {
     "data": {
      "text/plain": [
       "np.int64(286)"
      ]
     },
     "execution_count": 19,
     "metadata": {},
     "output_type": "execute_result"
    }
   ],
   "execution_count": 19
  },
  {
   "cell_type": "markdown",
   "metadata": {},
   "source": [
    "Geef de gemiddelde kostprijs van de verkochte producten waarop korting (unit_sale_price < unit_price) is verleend (1 waarde) "
   ]
  },
  {
   "cell_type": "code",
   "metadata": {
    "ExecuteTime": {
     "end_time": "2025-02-16T19:09:51.427593Z",
     "start_time": "2025-02-16T19:09:51.292291Z"
    }
   },
   "source": [
    "sql_query = \"SELECT * FROM order_details ;\"\n",
    "order_details = pd.read_sql_query(sql_query, conn)\n",
    "order_details_dataframe = pd.DataFrame(order_details)\n",
    "\n",
    "producten_met_korting =    order_details_dataframe['UNIT_SALE_PRICE'] < order_details_dataframe['UNIT_PRICE']\n",
    "order_details_dataframe.loc[producten_met_korting,'UNIT_SALE_PRICE'].mean().round(2)"
   ],
   "outputs": [
    {
     "data": {
      "text/plain": [
       "np.float64(180.44)"
      ]
     },
     "execution_count": 20,
     "metadata": {},
     "output_type": "execute_result"
    }
   ],
   "execution_count": 20
  },
  {
   "cell_type": "markdown",
   "metadata": {},
   "source": [
    "Geef een overzicht met daarin het aantal medewerkers per medewerkersfunctie (2 kolommen, 7 rijen) "
   ]
  },
  {
   "cell_type": "code",
   "metadata": {
    "ExecuteTime": {
     "end_time": "2025-02-16T19:09:51.492166Z",
     "start_time": "2025-02-16T19:09:51.478408Z"
    }
   },
   "source": [
    "sql_query = \"SELECT * FROM sales_staff ;\"\n",
    "sales_staff = pd.read_sql_query(sql_query, conn)\n",
    "sales_staff_dataframe = pd.DataFrame(sales_staff)\n",
    "\n",
    "opdr = sales_staff_dataframe.groupby('POSITION_EN', as_index=False)['SALES_STAFF_CODE'].count()\n",
    "\n",
    "opdr.rename(columns={'SALES_STAFF_CODE':'aantal medewerkers'}, inplace=True)\n",
    "opdr"
   ],
   "outputs": [
    {
     "data": {
      "text/plain": [
       "                    POSITION_EN  aantal medewerkers\n",
       "0                Branch Manager                  19\n",
       "1              District Manager                   4\n",
       "2               General Manager                   1\n",
       "3  Level 1 Sales Representative                  13\n",
       "4  Level 2 Sales Representative                  39\n",
       "5  Level 3 Sales Representative                  24\n",
       "6              Regional Manager                   2"
      ],
      "text/html": [
       "<div>\n",
       "<style scoped>\n",
       "    .dataframe tbody tr th:only-of-type {\n",
       "        vertical-align: middle;\n",
       "    }\n",
       "\n",
       "    .dataframe tbody tr th {\n",
       "        vertical-align: top;\n",
       "    }\n",
       "\n",
       "    .dataframe thead th {\n",
       "        text-align: right;\n",
       "    }\n",
       "</style>\n",
       "<table border=\"1\" class=\"dataframe\">\n",
       "  <thead>\n",
       "    <tr style=\"text-align: right;\">\n",
       "      <th></th>\n",
       "      <th>POSITION_EN</th>\n",
       "      <th>aantal medewerkers</th>\n",
       "    </tr>\n",
       "  </thead>\n",
       "  <tbody>\n",
       "    <tr>\n",
       "      <th>0</th>\n",
       "      <td>Branch Manager</td>\n",
       "      <td>19</td>\n",
       "    </tr>\n",
       "    <tr>\n",
       "      <th>1</th>\n",
       "      <td>District Manager</td>\n",
       "      <td>4</td>\n",
       "    </tr>\n",
       "    <tr>\n",
       "      <th>2</th>\n",
       "      <td>General Manager</td>\n",
       "      <td>1</td>\n",
       "    </tr>\n",
       "    <tr>\n",
       "      <th>3</th>\n",
       "      <td>Level 1 Sales Representative</td>\n",
       "      <td>13</td>\n",
       "    </tr>\n",
       "    <tr>\n",
       "      <th>4</th>\n",
       "      <td>Level 2 Sales Representative</td>\n",
       "      <td>39</td>\n",
       "    </tr>\n",
       "    <tr>\n",
       "      <th>5</th>\n",
       "      <td>Level 3 Sales Representative</td>\n",
       "      <td>24</td>\n",
       "    </tr>\n",
       "    <tr>\n",
       "      <th>6</th>\n",
       "      <td>Regional Manager</td>\n",
       "      <td>2</td>\n",
       "    </tr>\n",
       "  </tbody>\n",
       "</table>\n",
       "</div>"
      ]
     },
     "execution_count": 21,
     "metadata": {},
     "output_type": "execute_result"
    }
   ],
   "execution_count": 21
  },
  {
   "metadata": {},
   "cell_type": "markdown",
   "source": ""
  },
  {
   "cell_type": "markdown",
   "metadata": {},
   "source": [
    "Geef een overzicht met daarin per telefoonnummer het aantal medewerkers dat op dat telefoonnummer bereikbaar is. Toon alleen de telefoonnummer waarop meer dan 4 medewerkers bereikbaar zijn. (2 kolommen, 10 rijen) "
   ]
  },
  {
   "cell_type": "code",
   "metadata": {
    "ExecuteTime": {
     "end_time": "2025-02-16T19:09:51.621095Z",
     "start_time": "2025-02-16T19:09:51.608860Z"
    }
   },
   "source": [
    "opdr = sales_staff_dataframe.groupby('WORK_PHONE', as_index=False)['SALES_STAFF_CODE'].count()\n",
    "opdr_filter = opdr[opdr['SALES_STAFF_CODE']> 4]\n",
    "opdr_filter.rename(columns={'SALES_STAFF_CODE':'aantal medewerkers bereikbaar'}, inplace=True)\n",
    "opdr_filter"
   ],
   "outputs": [
    {
     "data": {
      "text/plain": [
       "             WORK_PHONE  aantal medewerkers bereikbaar\n",
       "4     +(44) 121 3505267                              5\n",
       "10  +(61) 03 2982  4242                              5\n",
       "11  +31 (0)20 692 93 94                              5\n",
       "13    +33 1 68 94 52 20                              5\n",
       "18     1 (206) 292-0012                              5\n",
       "19     1 (305) 557-4810                              6\n",
       "20     1 (310) 281-5722                              5\n",
       "21     1 (403) 232-5986                              5\n",
       "22     1 (416) 493-5595                              5\n",
       "23     1 (617) 268-6754                              6"
      ],
      "text/html": [
       "<div>\n",
       "<style scoped>\n",
       "    .dataframe tbody tr th:only-of-type {\n",
       "        vertical-align: middle;\n",
       "    }\n",
       "\n",
       "    .dataframe tbody tr th {\n",
       "        vertical-align: top;\n",
       "    }\n",
       "\n",
       "    .dataframe thead th {\n",
       "        text-align: right;\n",
       "    }\n",
       "</style>\n",
       "<table border=\"1\" class=\"dataframe\">\n",
       "  <thead>\n",
       "    <tr style=\"text-align: right;\">\n",
       "      <th></th>\n",
       "      <th>WORK_PHONE</th>\n",
       "      <th>aantal medewerkers bereikbaar</th>\n",
       "    </tr>\n",
       "  </thead>\n",
       "  <tbody>\n",
       "    <tr>\n",
       "      <th>4</th>\n",
       "      <td>+(44) 121 3505267</td>\n",
       "      <td>5</td>\n",
       "    </tr>\n",
       "    <tr>\n",
       "      <th>10</th>\n",
       "      <td>+(61) 03 2982  4242</td>\n",
       "      <td>5</td>\n",
       "    </tr>\n",
       "    <tr>\n",
       "      <th>11</th>\n",
       "      <td>+31 (0)20 692 93 94</td>\n",
       "      <td>5</td>\n",
       "    </tr>\n",
       "    <tr>\n",
       "      <th>13</th>\n",
       "      <td>+33 1 68 94 52 20</td>\n",
       "      <td>5</td>\n",
       "    </tr>\n",
       "    <tr>\n",
       "      <th>18</th>\n",
       "      <td>1 (206) 292-0012</td>\n",
       "      <td>5</td>\n",
       "    </tr>\n",
       "    <tr>\n",
       "      <th>19</th>\n",
       "      <td>1 (305) 557-4810</td>\n",
       "      <td>6</td>\n",
       "    </tr>\n",
       "    <tr>\n",
       "      <th>20</th>\n",
       "      <td>1 (310) 281-5722</td>\n",
       "      <td>5</td>\n",
       "    </tr>\n",
       "    <tr>\n",
       "      <th>21</th>\n",
       "      <td>1 (403) 232-5986</td>\n",
       "      <td>5</td>\n",
       "    </tr>\n",
       "    <tr>\n",
       "      <th>22</th>\n",
       "      <td>1 (416) 493-5595</td>\n",
       "      <td>5</td>\n",
       "    </tr>\n",
       "    <tr>\n",
       "      <th>23</th>\n",
       "      <td>1 (617) 268-6754</td>\n",
       "      <td>6</td>\n",
       "    </tr>\n",
       "  </tbody>\n",
       "</table>\n",
       "</div>"
      ]
     },
     "execution_count": 22,
     "metadata": {},
     "output_type": "execute_result"
    }
   ],
   "execution_count": 22
  },
  {
   "cell_type": "markdown",
   "metadata": {},
   "source": [
    "## Selecties op meerdere tabellen zonder functies"
   ]
  },
  {
   "cell_type": "markdown",
   "metadata": {},
   "source": [
    "Geef een overzicht met daarin het eerste adres en de stad van vestigingen van klanten uit ‘Netherlands’ (2 kolommen, 20 rijen) "
   ]
  },
  {
   "cell_type": "code",
   "metadata": {
    "ExecuteTime": {
     "end_time": "2025-02-16T19:09:51.812565Z",
     "start_time": "2025-02-16T19:09:51.789039Z"
    }
   },
   "source": [
    "land_merge_retailer = pd.merge(retailer_site_dataframe,country_dataframe, left_on= 'COUNTRY_CODE', right_on= 'COUNTRY_CODE', how = 'outer')\n",
    "\n",
    "land_merge_retailer.loc[land_merge_retailer['COUNTRY'] == 'Netherlands', ['ADDRESS1', 'CITY']]"
   ],
   "outputs": [
    {
     "data": {
      "text/plain": [
       "                      ADDRESS1          CITY\n",
       "215                   Beets 36         Beets\n",
       "216               Perestraat 1      Deventer\n",
       "217  Laan van Meerdervoort 966      Den Haag\n",
       "218             Kalfjeslaan 47    Amstelveen\n",
       "219               Startbaan 11    Amstelveen\n",
       "220      Noorderspoorsingel 28     Groningen\n",
       "221              Hogehilweg 13     Amsterdam\n",
       "222             Spoorstraat 43    Varsseveld\n",
       "223             Westhavenweg 8     Amsterdam\n",
       "224              Westzeedijk 4        Muiden\n",
       "225            Gooiergracht 91         Laren\n",
       "226            Hoofdstraat 150   Pieterburen\n",
       "227                Olde Diek 2         Laren\n",
       "228     Amsterdamsestraatweg 8      Maarssen\n",
       "229        Krayenhoffstraat 11     Amsterdam\n",
       "230         Overschiestraat 19     Amsterdam\n",
       "231              Havenbuurt 12        Marken\n",
       "232               Duivendaal 1    Wageningen\n",
       "233              Voorstraat 37  Nieuweschans\n",
       "234         Stadhouderslaan 18     Rotterdam"
      ],
      "text/html": [
       "<div>\n",
       "<style scoped>\n",
       "    .dataframe tbody tr th:only-of-type {\n",
       "        vertical-align: middle;\n",
       "    }\n",
       "\n",
       "    .dataframe tbody tr th {\n",
       "        vertical-align: top;\n",
       "    }\n",
       "\n",
       "    .dataframe thead th {\n",
       "        text-align: right;\n",
       "    }\n",
       "</style>\n",
       "<table border=\"1\" class=\"dataframe\">\n",
       "  <thead>\n",
       "    <tr style=\"text-align: right;\">\n",
       "      <th></th>\n",
       "      <th>ADDRESS1</th>\n",
       "      <th>CITY</th>\n",
       "    </tr>\n",
       "  </thead>\n",
       "  <tbody>\n",
       "    <tr>\n",
       "      <th>215</th>\n",
       "      <td>Beets 36</td>\n",
       "      <td>Beets</td>\n",
       "    </tr>\n",
       "    <tr>\n",
       "      <th>216</th>\n",
       "      <td>Perestraat 1</td>\n",
       "      <td>Deventer</td>\n",
       "    </tr>\n",
       "    <tr>\n",
       "      <th>217</th>\n",
       "      <td>Laan van Meerdervoort 966</td>\n",
       "      <td>Den Haag</td>\n",
       "    </tr>\n",
       "    <tr>\n",
       "      <th>218</th>\n",
       "      <td>Kalfjeslaan 47</td>\n",
       "      <td>Amstelveen</td>\n",
       "    </tr>\n",
       "    <tr>\n",
       "      <th>219</th>\n",
       "      <td>Startbaan 11</td>\n",
       "      <td>Amstelveen</td>\n",
       "    </tr>\n",
       "    <tr>\n",
       "      <th>220</th>\n",
       "      <td>Noorderspoorsingel 28</td>\n",
       "      <td>Groningen</td>\n",
       "    </tr>\n",
       "    <tr>\n",
       "      <th>221</th>\n",
       "      <td>Hogehilweg 13</td>\n",
       "      <td>Amsterdam</td>\n",
       "    </tr>\n",
       "    <tr>\n",
       "      <th>222</th>\n",
       "      <td>Spoorstraat 43</td>\n",
       "      <td>Varsseveld</td>\n",
       "    </tr>\n",
       "    <tr>\n",
       "      <th>223</th>\n",
       "      <td>Westhavenweg 8</td>\n",
       "      <td>Amsterdam</td>\n",
       "    </tr>\n",
       "    <tr>\n",
       "      <th>224</th>\n",
       "      <td>Westzeedijk 4</td>\n",
       "      <td>Muiden</td>\n",
       "    </tr>\n",
       "    <tr>\n",
       "      <th>225</th>\n",
       "      <td>Gooiergracht 91</td>\n",
       "      <td>Laren</td>\n",
       "    </tr>\n",
       "    <tr>\n",
       "      <th>226</th>\n",
       "      <td>Hoofdstraat 150</td>\n",
       "      <td>Pieterburen</td>\n",
       "    </tr>\n",
       "    <tr>\n",
       "      <th>227</th>\n",
       "      <td>Olde Diek 2</td>\n",
       "      <td>Laren</td>\n",
       "    </tr>\n",
       "    <tr>\n",
       "      <th>228</th>\n",
       "      <td>Amsterdamsestraatweg 8</td>\n",
       "      <td>Maarssen</td>\n",
       "    </tr>\n",
       "    <tr>\n",
       "      <th>229</th>\n",
       "      <td>Krayenhoffstraat 11</td>\n",
       "      <td>Amsterdam</td>\n",
       "    </tr>\n",
       "    <tr>\n",
       "      <th>230</th>\n",
       "      <td>Overschiestraat 19</td>\n",
       "      <td>Amsterdam</td>\n",
       "    </tr>\n",
       "    <tr>\n",
       "      <th>231</th>\n",
       "      <td>Havenbuurt 12</td>\n",
       "      <td>Marken</td>\n",
       "    </tr>\n",
       "    <tr>\n",
       "      <th>232</th>\n",
       "      <td>Duivendaal 1</td>\n",
       "      <td>Wageningen</td>\n",
       "    </tr>\n",
       "    <tr>\n",
       "      <th>233</th>\n",
       "      <td>Voorstraat 37</td>\n",
       "      <td>Nieuweschans</td>\n",
       "    </tr>\n",
       "    <tr>\n",
       "      <th>234</th>\n",
       "      <td>Stadhouderslaan 18</td>\n",
       "      <td>Rotterdam</td>\n",
       "    </tr>\n",
       "  </tbody>\n",
       "</table>\n",
       "</div>"
      ]
     },
     "execution_count": 23,
     "metadata": {},
     "output_type": "execute_result"
    }
   ],
   "execution_count": 23
  },
  {
   "cell_type": "markdown",
   "metadata": {},
   "source": [
    "Geef een overzicht met daarin de productnamen die tot het producttype ‘Eyewear’ behoren. (1 kolom, 5 rijen) "
   ]
  },
  {
   "cell_type": "code",
   "metadata": {
    "ExecuteTime": {
     "end_time": "2025-02-16T19:20:29.109955Z",
     "start_time": "2025-02-16T19:20:29.092047Z"
    }
   },
   "source": [
    "sql_query = \"SELECT * FROM product_type ; \"\n",
    "product_type = pd.read_sql_query(sql_query, conn)\n",
    "product_type_dataframe = pd.DataFrame(product_type)\n",
    "product_merge_type= pd.merge (products_dataframe, product_type_dataframe, left_on='PRODUCT_TYPE_CODE', right_on='PRODUCT_TYPE_CODE', how = 'outer')\n",
    "product_merge_type.loc[product_merge_type['PRODUCT_TYPE_EN'] == 'Eyewear', 'PRODUCT_NAME']"
   ],
   "outputs": [
    {
     "data": {
      "text/plain": [
       "67        Polar Sun\n",
       "68        Polar Ice\n",
       "69     Polar Sports\n",
       "70       Polar Wave\n",
       "71    Polar Extreme\n",
       "Name: PRODUCT_NAME, dtype: object"
      ]
     },
     "execution_count": 30,
     "metadata": {},
     "output_type": "execute_result"
    }
   ],
   "execution_count": 30
  },
  {
   "cell_type": "markdown",
   "metadata": {},
   "source": [
    "Geef een overzicht met daarin alle unieke eerste adressen van klantvestigingen en de voornaam en achternaam van de verkopers die ‘Branch Manager’ zijn en aan deze vestigingen hebben verkocht (3 kolommen, 1 rij) "
   ]
  },
  {
   "cell_type": "code",
   "metadata": {
    "ExecuteTime": {
     "end_time": "2025-02-16T20:33:38.066330Z",
     "start_time": "2025-02-16T20:33:38.018628Z"
    }
   },
   "source": [
    "sql_query = \"SELECT * FROM order_header ;\"\n",
    "order_header = pd.read_sql_query(sql_query, conn)\n",
    "order_header_dataframe = pd.DataFrame(order_header)\n",
    "\n",
    "order_merge_retailer = pd.merge(order_header_dataframe, retailer_site_dataframe, left_on='RETAILER_SITE_CODE', right_on='RETAILER_SITE_CODE', how = 'inner')\n",
    "\n",
    "order_retailer_merge_staff = pd.merge(order_merge_retailer, sales_staff, left_on='SALES_STAFF_CODE', right_on='SALES_STAFF_CODE', how = 'inner')\n",
    "\n",
    "order_retailer_merge_staff.loc[order_retailer_merge_staff['POSITION_EN'] == 'Branch Manager', ['ADDRESS1', 'FIRST_NAME', 'LAST_NAME']].drop_duplicates()"
   ],
   "outputs": [
    {
     "data": {
      "text/plain": [
       "                  ADDRESS1 FIRST_NAME LAST_NAME\n",
       "3185  Alameda Santos, 9876     Bayard     Lopes"
      ],
      "text/html": [
       "<div>\n",
       "<style scoped>\n",
       "    .dataframe tbody tr th:only-of-type {\n",
       "        vertical-align: middle;\n",
       "    }\n",
       "\n",
       "    .dataframe tbody tr th {\n",
       "        vertical-align: top;\n",
       "    }\n",
       "\n",
       "    .dataframe thead th {\n",
       "        text-align: right;\n",
       "    }\n",
       "</style>\n",
       "<table border=\"1\" class=\"dataframe\">\n",
       "  <thead>\n",
       "    <tr style=\"text-align: right;\">\n",
       "      <th></th>\n",
       "      <th>ADDRESS1</th>\n",
       "      <th>FIRST_NAME</th>\n",
       "      <th>LAST_NAME</th>\n",
       "    </tr>\n",
       "  </thead>\n",
       "  <tbody>\n",
       "    <tr>\n",
       "      <th>3185</th>\n",
       "      <td>Alameda Santos, 9876</td>\n",
       "      <td>Bayard</td>\n",
       "      <td>Lopes</td>\n",
       "    </tr>\n",
       "  </tbody>\n",
       "</table>\n",
       "</div>"
      ]
     },
     "execution_count": 71,
     "metadata": {},
     "output_type": "execute_result"
    }
   ],
   "execution_count": 71
  },
  {
   "cell_type": "markdown",
   "metadata": {},
   "source": [
    "Geef een overzicht met daarin van de verkopers hun functie en indien zij iets hebben verkocht de datum waarop de verkoop heeft plaatsgevonden. Laat alleen de verschillende namen van de posities zien van de verkopers die het woord ‘Manager’ in hun positienaam hebben staan. (2 kolommen, 7 rijen) "
   ]
  },
  {
   "cell_type": "code",
   "metadata": {
    "ExecuteTime": {
     "end_time": "2025-02-16T21:01:57.502130Z",
     "start_time": "2025-02-16T21:01:57.490345Z"
    }
   },
   "source": [
    "staff_merge_order = pd.merge(sales_staff_dataframe, order_header_dataframe, left_on= 'SALES_STAFF_CODE', right_on='SALES_STAFF_CODE', how = 'outer')\n",
    "\n",
    "staff_merge_order.loc[staff_merge_order['POSITION_EN'].str.contains('Manager'), ['POSITION_EN', 'ORDER_DATE']].drop_duplicates()"
   ],
   "outputs": [
    {
     "data": {
      "text/plain": [
       "           POSITION_EN  ORDER_DATE\n",
       "0       Branch Manager         NaN\n",
       "320   Regional Manager         NaN\n",
       "648   District Manager         NaN\n",
       "3748    Branch Manager  2024-09-09\n",
       "3749    Branch Manager  2024-03-13\n",
       "3750    Branch Manager  2024-01-09\n",
       "4186   General Manager         NaN"
      ],
      "text/html": [
       "<div>\n",
       "<style scoped>\n",
       "    .dataframe tbody tr th:only-of-type {\n",
       "        vertical-align: middle;\n",
       "    }\n",
       "\n",
       "    .dataframe tbody tr th {\n",
       "        vertical-align: top;\n",
       "    }\n",
       "\n",
       "    .dataframe thead th {\n",
       "        text-align: right;\n",
       "    }\n",
       "</style>\n",
       "<table border=\"1\" class=\"dataframe\">\n",
       "  <thead>\n",
       "    <tr style=\"text-align: right;\">\n",
       "      <th></th>\n",
       "      <th>POSITION_EN</th>\n",
       "      <th>ORDER_DATE</th>\n",
       "    </tr>\n",
       "  </thead>\n",
       "  <tbody>\n",
       "    <tr>\n",
       "      <th>0</th>\n",
       "      <td>Branch Manager</td>\n",
       "      <td>NaN</td>\n",
       "    </tr>\n",
       "    <tr>\n",
       "      <th>320</th>\n",
       "      <td>Regional Manager</td>\n",
       "      <td>NaN</td>\n",
       "    </tr>\n",
       "    <tr>\n",
       "      <th>648</th>\n",
       "      <td>District Manager</td>\n",
       "      <td>NaN</td>\n",
       "    </tr>\n",
       "    <tr>\n",
       "      <th>3748</th>\n",
       "      <td>Branch Manager</td>\n",
       "      <td>2024-09-09</td>\n",
       "    </tr>\n",
       "    <tr>\n",
       "      <th>3749</th>\n",
       "      <td>Branch Manager</td>\n",
       "      <td>2024-03-13</td>\n",
       "    </tr>\n",
       "    <tr>\n",
       "      <th>3750</th>\n",
       "      <td>Branch Manager</td>\n",
       "      <td>2024-01-09</td>\n",
       "    </tr>\n",
       "    <tr>\n",
       "      <th>4186</th>\n",
       "      <td>General Manager</td>\n",
       "      <td>NaN</td>\n",
       "    </tr>\n",
       "  </tbody>\n",
       "</table>\n",
       "</div>"
      ]
     },
     "execution_count": 84,
     "metadata": {},
     "output_type": "execute_result"
    }
   ],
   "execution_count": 84
  },
  {
   "cell_type": "markdown",
   "metadata": {},
   "source": [
    "Geef een overzicht met daarin de verschillende namen van producten en bijbehorende namen van producttypen van de producten waarvoor ooit meer dan 750 stuks tegelijk verkocht zijn. (2 kolommen, 9 rijen) "
   ]
  },
  {
   "cell_type": "code",
   "metadata": {
    "ExecuteTime": {
     "end_time": "2025-02-16T21:15:14.105921Z",
     "start_time": "2025-02-16T21:15:14.016362Z"
    }
   },
   "source": [
    "sql_query = \"SELECT * FROM order_details ;\"\n",
    "order_details = pd.read_sql_query(sql_query, conn)\n",
    "order_details_dataframe = pd.DataFrame(order_details)\n",
    "\n",
    "product_merge_order_details= pd.merge(order_details_dataframe, products_dataframe, left_on= 'PRODUCT_NUMBER', right_on= 'PRODUCT_NUMBER', how = 'inner')\n",
    "\n",
    "product_order_details_type = pd.merge(product_merge_order_details, product_type_dataframe, left_on='PRODUCT_TYPE_CODE', right_on='PRODUCT_TYPE_CODE', how = 'inner')\n",
    "\n",
    "product_order_details_type.loc[product_order_details_type['QUANTITY'] > 750, ['PRODUCT_NAME', 'PRODUCT_TYPE_EN']].drop_duplicates()\n"
   ],
   "outputs": [
    {
     "data": {
      "text/plain": [
       "                PRODUCT_NAME    PRODUCT_TYPE_EN\n",
       "539        BugShield Extreme  Insect Repellents\n",
       "1759                Star Peg              Tents\n",
       "20121  BugShield Lotion Lite  Insect Repellents\n",
       "20147         Sun Shelter 15          Sunscreen\n",
       "20152         Sun Shelter 30          Sunscreen\n",
       "31236        BugShield Spray  Insect Repellents\n",
       "37272              Firefly 2           Lanterns\n",
       "37348       BugShield Lotion  Insect Repellents\n",
       "37363             Sun Shield          Sunscreen"
      ],
      "text/html": [
       "<div>\n",
       "<style scoped>\n",
       "    .dataframe tbody tr th:only-of-type {\n",
       "        vertical-align: middle;\n",
       "    }\n",
       "\n",
       "    .dataframe tbody tr th {\n",
       "        vertical-align: top;\n",
       "    }\n",
       "\n",
       "    .dataframe thead th {\n",
       "        text-align: right;\n",
       "    }\n",
       "</style>\n",
       "<table border=\"1\" class=\"dataframe\">\n",
       "  <thead>\n",
       "    <tr style=\"text-align: right;\">\n",
       "      <th></th>\n",
       "      <th>PRODUCT_NAME</th>\n",
       "      <th>PRODUCT_TYPE_EN</th>\n",
       "    </tr>\n",
       "  </thead>\n",
       "  <tbody>\n",
       "    <tr>\n",
       "      <th>539</th>\n",
       "      <td>BugShield Extreme</td>\n",
       "      <td>Insect Repellents</td>\n",
       "    </tr>\n",
       "    <tr>\n",
       "      <th>1759</th>\n",
       "      <td>Star Peg</td>\n",
       "      <td>Tents</td>\n",
       "    </tr>\n",
       "    <tr>\n",
       "      <th>20121</th>\n",
       "      <td>BugShield Lotion Lite</td>\n",
       "      <td>Insect Repellents</td>\n",
       "    </tr>\n",
       "    <tr>\n",
       "      <th>20147</th>\n",
       "      <td>Sun Shelter 15</td>\n",
       "      <td>Sunscreen</td>\n",
       "    </tr>\n",
       "    <tr>\n",
       "      <th>20152</th>\n",
       "      <td>Sun Shelter 30</td>\n",
       "      <td>Sunscreen</td>\n",
       "    </tr>\n",
       "    <tr>\n",
       "      <th>31236</th>\n",
       "      <td>BugShield Spray</td>\n",
       "      <td>Insect Repellents</td>\n",
       "    </tr>\n",
       "    <tr>\n",
       "      <th>37272</th>\n",
       "      <td>Firefly 2</td>\n",
       "      <td>Lanterns</td>\n",
       "    </tr>\n",
       "    <tr>\n",
       "      <th>37348</th>\n",
       "      <td>BugShield Lotion</td>\n",
       "      <td>Insect Repellents</td>\n",
       "    </tr>\n",
       "    <tr>\n",
       "      <th>37363</th>\n",
       "      <td>Sun Shield</td>\n",
       "      <td>Sunscreen</td>\n",
       "    </tr>\n",
       "  </tbody>\n",
       "</table>\n",
       "</div>"
      ]
     },
     "execution_count": 94,
     "metadata": {},
     "output_type": "execute_result"
    }
   ],
   "execution_count": 94
  },
  {
   "cell_type": "markdown",
   "metadata": {},
   "source": [
    "Geef een overzicht met daarin de productnamen waarvan ooit meer dan 40% korting is verleend. De formule voor korting is: (unit_price - unit_sale_price) / unit_price (1 kolom, 8 rijen) "
   ]
  },
  {
   "cell_type": "code",
   "metadata": {
    "ExecuteTime": {
     "end_time": "2025-02-16T21:22:12.164810Z",
     "start_time": "2025-02-16T21:22:12.155003Z"
    }
   },
   "source": [
    "korting = (product_merge_order_details['UNIT_PRICE'] - product_order_details_type['UNIT_SALE_PRICE'])/product_order_details_type['UNIT_PRICE']\n",
    "\n",
    "product_merge_order_details.loc[korting > 0.4, ['PRODUCT_NAME']].drop_duplicates()"
   ],
   "outputs": [
    {
     "data": {
      "text/plain": [
       "                      PRODUCT_NAME\n",
       "506              BugShield Natural\n",
       "511                BugShield Spray\n",
       "650   Hailstorm Titanium Woods Set\n",
       "2797         BugShield Lotion Lite\n",
       "2836                Sun Shelter 30\n",
       "3751             BugShield Extreme\n",
       "5074                Sun Shelter 15\n",
       "6930              BugShield Lotion"
      ],
      "text/html": [
       "<div>\n",
       "<style scoped>\n",
       "    .dataframe tbody tr th:only-of-type {\n",
       "        vertical-align: middle;\n",
       "    }\n",
       "\n",
       "    .dataframe tbody tr th {\n",
       "        vertical-align: top;\n",
       "    }\n",
       "\n",
       "    .dataframe thead th {\n",
       "        text-align: right;\n",
       "    }\n",
       "</style>\n",
       "<table border=\"1\" class=\"dataframe\">\n",
       "  <thead>\n",
       "    <tr style=\"text-align: right;\">\n",
       "      <th></th>\n",
       "      <th>PRODUCT_NAME</th>\n",
       "    </tr>\n",
       "  </thead>\n",
       "  <tbody>\n",
       "    <tr>\n",
       "      <th>506</th>\n",
       "      <td>BugShield Natural</td>\n",
       "    </tr>\n",
       "    <tr>\n",
       "      <th>511</th>\n",
       "      <td>BugShield Spray</td>\n",
       "    </tr>\n",
       "    <tr>\n",
       "      <th>650</th>\n",
       "      <td>Hailstorm Titanium Woods Set</td>\n",
       "    </tr>\n",
       "    <tr>\n",
       "      <th>2797</th>\n",
       "      <td>BugShield Lotion Lite</td>\n",
       "    </tr>\n",
       "    <tr>\n",
       "      <th>2836</th>\n",
       "      <td>Sun Shelter 30</td>\n",
       "    </tr>\n",
       "    <tr>\n",
       "      <th>3751</th>\n",
       "      <td>BugShield Extreme</td>\n",
       "    </tr>\n",
       "    <tr>\n",
       "      <th>5074</th>\n",
       "      <td>Sun Shelter 15</td>\n",
       "    </tr>\n",
       "    <tr>\n",
       "      <th>6930</th>\n",
       "      <td>BugShield Lotion</td>\n",
       "    </tr>\n",
       "  </tbody>\n",
       "</table>\n",
       "</div>"
      ]
     },
     "execution_count": 97,
     "metadata": {},
     "output_type": "execute_result"
    }
   ],
   "execution_count": 97
  },
  {
   "cell_type": "markdown",
   "metadata": {},
   "source": [
    "Geef een overzicht met daarin de retourreden van producten waarvan ooit meer dan 90% van de aangeschafte hoeveelheid is teruggebracht (return_quantity/quantity). (1 kolom, 3 rijen) "
   ]
  },
  {
   "cell_type": "code",
   "metadata": {
    "ExecuteTime": {
     "end_time": "2025-02-16T21:39:20.557086Z",
     "start_time": "2025-02-16T21:39:20.542833Z"
    }
   },
   "source": [
    "sql_query = \"SELECT * FROM returned_item;\"\n",
    "returned_item = pd.read_sql_query(sql_query, conn)\n",
    "returned_item_dataframe = pd.DataFrame(returned_item)\n",
    "\n",
    "returned_merge_details = pd.merge(returned_item_dataframe, order_details_dataframe, left_on='ORDER_DETAIL_CODE', right_on='ORDER_DETAIL_CODE', how = 'inner')\n",
    "\n",
    "retour= returned_merge_details['RETURN_QUANTITY']/returned_merge_details['QUANTITY']\n",
    "\n",
    "sql_query = \"SELECT * FROM return_reason;\"\n",
    "return_reason = pd.read_sql_query(sql_query, conn)\n",
    "return_reason_dataframe = pd.DataFrame(return_reason)\n",
    "\n",
    "return_reason_details = pd.merge(returned_merge_details, return_reason_dataframe, left_on='RETURN_REASON_CODE', right_on='RETURN_REASON_CODE', how = 'inner')\n",
    "\n",
    "return_reason_details.loc[retour > 0.9, 'RETURN_DESCRIPTION_EN'].drop_duplicates()"
   ],
   "outputs": [
    {
     "data": {
      "text/plain": [
       "0    Unsatisfactory product\n",
       "2     Wrong product shipped\n",
       "3     Wrong product ordered\n",
       "Name: RETURN_DESCRIPTION_EN, dtype: object"
      ]
     },
     "execution_count": 109,
     "metadata": {},
     "output_type": "execute_result"
    }
   ],
   "execution_count": 109
  },
  {
   "cell_type": "markdown",
   "metadata": {},
   "source": [
    "## Selecties op meerdere tabellen met functies"
   ]
  },
  {
   "cell_type": "markdown",
   "metadata": {},
   "source": [
    "Geef een overzicht met daarin per producttype het aantal producten die tot dat producttype behoren. (2 kolommen, 21 rijen) "
   ]
  },
  {
   "cell_type": "code",
   "metadata": {
    "ExecuteTime": {
     "end_time": "2025-02-16T21:59:36.968927Z",
     "start_time": "2025-02-16T21:59:36.958216Z"
    }
   },
   "source": "product_merge_type.groupby('PRODUCT_TYPE_EN', as_index=False)['PRODUCT_TYPE_CODE'].count()",
   "outputs": [
    {
     "data": {
      "text/plain": [
       "         PRODUCT_TYPE_EN  PRODUCT_TYPE_CODE\n",
       "0             Binoculars                  4\n",
       "1   Climbing Accessories                  7\n",
       "2           Cooking Gear                 10\n",
       "3                Eyewear                  5\n",
       "4              First Aid                  5\n",
       "5       Golf Accessories                  4\n",
       "6      Insect Repellents                  5\n",
       "7                  Irons                  4\n",
       "8                 Knives                  5\n",
       "9               Lanterns                 12\n",
       "10            Navigation                  4\n",
       "11                 Packs                  6\n",
       "12               Putters                  3\n",
       "13                  Rope                  4\n",
       "14                Safety                  4\n",
       "15         Sleeping Bags                  7\n",
       "16             Sunscreen                  5\n",
       "17                 Tents                  6\n",
       "18                 Tools                  6\n",
       "19               Watches                  5\n",
       "20                 Woods                  4"
      ],
      "text/html": [
       "<div>\n",
       "<style scoped>\n",
       "    .dataframe tbody tr th:only-of-type {\n",
       "        vertical-align: middle;\n",
       "    }\n",
       "\n",
       "    .dataframe tbody tr th {\n",
       "        vertical-align: top;\n",
       "    }\n",
       "\n",
       "    .dataframe thead th {\n",
       "        text-align: right;\n",
       "    }\n",
       "</style>\n",
       "<table border=\"1\" class=\"dataframe\">\n",
       "  <thead>\n",
       "    <tr style=\"text-align: right;\">\n",
       "      <th></th>\n",
       "      <th>PRODUCT_TYPE_EN</th>\n",
       "      <th>PRODUCT_TYPE_CODE</th>\n",
       "    </tr>\n",
       "  </thead>\n",
       "  <tbody>\n",
       "    <tr>\n",
       "      <th>0</th>\n",
       "      <td>Binoculars</td>\n",
       "      <td>4</td>\n",
       "    </tr>\n",
       "    <tr>\n",
       "      <th>1</th>\n",
       "      <td>Climbing Accessories</td>\n",
       "      <td>7</td>\n",
       "    </tr>\n",
       "    <tr>\n",
       "      <th>2</th>\n",
       "      <td>Cooking Gear</td>\n",
       "      <td>10</td>\n",
       "    </tr>\n",
       "    <tr>\n",
       "      <th>3</th>\n",
       "      <td>Eyewear</td>\n",
       "      <td>5</td>\n",
       "    </tr>\n",
       "    <tr>\n",
       "      <th>4</th>\n",
       "      <td>First Aid</td>\n",
       "      <td>5</td>\n",
       "    </tr>\n",
       "    <tr>\n",
       "      <th>5</th>\n",
       "      <td>Golf Accessories</td>\n",
       "      <td>4</td>\n",
       "    </tr>\n",
       "    <tr>\n",
       "      <th>6</th>\n",
       "      <td>Insect Repellents</td>\n",
       "      <td>5</td>\n",
       "    </tr>\n",
       "    <tr>\n",
       "      <th>7</th>\n",
       "      <td>Irons</td>\n",
       "      <td>4</td>\n",
       "    </tr>\n",
       "    <tr>\n",
       "      <th>8</th>\n",
       "      <td>Knives</td>\n",
       "      <td>5</td>\n",
       "    </tr>\n",
       "    <tr>\n",
       "      <th>9</th>\n",
       "      <td>Lanterns</td>\n",
       "      <td>12</td>\n",
       "    </tr>\n",
       "    <tr>\n",
       "      <th>10</th>\n",
       "      <td>Navigation</td>\n",
       "      <td>4</td>\n",
       "    </tr>\n",
       "    <tr>\n",
       "      <th>11</th>\n",
       "      <td>Packs</td>\n",
       "      <td>6</td>\n",
       "    </tr>\n",
       "    <tr>\n",
       "      <th>12</th>\n",
       "      <td>Putters</td>\n",
       "      <td>3</td>\n",
       "    </tr>\n",
       "    <tr>\n",
       "      <th>13</th>\n",
       "      <td>Rope</td>\n",
       "      <td>4</td>\n",
       "    </tr>\n",
       "    <tr>\n",
       "      <th>14</th>\n",
       "      <td>Safety</td>\n",
       "      <td>4</td>\n",
       "    </tr>\n",
       "    <tr>\n",
       "      <th>15</th>\n",
       "      <td>Sleeping Bags</td>\n",
       "      <td>7</td>\n",
       "    </tr>\n",
       "    <tr>\n",
       "      <th>16</th>\n",
       "      <td>Sunscreen</td>\n",
       "      <td>5</td>\n",
       "    </tr>\n",
       "    <tr>\n",
       "      <th>17</th>\n",
       "      <td>Tents</td>\n",
       "      <td>6</td>\n",
       "    </tr>\n",
       "    <tr>\n",
       "      <th>18</th>\n",
       "      <td>Tools</td>\n",
       "      <td>6</td>\n",
       "    </tr>\n",
       "    <tr>\n",
       "      <th>19</th>\n",
       "      <td>Watches</td>\n",
       "      <td>5</td>\n",
       "    </tr>\n",
       "    <tr>\n",
       "      <th>20</th>\n",
       "      <td>Woods</td>\n",
       "      <td>4</td>\n",
       "    </tr>\n",
       "  </tbody>\n",
       "</table>\n",
       "</div>"
      ]
     },
     "execution_count": 112,
     "metadata": {},
     "output_type": "execute_result"
    }
   ],
   "execution_count": 112
  },
  {
   "cell_type": "markdown",
   "metadata": {},
   "source": [
    "Geef een overzicht met daarin per land het aantal vestigingen van klanten die zich in dat land bevinden. (2 kolommen, 21 rijen) "
   ]
  },
  {
   "cell_type": "code",
   "metadata": {
    "ExecuteTime": {
     "end_time": "2025-02-17T10:30:40.482590Z",
     "start_time": "2025-02-17T10:30:40.466002Z"
    }
   },
   "source": [
    "retailer_country= pd.merge(retailer_site_dataframe, country_dataframe, left_on='COUNTRY_CODE', right_on='COUNTRY_CODE', how='outer')\n",
    "\n",
    "retailer_country.groupby('COUNTRY', as_index=False)['COUNTRY_CODE'].size()\n"
   ],
   "outputs": [
    {
     "data": {
      "text/plain": [
       "           COUNTRY  size\n",
       "0        Australia    10\n",
       "1          Austria    10\n",
       "2          Belgium    10\n",
       "3           Brazil     1\n",
       "4           Canada    31\n",
       "5            China    10\n",
       "6          Denmark     6\n",
       "7          Finland     5\n",
       "8           France    29\n",
       "9          Germany    32\n",
       "10           Italy    12\n",
       "11           Japan    25\n",
       "12           Korea    10\n",
       "13          Mexico    10\n",
       "14     Netherlands    20\n",
       "15           Spain     9\n",
       "16          Sweden    12\n",
       "17     Switzerland    13\n",
       "18          Taiwan    10\n",
       "19  United Kingdom    25\n",
       "20   United States   101"
      ],
      "text/html": [
       "<div>\n",
       "<style scoped>\n",
       "    .dataframe tbody tr th:only-of-type {\n",
       "        vertical-align: middle;\n",
       "    }\n",
       "\n",
       "    .dataframe tbody tr th {\n",
       "        vertical-align: top;\n",
       "    }\n",
       "\n",
       "    .dataframe thead th {\n",
       "        text-align: right;\n",
       "    }\n",
       "</style>\n",
       "<table border=\"1\" class=\"dataframe\">\n",
       "  <thead>\n",
       "    <tr style=\"text-align: right;\">\n",
       "      <th></th>\n",
       "      <th>COUNTRY</th>\n",
       "      <th>size</th>\n",
       "    </tr>\n",
       "  </thead>\n",
       "  <tbody>\n",
       "    <tr>\n",
       "      <th>0</th>\n",
       "      <td>Australia</td>\n",
       "      <td>10</td>\n",
       "    </tr>\n",
       "    <tr>\n",
       "      <th>1</th>\n",
       "      <td>Austria</td>\n",
       "      <td>10</td>\n",
       "    </tr>\n",
       "    <tr>\n",
       "      <th>2</th>\n",
       "      <td>Belgium</td>\n",
       "      <td>10</td>\n",
       "    </tr>\n",
       "    <tr>\n",
       "      <th>3</th>\n",
       "      <td>Brazil</td>\n",
       "      <td>1</td>\n",
       "    </tr>\n",
       "    <tr>\n",
       "      <th>4</th>\n",
       "      <td>Canada</td>\n",
       "      <td>31</td>\n",
       "    </tr>\n",
       "    <tr>\n",
       "      <th>5</th>\n",
       "      <td>China</td>\n",
       "      <td>10</td>\n",
       "    </tr>\n",
       "    <tr>\n",
       "      <th>6</th>\n",
       "      <td>Denmark</td>\n",
       "      <td>6</td>\n",
       "    </tr>\n",
       "    <tr>\n",
       "      <th>7</th>\n",
       "      <td>Finland</td>\n",
       "      <td>5</td>\n",
       "    </tr>\n",
       "    <tr>\n",
       "      <th>8</th>\n",
       "      <td>France</td>\n",
       "      <td>29</td>\n",
       "    </tr>\n",
       "    <tr>\n",
       "      <th>9</th>\n",
       "      <td>Germany</td>\n",
       "      <td>32</td>\n",
       "    </tr>\n",
       "    <tr>\n",
       "      <th>10</th>\n",
       "      <td>Italy</td>\n",
       "      <td>12</td>\n",
       "    </tr>\n",
       "    <tr>\n",
       "      <th>11</th>\n",
       "      <td>Japan</td>\n",
       "      <td>25</td>\n",
       "    </tr>\n",
       "    <tr>\n",
       "      <th>12</th>\n",
       "      <td>Korea</td>\n",
       "      <td>10</td>\n",
       "    </tr>\n",
       "    <tr>\n",
       "      <th>13</th>\n",
       "      <td>Mexico</td>\n",
       "      <td>10</td>\n",
       "    </tr>\n",
       "    <tr>\n",
       "      <th>14</th>\n",
       "      <td>Netherlands</td>\n",
       "      <td>20</td>\n",
       "    </tr>\n",
       "    <tr>\n",
       "      <th>15</th>\n",
       "      <td>Spain</td>\n",
       "      <td>9</td>\n",
       "    </tr>\n",
       "    <tr>\n",
       "      <th>16</th>\n",
       "      <td>Sweden</td>\n",
       "      <td>12</td>\n",
       "    </tr>\n",
       "    <tr>\n",
       "      <th>17</th>\n",
       "      <td>Switzerland</td>\n",
       "      <td>13</td>\n",
       "    </tr>\n",
       "    <tr>\n",
       "      <th>18</th>\n",
       "      <td>Taiwan</td>\n",
       "      <td>10</td>\n",
       "    </tr>\n",
       "    <tr>\n",
       "      <th>19</th>\n",
       "      <td>United Kingdom</td>\n",
       "      <td>25</td>\n",
       "    </tr>\n",
       "    <tr>\n",
       "      <th>20</th>\n",
       "      <td>United States</td>\n",
       "      <td>101</td>\n",
       "    </tr>\n",
       "  </tbody>\n",
       "</table>\n",
       "</div>"
      ]
     },
     "execution_count": 118,
     "metadata": {},
     "output_type": "execute_result"
    }
   ],
   "execution_count": 118
  },
  {
   "cell_type": "markdown",
   "metadata": {},
   "source": "Geef een overzicht met daarin van de producten behorend tot het producttype ‘Cooking Gear’ per productnaam de totaal verkochte hoeveelheid en de gemiddelde verkoopprijs. Sorteer de uitkomst op totaal verkochte hoeveelheid. (4 kolommen, 10 rijen)"
  },
  {
   "cell_type": "code",
   "metadata": {
    "ExecuteTime": {
     "end_time": "2025-02-17T11:16:31.205539Z",
     "start_time": "2025-02-17T11:16:31.180893Z"
    }
   },
   "source": [
    "cooking_gear_orders = product_order_details_type.loc[product_order_details_type['PRODUCT_TYPE_EN']=='Cooking Gear']\n",
    "\n",
    "antw =cooking_gear_orders.groupby(['PRODUCT_NAME'], as_index=False).agg(totaal_verkocht=('QUANTITY', 'sum'), gemiddelde_prijs=('UNIT_SALE_PRICE', 'mean'))\n",
    "\n",
    "antw.sort_values(by='totaal_verkocht', ascending=False)\n"
   ],
   "outputs": [
    {
     "data": {
      "text/plain": [
       "                PRODUCT_NAME  totaal_verkocht  gemiddelde_prijs\n",
       "9        TrailChef Water Bag            36738          6.032506\n",
       "2              TrailChef Cup            27418          6.976490\n",
       "0          TrailChef Canteen            26544         11.979418\n",
       "6      TrailChef Kitchen Kit            22206         22.345975\n",
       "8         TrailChef Utensils            13776         17.294151\n",
       "4     TrailChef Double Flame            12476        132.672882\n",
       "1         TrailChef Cook Set            10878         51.687926\n",
       "5           TrailChef Kettle             8826         12.201235\n",
       "7     TrailChef Single Flame             8504         63.827622\n",
       "3  TrailChef Deluxe Cook Set             3110        121.217638"
      ],
      "text/html": [
       "<div>\n",
       "<style scoped>\n",
       "    .dataframe tbody tr th:only-of-type {\n",
       "        vertical-align: middle;\n",
       "    }\n",
       "\n",
       "    .dataframe tbody tr th {\n",
       "        vertical-align: top;\n",
       "    }\n",
       "\n",
       "    .dataframe thead th {\n",
       "        text-align: right;\n",
       "    }\n",
       "</style>\n",
       "<table border=\"1\" class=\"dataframe\">\n",
       "  <thead>\n",
       "    <tr style=\"text-align: right;\">\n",
       "      <th></th>\n",
       "      <th>PRODUCT_NAME</th>\n",
       "      <th>totaal_verkocht</th>\n",
       "      <th>gemiddelde_prijs</th>\n",
       "    </tr>\n",
       "  </thead>\n",
       "  <tbody>\n",
       "    <tr>\n",
       "      <th>9</th>\n",
       "      <td>TrailChef Water Bag</td>\n",
       "      <td>36738</td>\n",
       "      <td>6.032506</td>\n",
       "    </tr>\n",
       "    <tr>\n",
       "      <th>2</th>\n",
       "      <td>TrailChef Cup</td>\n",
       "      <td>27418</td>\n",
       "      <td>6.976490</td>\n",
       "    </tr>\n",
       "    <tr>\n",
       "      <th>0</th>\n",
       "      <td>TrailChef Canteen</td>\n",
       "      <td>26544</td>\n",
       "      <td>11.979418</td>\n",
       "    </tr>\n",
       "    <tr>\n",
       "      <th>6</th>\n",
       "      <td>TrailChef Kitchen Kit</td>\n",
       "      <td>22206</td>\n",
       "      <td>22.345975</td>\n",
       "    </tr>\n",
       "    <tr>\n",
       "      <th>8</th>\n",
       "      <td>TrailChef Utensils</td>\n",
       "      <td>13776</td>\n",
       "      <td>17.294151</td>\n",
       "    </tr>\n",
       "    <tr>\n",
       "      <th>4</th>\n",
       "      <td>TrailChef Double Flame</td>\n",
       "      <td>12476</td>\n",
       "      <td>132.672882</td>\n",
       "    </tr>\n",
       "    <tr>\n",
       "      <th>1</th>\n",
       "      <td>TrailChef Cook Set</td>\n",
       "      <td>10878</td>\n",
       "      <td>51.687926</td>\n",
       "    </tr>\n",
       "    <tr>\n",
       "      <th>5</th>\n",
       "      <td>TrailChef Kettle</td>\n",
       "      <td>8826</td>\n",
       "      <td>12.201235</td>\n",
       "    </tr>\n",
       "    <tr>\n",
       "      <th>7</th>\n",
       "      <td>TrailChef Single Flame</td>\n",
       "      <td>8504</td>\n",
       "      <td>63.827622</td>\n",
       "    </tr>\n",
       "    <tr>\n",
       "      <th>3</th>\n",
       "      <td>TrailChef Deluxe Cook Set</td>\n",
       "      <td>3110</td>\n",
       "      <td>121.217638</td>\n",
       "    </tr>\n",
       "  </tbody>\n",
       "</table>\n",
       "</div>"
      ]
     },
     "execution_count": 138,
     "metadata": {},
     "output_type": "execute_result"
    }
   ],
   "execution_count": 138
  },
  {
   "cell_type": "markdown",
   "metadata": {},
   "source": [
    "Geef een overzicht met daarin per land de naam van het land, de naam van de stad waar de verkoopafdeling is gevestigd (noem de kolomnaam in het overzicht ‘verkoper’) en het aantal steden waar zich klanten bevinden in dat land (noem de kolomnaam in het overzicht ‘klanten’) (3 kolommen, 29 rijen) "
   ]
  },
  {
   "cell_type": "code",
   "metadata": {
    "ExecuteTime": {
     "end_time": "2025-02-17T11:26:28.040889Z",
     "start_time": "2025-02-17T11:26:28.014872Z"
    }
   },
   "source": [
    "# Merge verkoopafdelingen met landnamen\n",
    "sales_branch_merge = pd.merge(sales_branch_dataframe, country_dataframe, on='COUNTRY_CODE', how='left')\n",
    "\n",
    "# Selecteer de stad van de verkoopafdeling en hernoem naar 'verkoper'\n",
    "sales_branch_merge = sales_branch_merge[['COUNTRY', 'CITY']].rename(columns={'CITY': 'verkoper'})\n",
    "\n",
    "# Merge klantvestigingen met landnamen\n",
    "retailer_site_merge = pd.merge(retailer_site_dataframe, country_dataframe, on='COUNTRY_CODE', how='left')\n",
    "\n",
    "# Tel het aantal unieke steden per land waar klanten zich bevinden\n",
    "klanten_per_land = retailer_site_merge.groupby('COUNTRY', as_index=False)['CITY'].nunique()\n",
    "klanten_per_land.rename(columns={'CITY': 'klanten'}, inplace=True)\n",
    "\n",
    "# Merge de twee datasets om per land de verkoper en het aantal klantsteden te krijgen\n",
    "resultaat = pd.merge(sales_branch_merge, klanten_per_land, on='COUNTRY', how='left')\n",
    "\n",
    "resultaat"
   ],
   "outputs": [
    {
     "data": {
      "text/plain": [
       "           COUNTRY          verkoper  klanten\n",
       "0           France             Paris       14\n",
       "1            Italy            Milano        9\n",
       "2      Netherlands         Amsterdam       15\n",
       "3          Germany           Hamburg       18\n",
       "4          Germany           München       18\n",
       "5           Sweden             Kista       10\n",
       "6           Canada           Calgary       16\n",
       "7           Canada           Toronto       16\n",
       "8    United States            Boston       62\n",
       "9    United States           Seattle       62\n",
       "10   United States       Los Angeles       62\n",
       "11   United States             Miami       62\n",
       "12          France              Lyon       14\n",
       "13          Mexico  Distrito Federal        6\n",
       "14           Japan             Tokyo        5\n",
       "15           Japan        Osaka City        5\n",
       "16       Australia         Melbourne        6\n",
       "17           Spain            Bilbao        5\n",
       "18          Brazil         São Paulo        1\n",
       "19         Finland            Kuopio        5\n",
       "20           Korea             Seoul        6\n",
       "21          Taiwan         San Chung        9\n",
       "22           China          Shanghai        7\n",
       "23  United Kingdom            London        9\n",
       "24  United Kingdom        Birmingham        9\n",
       "25     Switzerland            Zürich        9\n",
       "26         Belgium          Heverlee        8\n",
       "27         Austria              Wien        9"
      ],
      "text/html": [
       "<div>\n",
       "<style scoped>\n",
       "    .dataframe tbody tr th:only-of-type {\n",
       "        vertical-align: middle;\n",
       "    }\n",
       "\n",
       "    .dataframe tbody tr th {\n",
       "        vertical-align: top;\n",
       "    }\n",
       "\n",
       "    .dataframe thead th {\n",
       "        text-align: right;\n",
       "    }\n",
       "</style>\n",
       "<table border=\"1\" class=\"dataframe\">\n",
       "  <thead>\n",
       "    <tr style=\"text-align: right;\">\n",
       "      <th></th>\n",
       "      <th>COUNTRY</th>\n",
       "      <th>verkoper</th>\n",
       "      <th>klanten</th>\n",
       "    </tr>\n",
       "  </thead>\n",
       "  <tbody>\n",
       "    <tr>\n",
       "      <th>0</th>\n",
       "      <td>France</td>\n",
       "      <td>Paris</td>\n",
       "      <td>14</td>\n",
       "    </tr>\n",
       "    <tr>\n",
       "      <th>1</th>\n",
       "      <td>Italy</td>\n",
       "      <td>Milano</td>\n",
       "      <td>9</td>\n",
       "    </tr>\n",
       "    <tr>\n",
       "      <th>2</th>\n",
       "      <td>Netherlands</td>\n",
       "      <td>Amsterdam</td>\n",
       "      <td>15</td>\n",
       "    </tr>\n",
       "    <tr>\n",
       "      <th>3</th>\n",
       "      <td>Germany</td>\n",
       "      <td>Hamburg</td>\n",
       "      <td>18</td>\n",
       "    </tr>\n",
       "    <tr>\n",
       "      <th>4</th>\n",
       "      <td>Germany</td>\n",
       "      <td>München</td>\n",
       "      <td>18</td>\n",
       "    </tr>\n",
       "    <tr>\n",
       "      <th>5</th>\n",
       "      <td>Sweden</td>\n",
       "      <td>Kista</td>\n",
       "      <td>10</td>\n",
       "    </tr>\n",
       "    <tr>\n",
       "      <th>6</th>\n",
       "      <td>Canada</td>\n",
       "      <td>Calgary</td>\n",
       "      <td>16</td>\n",
       "    </tr>\n",
       "    <tr>\n",
       "      <th>7</th>\n",
       "      <td>Canada</td>\n",
       "      <td>Toronto</td>\n",
       "      <td>16</td>\n",
       "    </tr>\n",
       "    <tr>\n",
       "      <th>8</th>\n",
       "      <td>United States</td>\n",
       "      <td>Boston</td>\n",
       "      <td>62</td>\n",
       "    </tr>\n",
       "    <tr>\n",
       "      <th>9</th>\n",
       "      <td>United States</td>\n",
       "      <td>Seattle</td>\n",
       "      <td>62</td>\n",
       "    </tr>\n",
       "    <tr>\n",
       "      <th>10</th>\n",
       "      <td>United States</td>\n",
       "      <td>Los Angeles</td>\n",
       "      <td>62</td>\n",
       "    </tr>\n",
       "    <tr>\n",
       "      <th>11</th>\n",
       "      <td>United States</td>\n",
       "      <td>Miami</td>\n",
       "      <td>62</td>\n",
       "    </tr>\n",
       "    <tr>\n",
       "      <th>12</th>\n",
       "      <td>France</td>\n",
       "      <td>Lyon</td>\n",
       "      <td>14</td>\n",
       "    </tr>\n",
       "    <tr>\n",
       "      <th>13</th>\n",
       "      <td>Mexico</td>\n",
       "      <td>Distrito Federal</td>\n",
       "      <td>6</td>\n",
       "    </tr>\n",
       "    <tr>\n",
       "      <th>14</th>\n",
       "      <td>Japan</td>\n",
       "      <td>Tokyo</td>\n",
       "      <td>5</td>\n",
       "    </tr>\n",
       "    <tr>\n",
       "      <th>15</th>\n",
       "      <td>Japan</td>\n",
       "      <td>Osaka City</td>\n",
       "      <td>5</td>\n",
       "    </tr>\n",
       "    <tr>\n",
       "      <th>16</th>\n",
       "      <td>Australia</td>\n",
       "      <td>Melbourne</td>\n",
       "      <td>6</td>\n",
       "    </tr>\n",
       "    <tr>\n",
       "      <th>17</th>\n",
       "      <td>Spain</td>\n",
       "      <td>Bilbao</td>\n",
       "      <td>5</td>\n",
       "    </tr>\n",
       "    <tr>\n",
       "      <th>18</th>\n",
       "      <td>Brazil</td>\n",
       "      <td>São Paulo</td>\n",
       "      <td>1</td>\n",
       "    </tr>\n",
       "    <tr>\n",
       "      <th>19</th>\n",
       "      <td>Finland</td>\n",
       "      <td>Kuopio</td>\n",
       "      <td>5</td>\n",
       "    </tr>\n",
       "    <tr>\n",
       "      <th>20</th>\n",
       "      <td>Korea</td>\n",
       "      <td>Seoul</td>\n",
       "      <td>6</td>\n",
       "    </tr>\n",
       "    <tr>\n",
       "      <th>21</th>\n",
       "      <td>Taiwan</td>\n",
       "      <td>San Chung</td>\n",
       "      <td>9</td>\n",
       "    </tr>\n",
       "    <tr>\n",
       "      <th>22</th>\n",
       "      <td>China</td>\n",
       "      <td>Shanghai</td>\n",
       "      <td>7</td>\n",
       "    </tr>\n",
       "    <tr>\n",
       "      <th>23</th>\n",
       "      <td>United Kingdom</td>\n",
       "      <td>London</td>\n",
       "      <td>9</td>\n",
       "    </tr>\n",
       "    <tr>\n",
       "      <th>24</th>\n",
       "      <td>United Kingdom</td>\n",
       "      <td>Birmingham</td>\n",
       "      <td>9</td>\n",
       "    </tr>\n",
       "    <tr>\n",
       "      <th>25</th>\n",
       "      <td>Switzerland</td>\n",
       "      <td>Zürich</td>\n",
       "      <td>9</td>\n",
       "    </tr>\n",
       "    <tr>\n",
       "      <th>26</th>\n",
       "      <td>Belgium</td>\n",
       "      <td>Heverlee</td>\n",
       "      <td>8</td>\n",
       "    </tr>\n",
       "    <tr>\n",
       "      <th>27</th>\n",
       "      <td>Austria</td>\n",
       "      <td>Wien</td>\n",
       "      <td>9</td>\n",
       "    </tr>\n",
       "  </tbody>\n",
       "</table>\n",
       "</div>"
      ]
     },
     "execution_count": 140,
     "metadata": {},
     "output_type": "execute_result"
    }
   ],
   "execution_count": 140
  },
  {
   "cell_type": "markdown",
   "metadata": {},
   "source": [
    "## Pythonvertalingen van SUBSELECT en UNION met o.a. for-loops"
   ]
  },
  {
   "cell_type": "markdown",
   "metadata": {},
   "source": [
    "Geef een overzicht met daarin de voornaam en de achternaam van de medewerkers die nog nooit wat hebben verkocht (2 kolommen, 25 rijen) "
   ]
  },
  {
   "cell_type": "code",
   "metadata": {
    "ExecuteTime": {
     "end_time": "2025-02-17T11:30:51.782546Z",
     "start_time": "2025-02-17T11:30:51.754994Z"
    }
   },
   "source": [
    "# Merge sales_staff_dataframe met order_details_dataframe om te kijken wie iets heeft verkocht\n",
    "sales_with_orders = pd.merge(sales_staff_dataframe, order_header_dataframe, left_on='SALES_STAFF_CODE', right_on='SALES_STAFF_CODE', how='left')\n",
    "\n",
    "# Filter medewerkers die nooit iets hebben verkocht\n",
    "never_sold = sales_with_orders[sales_with_orders['_merge'] == 'left_only'][['FIRST_NAME', 'LAST_NAME']].drop_duplicates()\n",
    "\n",
    "# Resultaat weergeven\n",
    "never_sold"
   ],
   "outputs": [
    {
     "data": {
      "text/plain": [
       "     FIRST_NAME      LAST_NAME\n",
       "0         Denis           Pagé\n",
       "320        Else         Mörike\n",
       "321       Frank          Fuchs\n",
       "647       Fritz         Hirsch\n",
       "648        Jörg          Kunze\n",
       "728       Maria      Iacobucci\n",
       "946        Kick        Kalkman\n",
       "1309      Karin      Bergström\n",
       "1395      Sally          White\n",
       "1421      Frank        Bretton\n",
       "1422    Georges  Saint-Germain\n",
       "1719       Alex      Rodriguez\n",
       "2088   Samantha          Floyd\n",
       "2392      Julie          Olsen\n",
       "2530      Corey         Wright\n",
       "2873    Estelle        Johnson\n",
       "2874       Greg        Belding\n",
       "2999      Julie        Béchard\n",
       "3157      Lucía          Reyna\n",
       "3401     Kazumi        Uragome\n",
       "3559      Alice         Walter\n",
       "4185     Walter         Taylor\n",
       "4186   Penelope        Tamrine\n",
       "4349      Polly         Linton\n",
       "4590      Gracy        Gellens"
      ],
      "text/html": [
       "<div>\n",
       "<style scoped>\n",
       "    .dataframe tbody tr th:only-of-type {\n",
       "        vertical-align: middle;\n",
       "    }\n",
       "\n",
       "    .dataframe tbody tr th {\n",
       "        vertical-align: top;\n",
       "    }\n",
       "\n",
       "    .dataframe thead th {\n",
       "        text-align: right;\n",
       "    }\n",
       "</style>\n",
       "<table border=\"1\" class=\"dataframe\">\n",
       "  <thead>\n",
       "    <tr style=\"text-align: right;\">\n",
       "      <th></th>\n",
       "      <th>FIRST_NAME</th>\n",
       "      <th>LAST_NAME</th>\n",
       "    </tr>\n",
       "  </thead>\n",
       "  <tbody>\n",
       "    <tr>\n",
       "      <th>0</th>\n",
       "      <td>Denis</td>\n",
       "      <td>Pagé</td>\n",
       "    </tr>\n",
       "    <tr>\n",
       "      <th>320</th>\n",
       "      <td>Else</td>\n",
       "      <td>Mörike</td>\n",
       "    </tr>\n",
       "    <tr>\n",
       "      <th>321</th>\n",
       "      <td>Frank</td>\n",
       "      <td>Fuchs</td>\n",
       "    </tr>\n",
       "    <tr>\n",
       "      <th>647</th>\n",
       "      <td>Fritz</td>\n",
       "      <td>Hirsch</td>\n",
       "    </tr>\n",
       "    <tr>\n",
       "      <th>648</th>\n",
       "      <td>Jörg</td>\n",
       "      <td>Kunze</td>\n",
       "    </tr>\n",
       "    <tr>\n",
       "      <th>728</th>\n",
       "      <td>Maria</td>\n",
       "      <td>Iacobucci</td>\n",
       "    </tr>\n",
       "    <tr>\n",
       "      <th>946</th>\n",
       "      <td>Kick</td>\n",
       "      <td>Kalkman</td>\n",
       "    </tr>\n",
       "    <tr>\n",
       "      <th>1309</th>\n",
       "      <td>Karin</td>\n",
       "      <td>Bergström</td>\n",
       "    </tr>\n",
       "    <tr>\n",
       "      <th>1395</th>\n",
       "      <td>Sally</td>\n",
       "      <td>White</td>\n",
       "    </tr>\n",
       "    <tr>\n",
       "      <th>1421</th>\n",
       "      <td>Frank</td>\n",
       "      <td>Bretton</td>\n",
       "    </tr>\n",
       "    <tr>\n",
       "      <th>1422</th>\n",
       "      <td>Georges</td>\n",
       "      <td>Saint-Germain</td>\n",
       "    </tr>\n",
       "    <tr>\n",
       "      <th>1719</th>\n",
       "      <td>Alex</td>\n",
       "      <td>Rodriguez</td>\n",
       "    </tr>\n",
       "    <tr>\n",
       "      <th>2088</th>\n",
       "      <td>Samantha</td>\n",
       "      <td>Floyd</td>\n",
       "    </tr>\n",
       "    <tr>\n",
       "      <th>2392</th>\n",
       "      <td>Julie</td>\n",
       "      <td>Olsen</td>\n",
       "    </tr>\n",
       "    <tr>\n",
       "      <th>2530</th>\n",
       "      <td>Corey</td>\n",
       "      <td>Wright</td>\n",
       "    </tr>\n",
       "    <tr>\n",
       "      <th>2873</th>\n",
       "      <td>Estelle</td>\n",
       "      <td>Johnson</td>\n",
       "    </tr>\n",
       "    <tr>\n",
       "      <th>2874</th>\n",
       "      <td>Greg</td>\n",
       "      <td>Belding</td>\n",
       "    </tr>\n",
       "    <tr>\n",
       "      <th>2999</th>\n",
       "      <td>Julie</td>\n",
       "      <td>Béchard</td>\n",
       "    </tr>\n",
       "    <tr>\n",
       "      <th>3157</th>\n",
       "      <td>Lucía</td>\n",
       "      <td>Reyna</td>\n",
       "    </tr>\n",
       "    <tr>\n",
       "      <th>3401</th>\n",
       "      <td>Kazumi</td>\n",
       "      <td>Uragome</td>\n",
       "    </tr>\n",
       "    <tr>\n",
       "      <th>3559</th>\n",
       "      <td>Alice</td>\n",
       "      <td>Walter</td>\n",
       "    </tr>\n",
       "    <tr>\n",
       "      <th>4185</th>\n",
       "      <td>Walter</td>\n",
       "      <td>Taylor</td>\n",
       "    </tr>\n",
       "    <tr>\n",
       "      <th>4186</th>\n",
       "      <td>Penelope</td>\n",
       "      <td>Tamrine</td>\n",
       "    </tr>\n",
       "    <tr>\n",
       "      <th>4349</th>\n",
       "      <td>Polly</td>\n",
       "      <td>Linton</td>\n",
       "    </tr>\n",
       "    <tr>\n",
       "      <th>4590</th>\n",
       "      <td>Gracy</td>\n",
       "      <td>Gellens</td>\n",
       "    </tr>\n",
       "  </tbody>\n",
       "</table>\n",
       "</div>"
      ]
     },
     "execution_count": 144,
     "metadata": {},
     "output_type": "execute_result"
    }
   ],
   "execution_count": 144
  },
  {
   "cell_type": "markdown",
   "metadata": {},
   "source": [
    "Geef een overzicht met daarin het aantal producten waarvan de marge lager is dan de gemiddelde marge van alle producten samen. Geef in het overzicht tevens aan wat de gemiddelde marge is van dit aantal producten waarvan de marge lager dan de gemiddelde marge van alle producten samen is. (1 kolom, 2 rijen) "
   ]
  },
  {
   "cell_type": "code",
   "metadata": {
    "ExecuteTime": {
     "end_time": "2025-02-17T12:46:24.447892Z",
     "start_time": "2025-02-17T12:46:24.439614Z"
    }
   },
   "source": [
    "# Bereken de gemiddelde marge van alle producten\n",
    "gemiddelde_marge = products_dataframe['MARGIN'].mean()\n",
    "\n",
    "# Filter producten waarvan de marge lager is dan de gemiddelde marge\n",
    "producten_lagere_marge = products_dataframe[products_dataframe['MARGIN'] < gemiddelde_marge]\n",
    "\n",
    "# Bereken het aantal producten en de gemiddelde marge van deze groep\n",
    "aantal_producten = len(producten_lagere_marge)\n",
    "gemiddelde_marge_lager = producten_lagere_marge['MARGIN'].mean()\n",
    "\n",
    "# Maak een dataframe met het resultaat\n",
    "resultaat = pd.DataFrame({\n",
    "    'Waarden': [aantal_producten, round(gemiddelde_marge_lager, 2)]\n",
    "}, index=['Aantal producten', 'Gemiddelde marge'])\n",
    "\n",
    "\n",
    "resultaat\n"
   ],
   "outputs": [
    {
     "data": {
      "text/plain": [
       "                  Waarden\n",
       "Aantal producten    59.00\n",
       "Gemiddelde marge     0.29"
      ],
      "text/html": [
       "<div>\n",
       "<style scoped>\n",
       "    .dataframe tbody tr th:only-of-type {\n",
       "        vertical-align: middle;\n",
       "    }\n",
       "\n",
       "    .dataframe tbody tr th {\n",
       "        vertical-align: top;\n",
       "    }\n",
       "\n",
       "    .dataframe thead th {\n",
       "        text-align: right;\n",
       "    }\n",
       "</style>\n",
       "<table border=\"1\" class=\"dataframe\">\n",
       "  <thead>\n",
       "    <tr style=\"text-align: right;\">\n",
       "      <th></th>\n",
       "      <th>Waarden</th>\n",
       "    </tr>\n",
       "  </thead>\n",
       "  <tbody>\n",
       "    <tr>\n",
       "      <th>Aantal producten</th>\n",
       "      <td>59.00</td>\n",
       "    </tr>\n",
       "    <tr>\n",
       "      <th>Gemiddelde marge</th>\n",
       "      <td>0.29</td>\n",
       "    </tr>\n",
       "  </tbody>\n",
       "</table>\n",
       "</div>"
      ]
     },
     "execution_count": 153,
     "metadata": {},
     "output_type": "execute_result"
    }
   ],
   "execution_count": 153
  },
  {
   "cell_type": "markdown",
   "metadata": {},
   "source": [
    "Geef een overzicht met daarin de namen van de producten die voor meer dan 500 (verkoopprijs) zijn verkocht maar nooit zijn teruggebracht. (1 kolom, 13 rijen) "
   ]
  },
  {
   "cell_type": "code",
   "metadata": {
    "ExecuteTime": {
     "end_time": "2025-02-17T12:57:03.948937Z",
     "start_time": "2025-02-17T12:57:03.937101Z"
    }
   },
   "source": [
    "# Filter producten met een verkoopprijs hoger dan 500\n",
    "producten_onder500 = order_details_dataframe[order_details_dataframe['UNIT_SALE_PRICE'] > 500]\n",
    "\n",
    "all_returned = returned_item_dataframe['ORDER_DETAIL_CODE'].dropna().unique()\n",
    "# Filter producten die nooit zijn teruggebracht (RETURN_QUANTITY is 0 of NaN)\n",
    "producten_nooit_geretourneerd = producten_onder500.loc[~producten_onder500['ORDER_DETAIL_CODE'].isin(all_returned), ['PRODUCT_NUMBER']]\n",
    "\n",
    "products_dataframe.loc[products_dataframe['PRODUCT_NUMBER'].isin(producten_nooit_geretourneerd.squeeze()), ['PRODUCT_NAME']]\n"
   ],
   "outputs": [
    {
     "data": {
      "text/plain": [
       "                          PRODUCT_NAME\n",
       "11                           Star Dome\n",
       "12                        Star Gazer 2\n",
       "13                        Star Gazer 3\n",
       "14                        Star Gazer 6\n",
       "44                      Husky Rope 200\n",
       "100              Hailstorm Steel Irons\n",
       "101           Hailstorm Titanium Irons\n",
       "102         Lady Hailstorm Steel Irons\n",
       "103      Lady Hailstorm Titanium Irons\n",
       "104       Hailstorm Titanium Woods Set\n",
       "105          Hailstorm Steel Woods Set\n",
       "106  Lady Hailstorm Titanium Woods Set\n",
       "107     Lady Hailstorm Steel Woods Set"
      ],
      "text/html": [
       "<div>\n",
       "<style scoped>\n",
       "    .dataframe tbody tr th:only-of-type {\n",
       "        vertical-align: middle;\n",
       "    }\n",
       "\n",
       "    .dataframe tbody tr th {\n",
       "        vertical-align: top;\n",
       "    }\n",
       "\n",
       "    .dataframe thead th {\n",
       "        text-align: right;\n",
       "    }\n",
       "</style>\n",
       "<table border=\"1\" class=\"dataframe\">\n",
       "  <thead>\n",
       "    <tr style=\"text-align: right;\">\n",
       "      <th></th>\n",
       "      <th>PRODUCT_NAME</th>\n",
       "    </tr>\n",
       "  </thead>\n",
       "  <tbody>\n",
       "    <tr>\n",
       "      <th>11</th>\n",
       "      <td>Star Dome</td>\n",
       "    </tr>\n",
       "    <tr>\n",
       "      <th>12</th>\n",
       "      <td>Star Gazer 2</td>\n",
       "    </tr>\n",
       "    <tr>\n",
       "      <th>13</th>\n",
       "      <td>Star Gazer 3</td>\n",
       "    </tr>\n",
       "    <tr>\n",
       "      <th>14</th>\n",
       "      <td>Star Gazer 6</td>\n",
       "    </tr>\n",
       "    <tr>\n",
       "      <th>44</th>\n",
       "      <td>Husky Rope 200</td>\n",
       "    </tr>\n",
       "    <tr>\n",
       "      <th>100</th>\n",
       "      <td>Hailstorm Steel Irons</td>\n",
       "    </tr>\n",
       "    <tr>\n",
       "      <th>101</th>\n",
       "      <td>Hailstorm Titanium Irons</td>\n",
       "    </tr>\n",
       "    <tr>\n",
       "      <th>102</th>\n",
       "      <td>Lady Hailstorm Steel Irons</td>\n",
       "    </tr>\n",
       "    <tr>\n",
       "      <th>103</th>\n",
       "      <td>Lady Hailstorm Titanium Irons</td>\n",
       "    </tr>\n",
       "    <tr>\n",
       "      <th>104</th>\n",
       "      <td>Hailstorm Titanium Woods Set</td>\n",
       "    </tr>\n",
       "    <tr>\n",
       "      <th>105</th>\n",
       "      <td>Hailstorm Steel Woods Set</td>\n",
       "    </tr>\n",
       "    <tr>\n",
       "      <th>106</th>\n",
       "      <td>Lady Hailstorm Titanium Woods Set</td>\n",
       "    </tr>\n",
       "    <tr>\n",
       "      <th>107</th>\n",
       "      <td>Lady Hailstorm Steel Woods Set</td>\n",
       "    </tr>\n",
       "  </tbody>\n",
       "</table>\n",
       "</div>"
      ]
     },
     "execution_count": 154,
     "metadata": {},
     "output_type": "execute_result"
    }
   ],
   "execution_count": 154
  },
  {
   "cell_type": "markdown",
   "metadata": {},
   "source": [
    "Geef een overzicht met daarin per (achternaam van) medewerker of hij/zij manager is of niet, door deze informatie toe te voegen als extra 'Ja/Nee'-kolom.<br>\n",
    "Hint: gebruik een for-loop waarin je o.a. bepaalt of het woord 'Manager' in de functie (position_en) staat. (2 kolommen, 102 rijen)."
   ]
  },
  {
   "cell_type": "code",
   "metadata": {
    "ExecuteTime": {
     "end_time": "2025-02-17T13:01:37.441403Z",
     "start_time": "2025-02-17T13:01:37.425317Z"
    }
   },
   "source": [
    "medewerkers= sales_staff_dataframe.loc[:,['LAST_NAME','POSITION_EN']]\n",
    "\n",
    "for index, medewerker in medewerkers.iterrows():\n",
    "    rol = medewerkers.at[index, 'POSITION_EN']\n",
    "    if \"Manager\" in rol:\n",
    "        medewerkers.at[index, 'manager'] = \"Ja\"\n",
    "    else:\n",
    "        medewerkers.at[index, 'manager'] = \"Nee\"\n",
    "\n",
    "medewerkers= medewerkers.drop('POSITION_EN', axis=1)\n",
    "medewerkers"
   ],
   "outputs": [
    {
     "data": {
      "text/plain": [
       "     LAST_NAME manager\n",
       "0         Pagé      Ja\n",
       "1       Michel     Nee\n",
       "2     Clermont     Nee\n",
       "3       Jauvin     Nee\n",
       "4    Wiesinger     Nee\n",
       "..         ...     ...\n",
       "97    Laermans     Nee\n",
       "98     De Crée     Nee\n",
       "99     Lattrez     Nee\n",
       "100  Seefelder     Nee\n",
       "101     Grüner     Nee\n",
       "\n",
       "[102 rows x 2 columns]"
      ],
      "text/html": [
       "<div>\n",
       "<style scoped>\n",
       "    .dataframe tbody tr th:only-of-type {\n",
       "        vertical-align: middle;\n",
       "    }\n",
       "\n",
       "    .dataframe tbody tr th {\n",
       "        vertical-align: top;\n",
       "    }\n",
       "\n",
       "    .dataframe thead th {\n",
       "        text-align: right;\n",
       "    }\n",
       "</style>\n",
       "<table border=\"1\" class=\"dataframe\">\n",
       "  <thead>\n",
       "    <tr style=\"text-align: right;\">\n",
       "      <th></th>\n",
       "      <th>LAST_NAME</th>\n",
       "      <th>manager</th>\n",
       "    </tr>\n",
       "  </thead>\n",
       "  <tbody>\n",
       "    <tr>\n",
       "      <th>0</th>\n",
       "      <td>Pagé</td>\n",
       "      <td>Ja</td>\n",
       "    </tr>\n",
       "    <tr>\n",
       "      <th>1</th>\n",
       "      <td>Michel</td>\n",
       "      <td>Nee</td>\n",
       "    </tr>\n",
       "    <tr>\n",
       "      <th>2</th>\n",
       "      <td>Clermont</td>\n",
       "      <td>Nee</td>\n",
       "    </tr>\n",
       "    <tr>\n",
       "      <th>3</th>\n",
       "      <td>Jauvin</td>\n",
       "      <td>Nee</td>\n",
       "    </tr>\n",
       "    <tr>\n",
       "      <th>4</th>\n",
       "      <td>Wiesinger</td>\n",
       "      <td>Nee</td>\n",
       "    </tr>\n",
       "    <tr>\n",
       "      <th>...</th>\n",
       "      <td>...</td>\n",
       "      <td>...</td>\n",
       "    </tr>\n",
       "    <tr>\n",
       "      <th>97</th>\n",
       "      <td>Laermans</td>\n",
       "      <td>Nee</td>\n",
       "    </tr>\n",
       "    <tr>\n",
       "      <th>98</th>\n",
       "      <td>De Crée</td>\n",
       "      <td>Nee</td>\n",
       "    </tr>\n",
       "    <tr>\n",
       "      <th>99</th>\n",
       "      <td>Lattrez</td>\n",
       "      <td>Nee</td>\n",
       "    </tr>\n",
       "    <tr>\n",
       "      <th>100</th>\n",
       "      <td>Seefelder</td>\n",
       "      <td>Nee</td>\n",
       "    </tr>\n",
       "    <tr>\n",
       "      <th>101</th>\n",
       "      <td>Grüner</td>\n",
       "      <td>Nee</td>\n",
       "    </tr>\n",
       "  </tbody>\n",
       "</table>\n",
       "<p>102 rows × 2 columns</p>\n",
       "</div>"
      ]
     },
     "execution_count": 155,
     "metadata": {},
     "output_type": "execute_result"
    }
   ],
   "execution_count": 155
  },
  {
   "cell_type": "markdown",
   "metadata": {},
   "source": [
    "Met de onderstaande code laat je Python het huidige jaar uitrekenen."
   ]
  },
  {
   "cell_type": "code",
   "metadata": {
    "ExecuteTime": {
     "end_time": "2025-02-17T13:01:54.744604Z",
     "start_time": "2025-02-17T13:01:54.740455Z"
    }
   },
   "source": [
    "from datetime import date\n",
    "date.today().year"
   ],
   "outputs": [
    {
     "data": {
      "text/plain": [
       "2025"
      ]
     },
     "execution_count": 156,
     "metadata": {},
     "output_type": "execute_result"
    }
   ],
   "execution_count": 156
  },
  {
   "cell_type": "markdown",
   "metadata": {},
   "source": [
    "Met de onderstaande code selecteer je op een bepaald jaartal uit een datum."
   ]
  },
  {
   "cell_type": "code",
   "metadata": {
    "ExecuteTime": {
     "end_time": "2025-02-17T13:01:56.745088Z",
     "start_time": "2025-02-17T13:01:56.741186Z"
    }
   },
   "source": [
    "from datetime import datetime\n",
    "\n",
    "date_str = '16-8-2013'\n",
    "date_format = '%d-%m-%Y'\n",
    "date_obj = datetime.strptime(date_str, date_format)\n",
    "\n",
    "date_obj.year"
   ],
   "outputs": [
    {
     "data": {
      "text/plain": [
       "2013"
      ]
     },
     "execution_count": 157,
     "metadata": {},
     "output_type": "execute_result"
    }
   ],
   "execution_count": 157
  },
  {
   "cell_type": "markdown",
   "metadata": {},
   "source": [
    "Geef met behulp van bovenstaande hulpcode een overzicht met daarin op basis van het aantal jaar dat iemand in dienst is of een medewerker ‘kort in dienst’ (minder dan 25 jaar in dienst) of een ‘lang in dienst’ (groter gelijk dan 12 jaar in dienst) is. Geef daarbij per medewerker in een aparte kolom zowel ‘kort in dienst’ als ‘lang in dienst’ aan. Gebruik (wederom) een for-loop.<br>\n",
    "(2 kolommen, 102 rijen) "
   ]
  },
  {
   "cell_type": "code",
   "metadata": {
    "ExecuteTime": {
     "end_time": "2025-02-17T13:07:33.453823Z",
     "start_time": "2025-02-17T13:07:33.438139Z"
    }
   },
   "source": [
    "medewerkers = sales_staff_dataframe.loc[:,['LAST_NAME','DATE_HIRED']]\n",
    "\n",
    "huidig_jaar = date.today().year\n",
    "\n",
    "for index, medewerker in medewerkers.iterrows():\n",
    "    date_hired = medewerkers.at[index, 'DATE_HIRED']\n",
    "    date_str = date_hired\n",
    "    date_format = '%Y-%m-%d'\n",
    "    date_obj = datetime.strptime(date_str, date_format)\n",
    "\n",
    "    aantal_jaar_in_dienst = huidig_jaar - date_obj.year\n",
    "\n",
    "    if aantal_jaar_in_dienst < 25:\n",
    "        medewerkers.at[index, 'tijd in dienst'] = \"kort in dienst\"\n",
    "    else:\n",
    "        medewerkers.at[index, 'tijd in dienst'] = \"lang in dienst\"\n",
    "\n",
    "medewerkers = medewerkers.drop('DATE_HIRED', axis=1)\n",
    "medewerkers\n"
   ],
   "outputs": [
    {
     "data": {
      "text/plain": [
       "     LAST_NAME  tijd in dienst\n",
       "0         Pagé  lang in dienst\n",
       "1       Michel  lang in dienst\n",
       "2     Clermont  lang in dienst\n",
       "3       Jauvin  lang in dienst\n",
       "4    Wiesinger  lang in dienst\n",
       "..         ...             ...\n",
       "97    Laermans  lang in dienst\n",
       "98     De Crée  lang in dienst\n",
       "99     Lattrez  lang in dienst\n",
       "100  Seefelder  lang in dienst\n",
       "101     Grüner  lang in dienst\n",
       "\n",
       "[102 rows x 2 columns]"
      ],
      "text/html": [
       "<div>\n",
       "<style scoped>\n",
       "    .dataframe tbody tr th:only-of-type {\n",
       "        vertical-align: middle;\n",
       "    }\n",
       "\n",
       "    .dataframe tbody tr th {\n",
       "        vertical-align: top;\n",
       "    }\n",
       "\n",
       "    .dataframe thead th {\n",
       "        text-align: right;\n",
       "    }\n",
       "</style>\n",
       "<table border=\"1\" class=\"dataframe\">\n",
       "  <thead>\n",
       "    <tr style=\"text-align: right;\">\n",
       "      <th></th>\n",
       "      <th>LAST_NAME</th>\n",
       "      <th>tijd in dienst</th>\n",
       "    </tr>\n",
       "  </thead>\n",
       "  <tbody>\n",
       "    <tr>\n",
       "      <th>0</th>\n",
       "      <td>Pagé</td>\n",
       "      <td>lang in dienst</td>\n",
       "    </tr>\n",
       "    <tr>\n",
       "      <th>1</th>\n",
       "      <td>Michel</td>\n",
       "      <td>lang in dienst</td>\n",
       "    </tr>\n",
       "    <tr>\n",
       "      <th>2</th>\n",
       "      <td>Clermont</td>\n",
       "      <td>lang in dienst</td>\n",
       "    </tr>\n",
       "    <tr>\n",
       "      <th>3</th>\n",
       "      <td>Jauvin</td>\n",
       "      <td>lang in dienst</td>\n",
       "    </tr>\n",
       "    <tr>\n",
       "      <th>4</th>\n",
       "      <td>Wiesinger</td>\n",
       "      <td>lang in dienst</td>\n",
       "    </tr>\n",
       "    <tr>\n",
       "      <th>...</th>\n",
       "      <td>...</td>\n",
       "      <td>...</td>\n",
       "    </tr>\n",
       "    <tr>\n",
       "      <th>97</th>\n",
       "      <td>Laermans</td>\n",
       "      <td>lang in dienst</td>\n",
       "    </tr>\n",
       "    <tr>\n",
       "      <th>98</th>\n",
       "      <td>De Crée</td>\n",
       "      <td>lang in dienst</td>\n",
       "    </tr>\n",
       "    <tr>\n",
       "      <th>99</th>\n",
       "      <td>Lattrez</td>\n",
       "      <td>lang in dienst</td>\n",
       "    </tr>\n",
       "    <tr>\n",
       "      <th>100</th>\n",
       "      <td>Seefelder</td>\n",
       "      <td>lang in dienst</td>\n",
       "    </tr>\n",
       "    <tr>\n",
       "      <th>101</th>\n",
       "      <td>Grüner</td>\n",
       "      <td>lang in dienst</td>\n",
       "    </tr>\n",
       "  </tbody>\n",
       "</table>\n",
       "<p>102 rows × 2 columns</p>\n",
       "</div>"
      ]
     },
     "execution_count": 159,
     "metadata": {},
     "output_type": "execute_result"
    }
   ],
   "execution_count": 159
  },
  {
   "cell_type": "markdown",
   "metadata": {},
   "source": [
    "## Van Jupyter Notebook naar Pythonproject"
   ]
  },
  {
   "cell_type": "markdown",
   "metadata": {},
   "source": [
    "1. Richt de map waarin jullie tot nu toe hebben gewerkt in volgens de mappenstructuur uit de slides.\n",
    "2. Maak van de ontstane mappenstructuur een Pythonproject dat uitvoerbaar is vanuit de terminal. Maak daarin een .py-bestand dat minstens 5 antwoorden uit dit notebook (in de vorm van een DataFrame) exporteert naar Excelbestanden. Alle notebooks mogen als notebook blijven bestaan.\n",
    "3. Zorg ervoor dat dit Pythonproject zijn eigen repo heeft op Github. Let op: je virtual environment moet <b><u>niet</u></b> meegaan naar Github.\n",
    "\n",
    "Je mag tijdens dit proces je uit stap 1 ontstane mappenstructuur aanpassen, zolang je bij het beoordelingsmoment kan verantwoorden wat de motivatie hierachter is. De slides verplichten je dus nergens toe."
   ]
  }
 ],
 "metadata": {
  "kernelspec": {
   "display_name": "python-in-deds-P4iSP_yI-py3.11",
   "language": "python",
   "name": "python3"
  },
  "language_info": {
   "codemirror_mode": {
    "name": "ipython",
    "version": 3
   },
   "file_extension": ".py",
   "mimetype": "text/x-python",
   "name": "python",
   "nbconvert_exporter": "python",
   "pygments_lexer": "ipython3",
   "version": "3.11.4"
  }
 },
 "nbformat": 4,
 "nbformat_minor": 2
}
