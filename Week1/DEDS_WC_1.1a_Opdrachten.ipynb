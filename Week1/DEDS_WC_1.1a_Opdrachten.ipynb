{
 "cells": [
  {
   "cell_type": "markdown",
   "metadata": {},
   "source": [
    "# Werkcollege-opdrachten Week 1.1"
   ]
  },
  {
   "cell_type": "markdown",
   "metadata": {},
   "source": [
    "## Maak een virtual environment"
   ]
  },
  {
   "cell_type": "markdown",
   "metadata": {},
   "source": [
    "Zorg dat je met behulp van de handleiding *Bouw en gebruik van virtual environments - Handleiding* een virtual environment hebt gemaakt, dat jou en je duopartner garandeert altijd dezelfde versie van geïmporteerde dependencies te gebruiken.<br>\n",
    "Voeg hier vervolgens met *poetry add pandas* de pandas-dependency aan toe.<br>\n",
    "Als je dit allemaal goed hebt gedaan moet de onderstaande code bij jullie allebei succesvol runnen:"
   ]
  },
  {
   "cell_type": "code",
   "metadata": {
    "ExecuteTime": {
     "end_time": "2025-02-20T11:35:36.417798Z",
     "start_time": "2025-02-20T11:35:35.647693Z"
    }
   },
   "source": [
    "import pandas as np\n",
    "from tomlkit import string"
   ],
   "outputs": [],
   "execution_count": 1
  },
  {
   "cell_type": "markdown",
   "metadata": {},
   "source": [
    "Zorg er daarnaast voor dat je...\n",
    "- Het bestand Waarheidstabel.png in dezelfde map als dit notebook hebt staan.\n",
    "- Het bestand Prinstabel.png in dezelfde map als dit notebook hebt staan.\n",
    "- Alle informatie onder het kopje *Basisoperaties* van de cheatsheet *Van Java naar Python - Cheatsheet* (zie Brightspace) bij de hand hebt."
   ]
  },
  {
   "cell_type": "markdown",
   "metadata": {},
   "source": [
    "## 1.1: Output, variabelen en input"
   ]
  },
  {
   "cell_type": "markdown",
   "metadata": {},
   "source": [
    "Geef code waarmee het volgende op het scherm komt te staan:<br>\n",
    "geef me je geld <br>\n",
    "of ik gebruik geweld, <br>\n",
    "toen kwam de controle aangesneld"
   ]
  },
  {
   "cell_type": "code",
   "metadata": {
    "ExecuteTime": {
     "end_time": "2025-02-20T11:35:36.442935Z",
     "start_time": "2025-02-20T11:35:36.436542Z"
    }
   },
   "source": [
    "print(\"geef me je geld\")\n",
    "print(\"of ik gebruik geweld,\")\n",
    "print(\"toen kwam de controle aangesneld\")"
   ],
   "outputs": [
    {
     "name": "stdout",
     "output_type": "stream",
     "text": [
      "geef me je geld\n",
      "of ik gebruik geweld,\n",
      "toen kwam de controle aangesneld\n"
     ]
    }
   ],
   "execution_count": 2
  },
  {
   "cell_type": "markdown",
   "metadata": {},
   "source": [
    "Declareer 2 variabelen zodat de volgende tekst geprint wordt:<br>\n",
    "Apenhoofd<br>\n",
    "Paardenstaart"
   ]
  },
  {
   "cell_type": "code",
   "metadata": {
    "ExecuteTime": {
     "end_time": "2025-02-20T11:35:36.698558Z",
     "start_time": "2025-02-20T11:35:36.694015Z"
    }
   },
   "source": [
    "hoofd = \"Apenhoofd\"\n",
    "staart = \"Paardenstaart\"\n",
    "\n",
    "print(hoofd)\n",
    "print (staart)"
   ],
   "outputs": [
    {
     "name": "stdout",
     "output_type": "stream",
     "text": [
      "Apenhoofd\n",
      "Paardenstaart\n"
     ]
    }
   ],
   "execution_count": 3
  },
  {
   "cell_type": "markdown",
   "metadata": {},
   "source": [
    "Voeg code toe zodat het programma het volgende doet:<br>\n",
    "1): Op het scherm komt A, B, C, D, ..., F, G te staan<br>\n",
    "2): De gebruiker voert een letter in<br>\n",
    "3): Op het scherm komt te staan:<br>\n",
    "Het is inderdaad:<br>\n",
    "*ingevoerde letter*"
   ]
  },
  {
   "cell_type": "code",
   "metadata": {
    "ExecuteTime": {
     "end_time": "2025-02-20T11:35:43.613641Z",
     "start_time": "2025-02-20T11:35:36.710568Z"
    }
   },
   "source": [
    "print(\"A,B,C,D,...,F,G\")\n",
    "letter = str(input())\n",
    "print(\"Het is inderdaad: \")\n",
    "print(letter)"
   ],
   "outputs": [
    {
     "name": "stdout",
     "output_type": "stream",
     "text": [
      "A,B,C,D,...,F,G\n",
      "Het is inderdaad: \n",
      "50\n"
     ]
    }
   ],
   "execution_count": 4
  },
  {
   "cell_type": "markdown",
   "metadata": {},
   "source": [
    "## 1.2: Stringconcatenatie en Rekenen"
   ]
  },
  {
   "cell_type": "markdown",
   "metadata": {},
   "source": [
    "Schrijf code dat een inkomen inleest en het volgende uitprint:<br>\n",
    "Uw inkomen (*ingelezen inkomen*) is zeer acceptabel."
   ]
  },
  {
   "cell_type": "code",
   "metadata": {
    "ExecuteTime": {
     "end_time": "2025-02-20T11:35:46.807225Z",
     "start_time": "2025-02-20T11:35:43.674556Z"
    }
   },
   "source": [
    "print (\"Uw inkomen is: \")\n",
    "inkomen = int(input())\n",
    "print(inkomen)"
   ],
   "outputs": [
    {
     "name": "stdout",
     "output_type": "stream",
     "text": [
      "Uw inkomen is: \n",
      "50\n"
     ]
    }
   ],
   "execution_count": 5
  },
  {
   "cell_type": "markdown",
   "metadata": {},
   "source": [
    "De oppervlakte van een driehoek is 1/2 * hoogte * basis<br>\n",
    "Schrijf code zodat het programma het volgende doet:<br>\n",
    "1): Op het scherm komt Wat is de basis? te staan<br>\n",
    "2): De gebruiker voert een basis in<br>\n",
    "3): Op het scherm komt Wat is de hoogte? te staan<br>\n",
    "4): De gebruiker voert een hoogte in<br>\n",
    "5): Op het scherm komt: De oppervlakte van de driehoek is *berekende oppervlakte* te staan"
   ]
  },
  {
   "cell_type": "code",
   "metadata": {
    "ExecuteTime": {
     "end_time": "2025-02-20T11:35:52.895201Z",
     "start_time": "2025-02-20T11:35:46.875376Z"
    }
   },
   "source": [
    "print(\"Wat is de basis?\")\n",
    "basis = int(input())\n",
    "print(\"Wat is de hoogte\")\n",
    "hoogte = int(input())\n",
    "print(\"Oppervlakte van de driehoek is:\")\n",
    "print(1/2 * hoogte * basis)"
   ],
   "outputs": [
    {
     "name": "stdout",
     "output_type": "stream",
     "text": [
      "Wat is de basis?\n",
      "Wat is de hoogte\n",
      "Oppervlakte van de driehoek is:\n",
      "9800.0\n"
     ]
    }
   ],
   "execution_count": 6
  },
  {
   "cell_type": "markdown",
   "metadata": {},
   "source": [
    "## 1.3: if() en booleans"
   ]
  },
  {
   "cell_type": "markdown",
   "metadata": {},
   "source": [
    "Schrijf code dat het volgende doet:<br>\n",
    "1): De gebruiker voert in hoe oud iemand is<br>\n",
    "2): De gebruiker voert in of de ouders meegekomen zijn (input is J of N)<br><br>\n",
    "\n",
    "Als...\n",
    "- Jonger dan 6, wel ouders: op het scherm staat Je mag het zwembad in\n",
    "- Jonger dan 6, geen ouders: op het scherm staat Je mag het niet zwembad in\n",
    "- Leeftijd vanaf 6, geen ouders: op het scherm staat Je mag het zwembad in als je een diploma hebt\n",
    "- Leeftijd vanaf 6, wel ouders: op het scherm staat Waarom neem je nog je ouders mee?"
   ]
  },
  {
   "cell_type": "code",
   "metadata": {
    "ExecuteTime": {
     "end_time": "2025-02-20T11:35:59.285040Z",
     "start_time": "2025-02-20T11:35:52.930264Z"
    }
   },
   "source": [
    "print(\"Hoe oud is dit persoon\")\n",
    "leeftijd = int(input())\n",
    "print(\"ouder meegekomen?\")\n",
    "\n",
    "while True:\n",
    "    try:\n",
    "        meegekomen = str(input('Alleen J of N invullen: '))\n",
    "        if meegekomen == \"J\" and leeftijd < 6:\n",
    "            print(\"Je mag het zwembad in\")\n",
    "            break\n",
    "        elif meegekomen == \"N\" and leeftijd < 6:\n",
    "            print('Je mag het zwembad niet in')\n",
    "            break\n",
    "        elif meegekomen == \"J\" and leeftijd >= 6:\n",
    "            print('Waarom neem je nog je ouders mee?')\n",
    "            break\n",
    "        elif meegekomen == \"N\" and leeftijd >= 6:\n",
    "            print('Je mag het zwembad in als je een diploma hebt')\n",
    "            break\n",
    "    except ValueError:\n",
    "        print('Invalid input, kan alleen J of N')"
   ],
   "outputs": [
    {
     "name": "stdout",
     "output_type": "stream",
     "text": [
      "Hoe oud is dit persoon\n",
      "ouder meegekomen?\n",
      "Waarom neem je nog je ouders mee?\n"
     ]
    }
   ],
   "execution_count": 7
  },
  {
   "cell_type": "markdown",
   "metadata": {},
   "source": [
    "Schrijf code zodat de boolean-variabelen een en twee aangemaakt worden en waarmee de juiste waarde in de boolean-variabele uitkomst komt te staan. In de waarheidstabel hieronder staat wat de waarde van uitkomst is bij de verschillende mogelijke combinaties van een en twee.<br><br>\n",
    "<img src=\"Waarheidstabel.png\">"
   ]
  },
  {
   "cell_type": "code",
   "metadata": {
    "ExecuteTime": {
     "end_time": "2025-02-20T11:35:59.318292Z",
     "start_time": "2025-02-20T11:35:59.312745Z"
    }
   },
   "source": [
    "een = True\n",
    "twee = False\n",
    "\n",
    "print(\"onwaar\" if (een and not twee) else \"waar\")\n"
   ],
   "outputs": [
    {
     "name": "stdout",
     "output_type": "stream",
     "text": [
      "onwaar\n"
     ]
    }
   ],
   "execution_count": 8
  },
  {
   "cell_type": "markdown",
   "metadata": {},
   "source": [
    "## 1.4: Methoden"
   ]
  },
  {
   "cell_type": "markdown",
   "metadata": {},
   "source": [
    "Schrijf een methode wachtwoord die als parameters twee woorden meekrijgt en het volgende controleert:\n",
    "- Als de woorden gelijk zijn, print het programma gelijk.\n",
    "- Als de woorden ongelijk zijn print het programma ongelijk.\n",
    "\n",
    "Vergeet niet dat je de methode niet alleen aan moet maken, maar ook aan moet roepen om output te krijgen."
   ]
  },
  {
   "cell_type": "code",
   "metadata": {
    "ExecuteTime": {
     "end_time": "2025-02-20T11:36:06.212416Z",
     "start_time": "2025-02-20T11:35:59.385842Z"
    }
   },
   "source": [
    "def wachtwoord(woord1, woord2):\n",
    "\n",
    "    if woord1 == woord2:\n",
    "        print(\"het programma gelijk\")\n",
    "    else:\n",
    "        print(\"het programma ongelijk\")\n",
    "\n",
    "woord1 = str(input())\n",
    "woord2 = str(input())\n",
    "wachtwoord(woord1, woord2)"
   ],
   "outputs": [
    {
     "name": "stdout",
     "output_type": "stream",
     "text": [
      "het programma ongelijk\n"
     ]
    }
   ],
   "execution_count": 9
  },
  {
   "cell_type": "markdown",
   "metadata": {},
   "source": [
    "Schrijf de methode zoekPrins die als parameter een prinses meekrijgt en vervolgens de bijbehorende prins teruggeeft, volgens de volgende tabel:<br><br>\n",
    "<img src=\"Prinstabel.png\"><br>\n",
    "Als de naam van de prinses niet in de tabel staat wordt het volgende door de methode teruggegeven: naamloos.<br>\n",
    "Roep ten slotte de gemaakte methode ook daadwerkelijk aan met een zelfgekozen prinsessennaam."
   ]
  },
  {
   "cell_type": "code",
   "metadata": {
    "ExecuteTime": {
     "end_time": "2025-02-20T11:36:08.952298Z",
     "start_time": "2025-02-20T11:36:06.272515Z"
    }
   },
   "source": [
    "def zoekPrins(prinses):\n",
    "    if (prinses == \"Aurora\"):\n",
    "        print(\"Philip\")\n",
    "    elif (prinses == \"Ariel\"):\n",
    "        print(\"Eric\")\n",
    "    elif (prinses == \"Jasmine\"):\n",
    "        print(\"Aladdin\")\n",
    "    elif (prinses == \"Pocahontas\"):\n",
    "        print(\"John\")\n",
    "    elif (prinses == \"Belle\"):\n",
    "        print(\"Beast\")\n",
    "    elif (prinses == \"Tiana\"):\n",
    "        print(\"Naveen\")\n",
    "    elif(prinses == \"Mulan\"):\n",
    "        print(\"Shang\")\n",
    "\n",
    "prinses = str(input())\n",
    "zoekPrins(prinses)"
   ],
   "outputs": [],
   "execution_count": 10
  },
  {
   "cell_type": "markdown",
   "metadata": {},
   "source": [
    "## 1.5: While"
   ]
  },
  {
   "cell_type": "markdown",
   "metadata": {},
   "source": [
    "Schrijf de inhoud van de methode wachtwoord. Deze heeft geen parameters en laat de gebruiker twee wachtwoorden invoeren, waarna hij bekijkt of deze gelijk zijn. Zolang dat niet het geval is wordt er eerst Fout, probeer het opnieuw! uitgeprint en moet de gebruiker het opnieuw proberen.<br>Als de gebruiker het goed doet, komt er Succes! op het scherm te staan."
   ]
  },
  {
   "cell_type": "code",
   "metadata": {
    "ExecuteTime": {
     "end_time": "2025-02-20T11:36:14.518573Z",
     "start_time": "2025-02-20T11:36:09.014125Z"
    }
   },
   "source": [
    "def wachtwoord():\n",
    "    while True:\n",
    "        wachtwoord1 = str(input(\"wachtwoord1: \"))\n",
    "        wachtwoord2 = str(input(\"wachtwoord2: \"))\n",
    "\n",
    "        if wachtwoord1 == wachtwoord2:\n",
    "            print(\"Succes\")\n",
    "            break\n",
    "        else:\n",
    "            print(\"fout, probeer het opnieuw\")\n",
    "wachtwoord()"
   ],
   "outputs": [
    {
     "name": "stdout",
     "output_type": "stream",
     "text": [
      "Succes\n"
     ]
    }
   ],
   "execution_count": 11
  },
  {
   "cell_type": "markdown",
   "metadata": {},
   "source": [
    "Schrijf de inhoud van de methode tafels. De methode print alle tafels vanaf 1 (dus inclusief de tafel van 1) tot en met de tafel van het meegekregen getal (dus inclusief de tafel van getal).  Zet een witregel tussen alle tafels in. <br>\n",
    "Let op:\n",
    "- Gebruik een while-loop\n",
    "- Gebruik de reeds geschreven methode tafel om een tafel uit te printen"
   ]
  },
  {
   "cell_type": "code",
   "metadata": {
    "ExecuteTime": {
     "end_time": "2025-02-20T11:36:17.501384Z",
     "start_time": "2025-02-20T11:36:14.574861Z"
    }
   },
   "source": [
    "def tafel(getal: int):\n",
    "    teller: int = 1\n",
    "\n",
    "    while(teller <= 10):\n",
    "        print(f'{teller} x {getal} = {teller * getal}')\n",
    "        teller += 1\n",
    "\n",
    "def tafels(getal: int):\n",
    "    teller = 1\n",
    "    while(teller <= getal):\n",
    "        tafel(teller)\n",
    "        print()\n",
    "        teller += 1\n",
    "\n",
    "x: int = int(input())\n",
    "tafels(x)"
   ],
   "outputs": [
    {
     "name": "stdout",
     "output_type": "stream",
     "text": [
      "1 x 1 = 1\n",
      "2 x 1 = 2\n",
      "3 x 1 = 3\n",
      "4 x 1 = 4\n",
      "5 x 1 = 5\n",
      "6 x 1 = 6\n",
      "7 x 1 = 7\n",
      "8 x 1 = 8\n",
      "9 x 1 = 9\n",
      "10 x 1 = 10\n",
      "\n",
      "1 x 2 = 2\n",
      "2 x 2 = 4\n",
      "3 x 2 = 6\n",
      "4 x 2 = 8\n",
      "5 x 2 = 10\n",
      "6 x 2 = 12\n",
      "7 x 2 = 14\n",
      "8 x 2 = 16\n",
      "9 x 2 = 18\n",
      "10 x 2 = 20\n",
      "\n",
      "1 x 3 = 3\n",
      "2 x 3 = 6\n",
      "3 x 3 = 9\n",
      "4 x 3 = 12\n",
      "5 x 3 = 15\n",
      "6 x 3 = 18\n",
      "7 x 3 = 21\n",
      "8 x 3 = 24\n",
      "9 x 3 = 27\n",
      "10 x 3 = 30\n",
      "\n",
      "1 x 4 = 4\n",
      "2 x 4 = 8\n",
      "3 x 4 = 12\n",
      "4 x 4 = 16\n",
      "5 x 4 = 20\n",
      "6 x 4 = 24\n",
      "7 x 4 = 28\n",
      "8 x 4 = 32\n",
      "9 x 4 = 36\n",
      "10 x 4 = 40\n",
      "\n",
      "1 x 5 = 5\n",
      "2 x 5 = 10\n",
      "3 x 5 = 15\n",
      "4 x 5 = 20\n",
      "5 x 5 = 25\n",
      "6 x 5 = 30\n",
      "7 x 5 = 35\n",
      "8 x 5 = 40\n",
      "9 x 5 = 45\n",
      "10 x 5 = 50\n",
      "\n",
      "1 x 6 = 6\n",
      "2 x 6 = 12\n",
      "3 x 6 = 18\n",
      "4 x 6 = 24\n",
      "5 x 6 = 30\n",
      "6 x 6 = 36\n",
      "7 x 6 = 42\n",
      "8 x 6 = 48\n",
      "9 x 6 = 54\n",
      "10 x 6 = 60\n",
      "\n",
      "1 x 7 = 7\n",
      "2 x 7 = 14\n",
      "3 x 7 = 21\n",
      "4 x 7 = 28\n",
      "5 x 7 = 35\n",
      "6 x 7 = 42\n",
      "7 x 7 = 49\n",
      "8 x 7 = 56\n",
      "9 x 7 = 63\n",
      "10 x 7 = 70\n",
      "\n",
      "1 x 8 = 8\n",
      "2 x 8 = 16\n",
      "3 x 8 = 24\n",
      "4 x 8 = 32\n",
      "5 x 8 = 40\n",
      "6 x 8 = 48\n",
      "7 x 8 = 56\n",
      "8 x 8 = 64\n",
      "9 x 8 = 72\n",
      "10 x 8 = 80\n",
      "\n",
      "1 x 9 = 9\n",
      "2 x 9 = 18\n",
      "3 x 9 = 27\n",
      "4 x 9 = 36\n",
      "5 x 9 = 45\n",
      "6 x 9 = 54\n",
      "7 x 9 = 63\n",
      "8 x 9 = 72\n",
      "9 x 9 = 81\n",
      "10 x 9 = 90\n",
      "\n",
      "1 x 10 = 10\n",
      "2 x 10 = 20\n",
      "3 x 10 = 30\n",
      "4 x 10 = 40\n",
      "5 x 10 = 50\n",
      "6 x 10 = 60\n",
      "7 x 10 = 70\n",
      "8 x 10 = 80\n",
      "9 x 10 = 90\n",
      "10 x 10 = 100\n",
      "\n",
      "1 x 11 = 11\n",
      "2 x 11 = 22\n",
      "3 x 11 = 33\n",
      "4 x 11 = 44\n",
      "5 x 11 = 55\n",
      "6 x 11 = 66\n",
      "7 x 11 = 77\n",
      "8 x 11 = 88\n",
      "9 x 11 = 99\n",
      "10 x 11 = 110\n",
      "\n",
      "1 x 12 = 12\n",
      "2 x 12 = 24\n",
      "3 x 12 = 36\n",
      "4 x 12 = 48\n",
      "5 x 12 = 60\n",
      "6 x 12 = 72\n",
      "7 x 12 = 84\n",
      "8 x 12 = 96\n",
      "9 x 12 = 108\n",
      "10 x 12 = 120\n",
      "\n",
      "1 x 13 = 13\n",
      "2 x 13 = 26\n",
      "3 x 13 = 39\n",
      "4 x 13 = 52\n",
      "5 x 13 = 65\n",
      "6 x 13 = 78\n",
      "7 x 13 = 91\n",
      "8 x 13 = 104\n",
      "9 x 13 = 117\n",
      "10 x 13 = 130\n",
      "\n",
      "1 x 14 = 14\n",
      "2 x 14 = 28\n",
      "3 x 14 = 42\n",
      "4 x 14 = 56\n",
      "5 x 14 = 70\n",
      "6 x 14 = 84\n",
      "7 x 14 = 98\n",
      "8 x 14 = 112\n",
      "9 x 14 = 126\n",
      "10 x 14 = 140\n",
      "\n",
      "1 x 15 = 15\n",
      "2 x 15 = 30\n",
      "3 x 15 = 45\n",
      "4 x 15 = 60\n",
      "5 x 15 = 75\n",
      "6 x 15 = 90\n",
      "7 x 15 = 105\n",
      "8 x 15 = 120\n",
      "9 x 15 = 135\n",
      "10 x 15 = 150\n",
      "\n",
      "1 x 16 = 16\n",
      "2 x 16 = 32\n",
      "3 x 16 = 48\n",
      "4 x 16 = 64\n",
      "5 x 16 = 80\n",
      "6 x 16 = 96\n",
      "7 x 16 = 112\n",
      "8 x 16 = 128\n",
      "9 x 16 = 144\n",
      "10 x 16 = 160\n",
      "\n",
      "1 x 17 = 17\n",
      "2 x 17 = 34\n",
      "3 x 17 = 51\n",
      "4 x 17 = 68\n",
      "5 x 17 = 85\n",
      "6 x 17 = 102\n",
      "7 x 17 = 119\n",
      "8 x 17 = 136\n",
      "9 x 17 = 153\n",
      "10 x 17 = 170\n",
      "\n",
      "1 x 18 = 18\n",
      "2 x 18 = 36\n",
      "3 x 18 = 54\n",
      "4 x 18 = 72\n",
      "5 x 18 = 90\n",
      "6 x 18 = 108\n",
      "7 x 18 = 126\n",
      "8 x 18 = 144\n",
      "9 x 18 = 162\n",
      "10 x 18 = 180\n",
      "\n",
      "1 x 19 = 19\n",
      "2 x 19 = 38\n",
      "3 x 19 = 57\n",
      "4 x 19 = 76\n",
      "5 x 19 = 95\n",
      "6 x 19 = 114\n",
      "7 x 19 = 133\n",
      "8 x 19 = 152\n",
      "9 x 19 = 171\n",
      "10 x 19 = 190\n",
      "\n",
      "1 x 20 = 20\n",
      "2 x 20 = 40\n",
      "3 x 20 = 60\n",
      "4 x 20 = 80\n",
      "5 x 20 = 100\n",
      "6 x 20 = 120\n",
      "7 x 20 = 140\n",
      "8 x 20 = 160\n",
      "9 x 20 = 180\n",
      "10 x 20 = 200\n",
      "\n",
      "1 x 21 = 21\n",
      "2 x 21 = 42\n",
      "3 x 21 = 63\n",
      "4 x 21 = 84\n",
      "5 x 21 = 105\n",
      "6 x 21 = 126\n",
      "7 x 21 = 147\n",
      "8 x 21 = 168\n",
      "9 x 21 = 189\n",
      "10 x 21 = 210\n",
      "\n",
      "1 x 22 = 22\n",
      "2 x 22 = 44\n",
      "3 x 22 = 66\n",
      "4 x 22 = 88\n",
      "5 x 22 = 110\n",
      "6 x 22 = 132\n",
      "7 x 22 = 154\n",
      "8 x 22 = 176\n",
      "9 x 22 = 198\n",
      "10 x 22 = 220\n",
      "\n",
      "1 x 23 = 23\n",
      "2 x 23 = 46\n",
      "3 x 23 = 69\n",
      "4 x 23 = 92\n",
      "5 x 23 = 115\n",
      "6 x 23 = 138\n",
      "7 x 23 = 161\n",
      "8 x 23 = 184\n",
      "9 x 23 = 207\n",
      "10 x 23 = 230\n",
      "\n",
      "1 x 24 = 24\n",
      "2 x 24 = 48\n",
      "3 x 24 = 72\n",
      "4 x 24 = 96\n",
      "5 x 24 = 120\n",
      "6 x 24 = 144\n",
      "7 x 24 = 168\n",
      "8 x 24 = 192\n",
      "9 x 24 = 216\n",
      "10 x 24 = 240\n",
      "\n",
      "1 x 25 = 25\n",
      "2 x 25 = 50\n",
      "3 x 25 = 75\n",
      "4 x 25 = 100\n",
      "5 x 25 = 125\n",
      "6 x 25 = 150\n",
      "7 x 25 = 175\n",
      "8 x 25 = 200\n",
      "9 x 25 = 225\n",
      "10 x 25 = 250\n",
      "\n",
      "1 x 26 = 26\n",
      "2 x 26 = 52\n",
      "3 x 26 = 78\n",
      "4 x 26 = 104\n",
      "5 x 26 = 130\n",
      "6 x 26 = 156\n",
      "7 x 26 = 182\n",
      "8 x 26 = 208\n",
      "9 x 26 = 234\n",
      "10 x 26 = 260\n",
      "\n",
      "1 x 27 = 27\n",
      "2 x 27 = 54\n",
      "3 x 27 = 81\n",
      "4 x 27 = 108\n",
      "5 x 27 = 135\n",
      "6 x 27 = 162\n",
      "7 x 27 = 189\n",
      "8 x 27 = 216\n",
      "9 x 27 = 243\n",
      "10 x 27 = 270\n",
      "\n",
      "1 x 28 = 28\n",
      "2 x 28 = 56\n",
      "3 x 28 = 84\n",
      "4 x 28 = 112\n",
      "5 x 28 = 140\n",
      "6 x 28 = 168\n",
      "7 x 28 = 196\n",
      "8 x 28 = 224\n",
      "9 x 28 = 252\n",
      "10 x 28 = 280\n",
      "\n",
      "1 x 29 = 29\n",
      "2 x 29 = 58\n",
      "3 x 29 = 87\n",
      "4 x 29 = 116\n",
      "5 x 29 = 145\n",
      "6 x 29 = 174\n",
      "7 x 29 = 203\n",
      "8 x 29 = 232\n",
      "9 x 29 = 261\n",
      "10 x 29 = 290\n",
      "\n",
      "1 x 30 = 30\n",
      "2 x 30 = 60\n",
      "3 x 30 = 90\n",
      "4 x 30 = 120\n",
      "5 x 30 = 150\n",
      "6 x 30 = 180\n",
      "7 x 30 = 210\n",
      "8 x 30 = 240\n",
      "9 x 30 = 270\n",
      "10 x 30 = 300\n",
      "\n",
      "1 x 31 = 31\n",
      "2 x 31 = 62\n",
      "3 x 31 = 93\n",
      "4 x 31 = 124\n",
      "5 x 31 = 155\n",
      "6 x 31 = 186\n",
      "7 x 31 = 217\n",
      "8 x 31 = 248\n",
      "9 x 31 = 279\n",
      "10 x 31 = 310\n",
      "\n",
      "1 x 32 = 32\n",
      "2 x 32 = 64\n",
      "3 x 32 = 96\n",
      "4 x 32 = 128\n",
      "5 x 32 = 160\n",
      "6 x 32 = 192\n",
      "7 x 32 = 224\n",
      "8 x 32 = 256\n",
      "9 x 32 = 288\n",
      "10 x 32 = 320\n",
      "\n",
      "1 x 33 = 33\n",
      "2 x 33 = 66\n",
      "3 x 33 = 99\n",
      "4 x 33 = 132\n",
      "5 x 33 = 165\n",
      "6 x 33 = 198\n",
      "7 x 33 = 231\n",
      "8 x 33 = 264\n",
      "9 x 33 = 297\n",
      "10 x 33 = 330\n",
      "\n",
      "1 x 34 = 34\n",
      "2 x 34 = 68\n",
      "3 x 34 = 102\n",
      "4 x 34 = 136\n",
      "5 x 34 = 170\n",
      "6 x 34 = 204\n",
      "7 x 34 = 238\n",
      "8 x 34 = 272\n",
      "9 x 34 = 306\n",
      "10 x 34 = 340\n",
      "\n",
      "1 x 35 = 35\n",
      "2 x 35 = 70\n",
      "3 x 35 = 105\n",
      "4 x 35 = 140\n",
      "5 x 35 = 175\n",
      "6 x 35 = 210\n",
      "7 x 35 = 245\n",
      "8 x 35 = 280\n",
      "9 x 35 = 315\n",
      "10 x 35 = 350\n",
      "\n",
      "1 x 36 = 36\n",
      "2 x 36 = 72\n",
      "3 x 36 = 108\n",
      "4 x 36 = 144\n",
      "5 x 36 = 180\n",
      "6 x 36 = 216\n",
      "7 x 36 = 252\n",
      "8 x 36 = 288\n",
      "9 x 36 = 324\n",
      "10 x 36 = 360\n",
      "\n",
      "1 x 37 = 37\n",
      "2 x 37 = 74\n",
      "3 x 37 = 111\n",
      "4 x 37 = 148\n",
      "5 x 37 = 185\n",
      "6 x 37 = 222\n",
      "7 x 37 = 259\n",
      "8 x 37 = 296\n",
      "9 x 37 = 333\n",
      "10 x 37 = 370\n",
      "\n",
      "1 x 38 = 38\n",
      "2 x 38 = 76\n",
      "3 x 38 = 114\n",
      "4 x 38 = 152\n",
      "5 x 38 = 190\n",
      "6 x 38 = 228\n",
      "7 x 38 = 266\n",
      "8 x 38 = 304\n",
      "9 x 38 = 342\n",
      "10 x 38 = 380\n",
      "\n",
      "1 x 39 = 39\n",
      "2 x 39 = 78\n",
      "3 x 39 = 117\n",
      "4 x 39 = 156\n",
      "5 x 39 = 195\n",
      "6 x 39 = 234\n",
      "7 x 39 = 273\n",
      "8 x 39 = 312\n",
      "9 x 39 = 351\n",
      "10 x 39 = 390\n",
      "\n",
      "1 x 40 = 40\n",
      "2 x 40 = 80\n",
      "3 x 40 = 120\n",
      "4 x 40 = 160\n",
      "5 x 40 = 200\n",
      "6 x 40 = 240\n",
      "7 x 40 = 280\n",
      "8 x 40 = 320\n",
      "9 x 40 = 360\n",
      "10 x 40 = 400\n",
      "\n",
      "1 x 41 = 41\n",
      "2 x 41 = 82\n",
      "3 x 41 = 123\n",
      "4 x 41 = 164\n",
      "5 x 41 = 205\n",
      "6 x 41 = 246\n",
      "7 x 41 = 287\n",
      "8 x 41 = 328\n",
      "9 x 41 = 369\n",
      "10 x 41 = 410\n",
      "\n",
      "1 x 42 = 42\n",
      "2 x 42 = 84\n",
      "3 x 42 = 126\n",
      "4 x 42 = 168\n",
      "5 x 42 = 210\n",
      "6 x 42 = 252\n",
      "7 x 42 = 294\n",
      "8 x 42 = 336\n",
      "9 x 42 = 378\n",
      "10 x 42 = 420\n",
      "\n",
      "1 x 43 = 43\n",
      "2 x 43 = 86\n",
      "3 x 43 = 129\n",
      "4 x 43 = 172\n",
      "5 x 43 = 215\n",
      "6 x 43 = 258\n",
      "7 x 43 = 301\n",
      "8 x 43 = 344\n",
      "9 x 43 = 387\n",
      "10 x 43 = 430\n",
      "\n",
      "1 x 44 = 44\n",
      "2 x 44 = 88\n",
      "3 x 44 = 132\n",
      "4 x 44 = 176\n",
      "5 x 44 = 220\n",
      "6 x 44 = 264\n",
      "7 x 44 = 308\n",
      "8 x 44 = 352\n",
      "9 x 44 = 396\n",
      "10 x 44 = 440\n",
      "\n",
      "1 x 45 = 45\n",
      "2 x 45 = 90\n",
      "3 x 45 = 135\n",
      "4 x 45 = 180\n",
      "5 x 45 = 225\n",
      "6 x 45 = 270\n",
      "7 x 45 = 315\n",
      "8 x 45 = 360\n",
      "9 x 45 = 405\n",
      "10 x 45 = 450\n",
      "\n",
      "1 x 46 = 46\n",
      "2 x 46 = 92\n",
      "3 x 46 = 138\n",
      "4 x 46 = 184\n",
      "5 x 46 = 230\n",
      "6 x 46 = 276\n",
      "7 x 46 = 322\n",
      "8 x 46 = 368\n",
      "9 x 46 = 414\n",
      "10 x 46 = 460\n",
      "\n",
      "1 x 47 = 47\n",
      "2 x 47 = 94\n",
      "3 x 47 = 141\n",
      "4 x 47 = 188\n",
      "5 x 47 = 235\n",
      "6 x 47 = 282\n",
      "7 x 47 = 329\n",
      "8 x 47 = 376\n",
      "9 x 47 = 423\n",
      "10 x 47 = 470\n",
      "\n",
      "1 x 48 = 48\n",
      "2 x 48 = 96\n",
      "3 x 48 = 144\n",
      "4 x 48 = 192\n",
      "5 x 48 = 240\n",
      "6 x 48 = 288\n",
      "7 x 48 = 336\n",
      "8 x 48 = 384\n",
      "9 x 48 = 432\n",
      "10 x 48 = 480\n",
      "\n",
      "1 x 49 = 49\n",
      "2 x 49 = 98\n",
      "3 x 49 = 147\n",
      "4 x 49 = 196\n",
      "5 x 49 = 245\n",
      "6 x 49 = 294\n",
      "7 x 49 = 343\n",
      "8 x 49 = 392\n",
      "9 x 49 = 441\n",
      "10 x 49 = 490\n",
      "\n",
      "1 x 50 = 50\n",
      "2 x 50 = 100\n",
      "3 x 50 = 150\n",
      "4 x 50 = 200\n",
      "5 x 50 = 250\n",
      "6 x 50 = 300\n",
      "7 x 50 = 350\n",
      "8 x 50 = 400\n",
      "9 x 50 = 450\n",
      "10 x 50 = 500\n",
      "\n",
      "1 x 51 = 51\n",
      "2 x 51 = 102\n",
      "3 x 51 = 153\n",
      "4 x 51 = 204\n",
      "5 x 51 = 255\n",
      "6 x 51 = 306\n",
      "7 x 51 = 357\n",
      "8 x 51 = 408\n",
      "9 x 51 = 459\n",
      "10 x 51 = 510\n",
      "\n",
      "1 x 52 = 52\n",
      "2 x 52 = 104\n",
      "3 x 52 = 156\n",
      "4 x 52 = 208\n",
      "5 x 52 = 260\n",
      "6 x 52 = 312\n",
      "7 x 52 = 364\n",
      "8 x 52 = 416\n",
      "9 x 52 = 468\n",
      "10 x 52 = 520\n",
      "\n",
      "1 x 53 = 53\n",
      "2 x 53 = 106\n",
      "3 x 53 = 159\n",
      "4 x 53 = 212\n",
      "5 x 53 = 265\n",
      "6 x 53 = 318\n",
      "7 x 53 = 371\n",
      "8 x 53 = 424\n",
      "9 x 53 = 477\n",
      "10 x 53 = 530\n",
      "\n",
      "1 x 54 = 54\n",
      "2 x 54 = 108\n",
      "3 x 54 = 162\n",
      "4 x 54 = 216\n",
      "5 x 54 = 270\n",
      "6 x 54 = 324\n",
      "7 x 54 = 378\n",
      "8 x 54 = 432\n",
      "9 x 54 = 486\n",
      "10 x 54 = 540\n",
      "\n",
      "1 x 55 = 55\n",
      "2 x 55 = 110\n",
      "3 x 55 = 165\n",
      "4 x 55 = 220\n",
      "5 x 55 = 275\n",
      "6 x 55 = 330\n",
      "7 x 55 = 385\n",
      "8 x 55 = 440\n",
      "9 x 55 = 495\n",
      "10 x 55 = 550\n",
      "\n",
      "1 x 56 = 56\n",
      "2 x 56 = 112\n",
      "3 x 56 = 168\n",
      "4 x 56 = 224\n",
      "5 x 56 = 280\n",
      "6 x 56 = 336\n",
      "7 x 56 = 392\n",
      "8 x 56 = 448\n",
      "9 x 56 = 504\n",
      "10 x 56 = 560\n",
      "\n",
      "1 x 57 = 57\n",
      "2 x 57 = 114\n",
      "3 x 57 = 171\n",
      "4 x 57 = 228\n",
      "5 x 57 = 285\n",
      "6 x 57 = 342\n",
      "7 x 57 = 399\n",
      "8 x 57 = 456\n",
      "9 x 57 = 513\n",
      "10 x 57 = 570\n",
      "\n",
      "1 x 58 = 58\n",
      "2 x 58 = 116\n",
      "3 x 58 = 174\n",
      "4 x 58 = 232\n",
      "5 x 58 = 290\n",
      "6 x 58 = 348\n",
      "7 x 58 = 406\n",
      "8 x 58 = 464\n",
      "9 x 58 = 522\n",
      "10 x 58 = 580\n",
      "\n",
      "1 x 59 = 59\n",
      "2 x 59 = 118\n",
      "3 x 59 = 177\n",
      "4 x 59 = 236\n",
      "5 x 59 = 295\n",
      "6 x 59 = 354\n",
      "7 x 59 = 413\n",
      "8 x 59 = 472\n",
      "9 x 59 = 531\n",
      "10 x 59 = 590\n",
      "\n",
      "1 x 60 = 60\n",
      "2 x 60 = 120\n",
      "3 x 60 = 180\n",
      "4 x 60 = 240\n",
      "5 x 60 = 300\n",
      "6 x 60 = 360\n",
      "7 x 60 = 420\n",
      "8 x 60 = 480\n",
      "9 x 60 = 540\n",
      "10 x 60 = 600\n",
      "\n",
      "1 x 61 = 61\n",
      "2 x 61 = 122\n",
      "3 x 61 = 183\n",
      "4 x 61 = 244\n",
      "5 x 61 = 305\n",
      "6 x 61 = 366\n",
      "7 x 61 = 427\n",
      "8 x 61 = 488\n",
      "9 x 61 = 549\n",
      "10 x 61 = 610\n",
      "\n",
      "1 x 62 = 62\n",
      "2 x 62 = 124\n",
      "3 x 62 = 186\n",
      "4 x 62 = 248\n",
      "5 x 62 = 310\n",
      "6 x 62 = 372\n",
      "7 x 62 = 434\n",
      "8 x 62 = 496\n",
      "9 x 62 = 558\n",
      "10 x 62 = 620\n",
      "\n",
      "1 x 63 = 63\n",
      "2 x 63 = 126\n",
      "3 x 63 = 189\n",
      "4 x 63 = 252\n",
      "5 x 63 = 315\n",
      "6 x 63 = 378\n",
      "7 x 63 = 441\n",
      "8 x 63 = 504\n",
      "9 x 63 = 567\n",
      "10 x 63 = 630\n",
      "\n",
      "1 x 64 = 64\n",
      "2 x 64 = 128\n",
      "3 x 64 = 192\n",
      "4 x 64 = 256\n",
      "5 x 64 = 320\n",
      "6 x 64 = 384\n",
      "7 x 64 = 448\n",
      "8 x 64 = 512\n",
      "9 x 64 = 576\n",
      "10 x 64 = 640\n",
      "\n",
      "1 x 65 = 65\n",
      "2 x 65 = 130\n",
      "3 x 65 = 195\n",
      "4 x 65 = 260\n",
      "5 x 65 = 325\n",
      "6 x 65 = 390\n",
      "7 x 65 = 455\n",
      "8 x 65 = 520\n",
      "9 x 65 = 585\n",
      "10 x 65 = 650\n",
      "\n",
      "1 x 66 = 66\n",
      "2 x 66 = 132\n",
      "3 x 66 = 198\n",
      "4 x 66 = 264\n",
      "5 x 66 = 330\n",
      "6 x 66 = 396\n",
      "7 x 66 = 462\n",
      "8 x 66 = 528\n",
      "9 x 66 = 594\n",
      "10 x 66 = 660\n",
      "\n",
      "1 x 67 = 67\n",
      "2 x 67 = 134\n",
      "3 x 67 = 201\n",
      "4 x 67 = 268\n",
      "5 x 67 = 335\n",
      "6 x 67 = 402\n",
      "7 x 67 = 469\n",
      "8 x 67 = 536\n",
      "9 x 67 = 603\n",
      "10 x 67 = 670\n",
      "\n",
      "1 x 68 = 68\n",
      "2 x 68 = 136\n",
      "3 x 68 = 204\n",
      "4 x 68 = 272\n",
      "5 x 68 = 340\n",
      "6 x 68 = 408\n",
      "7 x 68 = 476\n",
      "8 x 68 = 544\n",
      "9 x 68 = 612\n",
      "10 x 68 = 680\n",
      "\n",
      "1 x 69 = 69\n",
      "2 x 69 = 138\n",
      "3 x 69 = 207\n",
      "4 x 69 = 276\n",
      "5 x 69 = 345\n",
      "6 x 69 = 414\n",
      "7 x 69 = 483\n",
      "8 x 69 = 552\n",
      "9 x 69 = 621\n",
      "10 x 69 = 690\n",
      "\n",
      "1 x 70 = 70\n",
      "2 x 70 = 140\n",
      "3 x 70 = 210\n",
      "4 x 70 = 280\n",
      "5 x 70 = 350\n",
      "6 x 70 = 420\n",
      "7 x 70 = 490\n",
      "8 x 70 = 560\n",
      "9 x 70 = 630\n",
      "10 x 70 = 700\n",
      "\n",
      "1 x 71 = 71\n",
      "2 x 71 = 142\n",
      "3 x 71 = 213\n",
      "4 x 71 = 284\n",
      "5 x 71 = 355\n",
      "6 x 71 = 426\n",
      "7 x 71 = 497\n",
      "8 x 71 = 568\n",
      "9 x 71 = 639\n",
      "10 x 71 = 710\n",
      "\n",
      "1 x 72 = 72\n",
      "2 x 72 = 144\n",
      "3 x 72 = 216\n",
      "4 x 72 = 288\n",
      "5 x 72 = 360\n",
      "6 x 72 = 432\n",
      "7 x 72 = 504\n",
      "8 x 72 = 576\n",
      "9 x 72 = 648\n",
      "10 x 72 = 720\n",
      "\n",
      "1 x 73 = 73\n",
      "2 x 73 = 146\n",
      "3 x 73 = 219\n",
      "4 x 73 = 292\n",
      "5 x 73 = 365\n",
      "6 x 73 = 438\n",
      "7 x 73 = 511\n",
      "8 x 73 = 584\n",
      "9 x 73 = 657\n",
      "10 x 73 = 730\n",
      "\n",
      "1 x 74 = 74\n",
      "2 x 74 = 148\n",
      "3 x 74 = 222\n",
      "4 x 74 = 296\n",
      "5 x 74 = 370\n",
      "6 x 74 = 444\n",
      "7 x 74 = 518\n",
      "8 x 74 = 592\n",
      "9 x 74 = 666\n",
      "10 x 74 = 740\n",
      "\n",
      "1 x 75 = 75\n",
      "2 x 75 = 150\n",
      "3 x 75 = 225\n",
      "4 x 75 = 300\n",
      "5 x 75 = 375\n",
      "6 x 75 = 450\n",
      "7 x 75 = 525\n",
      "8 x 75 = 600\n",
      "9 x 75 = 675\n",
      "10 x 75 = 750\n",
      "\n",
      "1 x 76 = 76\n",
      "2 x 76 = 152\n",
      "3 x 76 = 228\n",
      "4 x 76 = 304\n",
      "5 x 76 = 380\n",
      "6 x 76 = 456\n",
      "7 x 76 = 532\n",
      "8 x 76 = 608\n",
      "9 x 76 = 684\n",
      "10 x 76 = 760\n",
      "\n",
      "1 x 77 = 77\n",
      "2 x 77 = 154\n",
      "3 x 77 = 231\n",
      "4 x 77 = 308\n",
      "5 x 77 = 385\n",
      "6 x 77 = 462\n",
      "7 x 77 = 539\n",
      "8 x 77 = 616\n",
      "9 x 77 = 693\n",
      "10 x 77 = 770\n",
      "\n",
      "1 x 78 = 78\n",
      "2 x 78 = 156\n",
      "3 x 78 = 234\n",
      "4 x 78 = 312\n",
      "5 x 78 = 390\n",
      "6 x 78 = 468\n",
      "7 x 78 = 546\n",
      "8 x 78 = 624\n",
      "9 x 78 = 702\n",
      "10 x 78 = 780\n",
      "\n",
      "1 x 79 = 79\n",
      "2 x 79 = 158\n",
      "3 x 79 = 237\n",
      "4 x 79 = 316\n",
      "5 x 79 = 395\n",
      "6 x 79 = 474\n",
      "7 x 79 = 553\n",
      "8 x 79 = 632\n",
      "9 x 79 = 711\n",
      "10 x 79 = 790\n",
      "\n",
      "1 x 80 = 80\n",
      "2 x 80 = 160\n",
      "3 x 80 = 240\n",
      "4 x 80 = 320\n",
      "5 x 80 = 400\n",
      "6 x 80 = 480\n",
      "7 x 80 = 560\n",
      "8 x 80 = 640\n",
      "9 x 80 = 720\n",
      "10 x 80 = 800\n",
      "\n",
      "1 x 81 = 81\n",
      "2 x 81 = 162\n",
      "3 x 81 = 243\n",
      "4 x 81 = 324\n",
      "5 x 81 = 405\n",
      "6 x 81 = 486\n",
      "7 x 81 = 567\n",
      "8 x 81 = 648\n",
      "9 x 81 = 729\n",
      "10 x 81 = 810\n",
      "\n",
      "1 x 82 = 82\n",
      "2 x 82 = 164\n",
      "3 x 82 = 246\n",
      "4 x 82 = 328\n",
      "5 x 82 = 410\n",
      "6 x 82 = 492\n",
      "7 x 82 = 574\n",
      "8 x 82 = 656\n",
      "9 x 82 = 738\n",
      "10 x 82 = 820\n",
      "\n",
      "1 x 83 = 83\n",
      "2 x 83 = 166\n",
      "3 x 83 = 249\n",
      "4 x 83 = 332\n",
      "5 x 83 = 415\n",
      "6 x 83 = 498\n",
      "7 x 83 = 581\n",
      "8 x 83 = 664\n",
      "9 x 83 = 747\n",
      "10 x 83 = 830\n",
      "\n",
      "1 x 84 = 84\n",
      "2 x 84 = 168\n",
      "3 x 84 = 252\n",
      "4 x 84 = 336\n",
      "5 x 84 = 420\n",
      "6 x 84 = 504\n",
      "7 x 84 = 588\n",
      "8 x 84 = 672\n",
      "9 x 84 = 756\n",
      "10 x 84 = 840\n",
      "\n",
      "1 x 85 = 85\n",
      "2 x 85 = 170\n",
      "3 x 85 = 255\n",
      "4 x 85 = 340\n",
      "5 x 85 = 425\n",
      "6 x 85 = 510\n",
      "7 x 85 = 595\n",
      "8 x 85 = 680\n",
      "9 x 85 = 765\n",
      "10 x 85 = 850\n",
      "\n",
      "1 x 86 = 86\n",
      "2 x 86 = 172\n",
      "3 x 86 = 258\n",
      "4 x 86 = 344\n",
      "5 x 86 = 430\n",
      "6 x 86 = 516\n",
      "7 x 86 = 602\n",
      "8 x 86 = 688\n",
      "9 x 86 = 774\n",
      "10 x 86 = 860\n",
      "\n",
      "1 x 87 = 87\n",
      "2 x 87 = 174\n",
      "3 x 87 = 261\n",
      "4 x 87 = 348\n",
      "5 x 87 = 435\n",
      "6 x 87 = 522\n",
      "7 x 87 = 609\n",
      "8 x 87 = 696\n",
      "9 x 87 = 783\n",
      "10 x 87 = 870\n",
      "\n",
      "1 x 88 = 88\n",
      "2 x 88 = 176\n",
      "3 x 88 = 264\n",
      "4 x 88 = 352\n",
      "5 x 88 = 440\n",
      "6 x 88 = 528\n",
      "7 x 88 = 616\n",
      "8 x 88 = 704\n",
      "9 x 88 = 792\n",
      "10 x 88 = 880\n",
      "\n",
      "1 x 89 = 89\n",
      "2 x 89 = 178\n",
      "3 x 89 = 267\n",
      "4 x 89 = 356\n",
      "5 x 89 = 445\n",
      "6 x 89 = 534\n",
      "7 x 89 = 623\n",
      "8 x 89 = 712\n",
      "9 x 89 = 801\n",
      "10 x 89 = 890\n",
      "\n",
      "1 x 90 = 90\n",
      "2 x 90 = 180\n",
      "3 x 90 = 270\n",
      "4 x 90 = 360\n",
      "5 x 90 = 450\n",
      "6 x 90 = 540\n",
      "7 x 90 = 630\n",
      "8 x 90 = 720\n",
      "9 x 90 = 810\n",
      "10 x 90 = 900\n",
      "\n",
      "1 x 91 = 91\n",
      "2 x 91 = 182\n",
      "3 x 91 = 273\n",
      "4 x 91 = 364\n",
      "5 x 91 = 455\n",
      "6 x 91 = 546\n",
      "7 x 91 = 637\n",
      "8 x 91 = 728\n",
      "9 x 91 = 819\n",
      "10 x 91 = 910\n",
      "\n",
      "1 x 92 = 92\n",
      "2 x 92 = 184\n",
      "3 x 92 = 276\n",
      "4 x 92 = 368\n",
      "5 x 92 = 460\n",
      "6 x 92 = 552\n",
      "7 x 92 = 644\n",
      "8 x 92 = 736\n",
      "9 x 92 = 828\n",
      "10 x 92 = 920\n",
      "\n",
      "1 x 93 = 93\n",
      "2 x 93 = 186\n",
      "3 x 93 = 279\n",
      "4 x 93 = 372\n",
      "5 x 93 = 465\n",
      "6 x 93 = 558\n",
      "7 x 93 = 651\n",
      "8 x 93 = 744\n",
      "9 x 93 = 837\n",
      "10 x 93 = 930\n",
      "\n",
      "1 x 94 = 94\n",
      "2 x 94 = 188\n",
      "3 x 94 = 282\n",
      "4 x 94 = 376\n",
      "5 x 94 = 470\n",
      "6 x 94 = 564\n",
      "7 x 94 = 658\n",
      "8 x 94 = 752\n",
      "9 x 94 = 846\n",
      "10 x 94 = 940\n",
      "\n",
      "1 x 95 = 95\n",
      "2 x 95 = 190\n",
      "3 x 95 = 285\n",
      "4 x 95 = 380\n",
      "5 x 95 = 475\n",
      "6 x 95 = 570\n",
      "7 x 95 = 665\n",
      "8 x 95 = 760\n",
      "9 x 95 = 855\n",
      "10 x 95 = 950\n",
      "\n",
      "1 x 96 = 96\n",
      "2 x 96 = 192\n",
      "3 x 96 = 288\n",
      "4 x 96 = 384\n",
      "5 x 96 = 480\n",
      "6 x 96 = 576\n",
      "7 x 96 = 672\n",
      "8 x 96 = 768\n",
      "9 x 96 = 864\n",
      "10 x 96 = 960\n",
      "\n",
      "1 x 97 = 97\n",
      "2 x 97 = 194\n",
      "3 x 97 = 291\n",
      "4 x 97 = 388\n",
      "5 x 97 = 485\n",
      "6 x 97 = 582\n",
      "7 x 97 = 679\n",
      "8 x 97 = 776\n",
      "9 x 97 = 873\n",
      "10 x 97 = 970\n",
      "\n",
      "1 x 98 = 98\n",
      "2 x 98 = 196\n",
      "3 x 98 = 294\n",
      "4 x 98 = 392\n",
      "5 x 98 = 490\n",
      "6 x 98 = 588\n",
      "7 x 98 = 686\n",
      "8 x 98 = 784\n",
      "9 x 98 = 882\n",
      "10 x 98 = 980\n",
      "\n",
      "1 x 99 = 99\n",
      "2 x 99 = 198\n",
      "3 x 99 = 297\n",
      "4 x 99 = 396\n",
      "5 x 99 = 495\n",
      "6 x 99 = 594\n",
      "7 x 99 = 693\n",
      "8 x 99 = 792\n",
      "9 x 99 = 891\n",
      "10 x 99 = 990\n",
      "\n",
      "1 x 100 = 100\n",
      "2 x 100 = 200\n",
      "3 x 100 = 300\n",
      "4 x 100 = 400\n",
      "5 x 100 = 500\n",
      "6 x 100 = 600\n",
      "7 x 100 = 700\n",
      "8 x 100 = 800\n",
      "9 x 100 = 900\n",
      "10 x 100 = 1000\n",
      "\n"
     ]
    }
   ],
   "execution_count": 12
  },
  {
   "cell_type": "markdown",
   "metadata": {},
   "source": [
    "## For-loop"
   ]
  },
  {
   "cell_type": "markdown",
   "metadata": {},
   "source": [
    "Vervang de while-loop door een werkende for-loop. De uitkomst van het programma mag daarbij niet veranderen."
   ]
  },
  {
   "cell_type": "code",
   "metadata": {
    "ExecuteTime": {
     "end_time": "2025-02-20T11:36:17.564197Z",
     "start_time": "2025-02-20T11:36:17.558796Z"
    }
   },
   "source": [
    "def loopje():\n",
    "    aantal = 0\n",
    "\n",
    "    for aantal in range(10):\n",
    "        print(f\"huidige getal: {aantal}\")\n",
    "\n",
    "loopje()"
   ],
   "outputs": [
    {
     "name": "stdout",
     "output_type": "stream",
     "text": [
      "huidige getal: 0\n",
      "huidige getal: 1\n",
      "huidige getal: 2\n",
      "huidige getal: 3\n",
      "huidige getal: 4\n",
      "huidige getal: 5\n",
      "huidige getal: 6\n",
      "huidige getal: 7\n",
      "huidige getal: 8\n",
      "huidige getal: 9\n"
     ]
    }
   ],
   "execution_count": 13
  },
  {
   "cell_type": "markdown",
   "metadata": {},
   "source": [
    "Schrijf de methode checkEven die achtereenvolgens 12 getallen inleest en afdrukt hoe vaak het ingevoerde getal even was."
   ]
  },
  {
   "cell_type": "code",
   "metadata": {
    "ExecuteTime": {
     "end_time": "2025-02-20T11:36:35.680639Z",
     "start_time": "2025-02-20T11:36:17.624694Z"
    }
   },
   "source": [
    "def checkEven():\n",
    "    even = 0\n",
    "\n",
    "    for i in range(12):\n",
    "        getal = int(input())\n",
    "        if getal % 2 == 0:\n",
    "            even += 1\n",
    "    print(f\"even getallen: {even}\")\n",
    "\n",
    "checkEven()"
   ],
   "outputs": [
    {
     "ename": "KeyboardInterrupt",
     "evalue": "Interrupted by user",
     "output_type": "error",
     "traceback": [
      "\u001B[1;31m---------------------------------------------------------------------------\u001B[0m",
      "\u001B[1;31mKeyboardInterrupt\u001B[0m                         Traceback (most recent call last)",
      "Cell \u001B[1;32mIn[14], line 10\u001B[0m\n\u001B[0;32m      7\u001B[0m             even \u001B[38;5;241m+\u001B[39m\u001B[38;5;241m=\u001B[39m \u001B[38;5;241m1\u001B[39m\n\u001B[0;32m      8\u001B[0m     \u001B[38;5;28mprint\u001B[39m(\u001B[38;5;124mf\u001B[39m\u001B[38;5;124m\"\u001B[39m\u001B[38;5;124meven getallen: \u001B[39m\u001B[38;5;132;01m{\u001B[39;00meven\u001B[38;5;132;01m}\u001B[39;00m\u001B[38;5;124m\"\u001B[39m)\n\u001B[1;32m---> 10\u001B[0m \u001B[43mcheckEven\u001B[49m\u001B[43m(\u001B[49m\u001B[43m)\u001B[49m\n",
      "Cell \u001B[1;32mIn[14], line 5\u001B[0m, in \u001B[0;36mcheckEven\u001B[1;34m()\u001B[0m\n\u001B[0;32m      2\u001B[0m even \u001B[38;5;241m=\u001B[39m \u001B[38;5;241m0\u001B[39m\n\u001B[0;32m      4\u001B[0m \u001B[38;5;28;01mfor\u001B[39;00m i \u001B[38;5;129;01min\u001B[39;00m \u001B[38;5;28mrange\u001B[39m(\u001B[38;5;241m12\u001B[39m):\n\u001B[1;32m----> 5\u001B[0m     getal \u001B[38;5;241m=\u001B[39m \u001B[38;5;28mint\u001B[39m(\u001B[38;5;28;43minput\u001B[39;49m\u001B[43m(\u001B[49m\u001B[43m)\u001B[49m)\n\u001B[0;32m      6\u001B[0m     \u001B[38;5;28;01mif\u001B[39;00m getal \u001B[38;5;241m%\u001B[39m \u001B[38;5;241m2\u001B[39m \u001B[38;5;241m==\u001B[39m \u001B[38;5;241m0\u001B[39m:\n\u001B[0;32m      7\u001B[0m         even \u001B[38;5;241m+\u001B[39m\u001B[38;5;241m=\u001B[39m \u001B[38;5;241m1\u001B[39m\n",
      "File \u001B[1;32m~\\AppData\\Local\\Programs\\Python\\Python313\\Lib\\site-packages\\ipykernel\\kernelbase.py:1282\u001B[0m, in \u001B[0;36mKernel.raw_input\u001B[1;34m(self, prompt)\u001B[0m\n\u001B[0;32m   1280\u001B[0m     msg \u001B[38;5;241m=\u001B[39m \u001B[38;5;124m\"\u001B[39m\u001B[38;5;124mraw_input was called, but this frontend does not support input requests.\u001B[39m\u001B[38;5;124m\"\u001B[39m\n\u001B[0;32m   1281\u001B[0m     \u001B[38;5;28;01mraise\u001B[39;00m StdinNotImplementedError(msg)\n\u001B[1;32m-> 1282\u001B[0m \u001B[38;5;28;01mreturn\u001B[39;00m \u001B[38;5;28;43mself\u001B[39;49m\u001B[38;5;241;43m.\u001B[39;49m\u001B[43m_input_request\u001B[49m\u001B[43m(\u001B[49m\n\u001B[0;32m   1283\u001B[0m \u001B[43m    \u001B[49m\u001B[38;5;28;43mstr\u001B[39;49m\u001B[43m(\u001B[49m\u001B[43mprompt\u001B[49m\u001B[43m)\u001B[49m\u001B[43m,\u001B[49m\n\u001B[0;32m   1284\u001B[0m \u001B[43m    \u001B[49m\u001B[38;5;28;43mself\u001B[39;49m\u001B[38;5;241;43m.\u001B[39;49m\u001B[43m_parent_ident\u001B[49m\u001B[43m[\u001B[49m\u001B[38;5;124;43m\"\u001B[39;49m\u001B[38;5;124;43mshell\u001B[39;49m\u001B[38;5;124;43m\"\u001B[39;49m\u001B[43m]\u001B[49m\u001B[43m,\u001B[49m\n\u001B[0;32m   1285\u001B[0m \u001B[43m    \u001B[49m\u001B[38;5;28;43mself\u001B[39;49m\u001B[38;5;241;43m.\u001B[39;49m\u001B[43mget_parent\u001B[49m\u001B[43m(\u001B[49m\u001B[38;5;124;43m\"\u001B[39;49m\u001B[38;5;124;43mshell\u001B[39;49m\u001B[38;5;124;43m\"\u001B[39;49m\u001B[43m)\u001B[49m\u001B[43m,\u001B[49m\n\u001B[0;32m   1286\u001B[0m \u001B[43m    \u001B[49m\u001B[43mpassword\u001B[49m\u001B[38;5;241;43m=\u001B[39;49m\u001B[38;5;28;43;01mFalse\u001B[39;49;00m\u001B[43m,\u001B[49m\n\u001B[0;32m   1287\u001B[0m \u001B[43m\u001B[49m\u001B[43m)\u001B[49m\n",
      "File \u001B[1;32m~\\AppData\\Local\\Programs\\Python\\Python313\\Lib\\site-packages\\ipykernel\\kernelbase.py:1325\u001B[0m, in \u001B[0;36mKernel._input_request\u001B[1;34m(self, prompt, ident, parent, password)\u001B[0m\n\u001B[0;32m   1322\u001B[0m \u001B[38;5;28;01mexcept\u001B[39;00m \u001B[38;5;167;01mKeyboardInterrupt\u001B[39;00m:\n\u001B[0;32m   1323\u001B[0m     \u001B[38;5;66;03m# re-raise KeyboardInterrupt, to truncate traceback\u001B[39;00m\n\u001B[0;32m   1324\u001B[0m     msg \u001B[38;5;241m=\u001B[39m \u001B[38;5;124m\"\u001B[39m\u001B[38;5;124mInterrupted by user\u001B[39m\u001B[38;5;124m\"\u001B[39m\n\u001B[1;32m-> 1325\u001B[0m     \u001B[38;5;28;01mraise\u001B[39;00m \u001B[38;5;167;01mKeyboardInterrupt\u001B[39;00m(msg) \u001B[38;5;28;01mfrom\u001B[39;00m\u001B[38;5;250m \u001B[39m\u001B[38;5;28;01mNone\u001B[39;00m\n\u001B[0;32m   1326\u001B[0m \u001B[38;5;28;01mexcept\u001B[39;00m \u001B[38;5;167;01mException\u001B[39;00m:\n\u001B[0;32m   1327\u001B[0m     \u001B[38;5;28mself\u001B[39m\u001B[38;5;241m.\u001B[39mlog\u001B[38;5;241m.\u001B[39mwarning(\u001B[38;5;124m\"\u001B[39m\u001B[38;5;124mInvalid Message:\u001B[39m\u001B[38;5;124m\"\u001B[39m, exc_info\u001B[38;5;241m=\u001B[39m\u001B[38;5;28;01mTrue\u001B[39;00m)\n",
      "\u001B[1;31mKeyboardInterrupt\u001B[0m: Interrupted by user"
     ]
    }
   ],
   "execution_count": 14
  },
  {
   "cell_type": "markdown",
   "metadata": {},
   "source": [
    "## Objectoriëntatie"
   ]
  },
  {
   "cell_type": "markdown",
   "metadata": {},
   "source": [
    "Maak een minisysteem voor een kledingwinkel. Maak verschillende klassen voor verschillende soorten kledingstukken, waarbij sommige klassen geërfd worden van andere klassen.\n",
    "- Maak een klasse Kledingstuk aan, waarin door de constructor een merk, een maat en een prijs geïnitialiseerd worden.\n",
    "- Maak een klasse Broek en een klasse Shirt, beide erven van de klasse Kledingstuk. Voeg aan Broek een broek_type, en aan Shirt een shirt_type toe (d.m.v. constructorgebruik).\n",
    "- Maak een klasse Spijkerbroek die erft van broek en een klasse Poloshirt die erft van shirt. Voeg aan Spijkerbroek een blauwtint toe, en aan Poloshirt een kraagsoort (d.m.v. constructorgebruik).\n",
    "- Implementeer in elke klasse een beschrijf-methode, waarmee alle informatie over het betreffende kledingstuk wordt afgedrukt.\n",
    "- Maak van elke klasse een object aan en roep de beschrijfmethode aan. Controleer nauwkeurig of alles naar behoren werkt."
   ]
  },
  {
   "cell_type": "code",
   "metadata": {
    "ExecuteTime": {
     "end_time": "2025-02-20T11:36:35.680545500Z",
     "start_time": "2025-02-11T10:01:21.249667Z"
    }
   },
   "source": [
    "class Kledingstuk:\n",
    "\n",
    "    def __init__(self, merk, maat, prijs):\n",
    "        self.merk = merk\n",
    "        self.maat = maat\n",
    "        self.prijs = prijs\n",
    "\n",
    "    def beschrijf(self):\n",
    "            return f\"Merk: {self.merk},Maat: {self.maat } Prijs:  { self.prijs}\"\n",
    "\n",
    "class Broek(Kledingstuk):\n",
    "    def __init__(self, merk, maat, prijs, broek_type):\n",
    "        super().__init__(merk, maat, prijs)\n",
    "        self.broek_type = broek_type\n",
    "\n",
    "    def beschrijf(self):\n",
    "            return f\"{super().beschrijf()}, Broek: {self.broek_type}\"\n",
    "\n",
    "class Shirt(Kledingstuk):\n",
    "    def __init__(self, merk, maat, prijs, shirt_type):\n",
    "        super().__init__(merk, maat, prijs)\n",
    "        self.shirt_type = shirt_type\n",
    "\n",
    "    def beschrijf(self):\n",
    "            return f\"{super().beschrijf()}, Shirt:  {self.shirt_type}\"\n",
    "\n",
    "class Spijkerbroek(Broek):\n",
    "    def __init__(self, merk, maat, prijs, broek_type, blauwtint):\n",
    "        super().__init__(merk, maat, prijs, broek_type)\n",
    "        self.blauwtint = blauwtint\n",
    "\n",
    "    def beschrijf(self):\n",
    "            return f\"{super().beschrijf()}, Blauwtint:  {self.blauwtint}\"\n",
    "\n",
    "class Poloshirt(Shirt):\n",
    "    def __init__(self, merk, maat, prijs, shirt_type, kraagsoort):\n",
    "        super().__init__(merk, maat, prijs, shirt_type)\n",
    "        self.kraagsoort = kraagsoort\n",
    "\n",
    "    def beschrijf(self):\n",
    "            return f\"{super().beschrijf()}, kraagsoort:  {self.kraagsoort}\"\n",
    "\n",
    "\n",
    "kledingstuk = Kledingstuk(\"Nike\", \"M\", 50)\n",
    "broek = Broek(\"Levi\", \"L\", 80, \"blauw\")\n",
    "shirt = Shirt(\"Nike\", \"M\", 80, \"speed\")\n",
    "spijkerbroek = Spijkerbroek(\"Nike\", \"M\", 80, \"test\", \"test2\")\n",
    "poloshirt = Poloshirt(\"Nike\", \"M\", 80, \"test3\", \"test4\")\n",
    "\n",
    "print(kledingstuk.beschrijf())\n",
    "print(broek.beschrijf())\n",
    "print(shirt.beschrijf())\n",
    "print(spijkerbroek.beschrijf())\n",
    "print(poloshirt.beschrijf())\n",
    "\n"
   ],
   "outputs": [
    {
     "name": "stdout",
     "output_type": "stream",
     "text": [
      "Merk: Nike,Maat: M Prijs:  50\n",
      "Merk: Levi,Maat: L Prijs:  80, Broek: blauw\n",
      "Merk: Nike,Maat: M Prijs:  80, Shirt:  speed\n",
      "Merk: Nike,Maat: M Prijs:  80, Broek: test, Blauwtint:  test2\n",
      "Merk: Nike,Maat: M Prijs:  80, Shirt:  test3, kraagsoort:  test4\n"
     ]
    }
   ],
   "execution_count": 13
  },
  {
   "cell_type": "markdown",
   "metadata": {},
   "source": [
    "Opmerking: in themaweken 2 t/m 8 ga je objectoriëntatie waarschijnlijk veel minder vaak gebruiken dan de andere boven- en ondergenoemde programmeertechnieken.<br>\n",
    "Maar let op: in themaweken 9 en 10 komt objectoriëntatie <b><u>uitvoerig</u></b> aan de orde. Zorg dus dat je deze kennis niet vergeet!"
   ]
  },
  {
   "cell_type": "markdown",
   "metadata": {},
   "source": [
    "## Verzamelingen"
   ]
  },
  {
   "cell_type": "markdown",
   "metadata": {},
   "source": [
    "Kijk nu naar alle info onder het kopje *Verzamelingen* van de cheatsheet *Van Java naar Python - Cheatsheet*."
   ]
  },
  {
   "cell_type": "markdown",
   "metadata": {},
   "source": [
    "Initialiseer een lijst met de naam mijn_lijst met de volgende waarden:<br>\n",
    "Jelle, Marleen, Henk, Fatima, Jelle, Henk"
   ]
  },
  {
   "cell_type": "code",
   "metadata": {
    "ExecuteTime": {
     "end_time": "2025-02-20T11:36:35.706965500Z",
     "start_time": "2025-02-11T10:06:17.560536Z"
    }
   },
   "source": [
    "mijn_lijst = [\"Jelle\", \"Marleen\", \"Henk\", \"Fatima\", \"Jelle\", \"Henk\"]\n",
    "print(mijn_lijst)\n"
   ],
   "outputs": [
    {
     "name": "stdout",
     "output_type": "stream",
     "text": [
      "['Jelle', 'Marleen', 'Henk', 'Fatima', 'Jelle', 'Henk']\n"
     ]
    }
   ],
   "execution_count": 16
  },
  {
   "cell_type": "markdown",
   "metadata": {},
   "source": [
    "Probeer nu de eerste waarde uit te lijst te veranderen in een naam naar keuze. Lukt dat?"
   ]
  },
  {
   "cell_type": "code",
   "metadata": {
    "ExecuteTime": {
     "end_time": "2025-02-20T11:36:35.706965500Z",
     "start_time": "2025-02-11T10:08:03.372503Z"
    }
   },
   "source": [
    "mijn_lijst[0] = \"Speed\"\n",
    "print(mijn_lijst[0])"
   ],
   "outputs": [
    {
     "name": "stdout",
     "output_type": "stream",
     "text": [
      "Speed\n"
     ]
    }
   ],
   "execution_count": 18
  },
  {
   "cell_type": "markdown",
   "metadata": {},
   "source": [
    "Maak van bovengenoemde lijst nu een tupel, genaamd: mijn_tupel."
   ]
  },
  {
   "cell_type": "code",
   "metadata": {
    "ExecuteTime": {
     "end_time": "2025-02-20T11:36:35.706965500Z",
     "start_time": "2025-02-11T19:57:45.849777Z"
    }
   },
   "source": [
    "mijn_tupel = mijn_lijst\n",
    "print(mijn_tupel)"
   ],
   "outputs": [
    {
     "name": "stdout",
     "output_type": "stream",
     "text": [
      "['Speed', 'Marleen', 'Henk', 'Fatima', 'Jelle', 'Henk']\n"
     ]
    }
   ],
   "execution_count": 21
  },
  {
   "cell_type": "markdown",
   "metadata": {},
   "source": [
    "Probeer nu de eerste waarde uit te tupel te veranderen in een naam naar keuze. Lukt dat?"
   ]
  },
  {
   "cell_type": "code",
   "metadata": {
    "ExecuteTime": {
     "end_time": "2025-02-20T11:36:35.706965500Z",
     "start_time": "2025-02-11T19:59:07.614713Z"
    }
   },
   "source": [
    "mijn_tupel[0] = \"McQueen\"\n",
    "print(mijn_tupel[0])"
   ],
   "outputs": [
    {
     "name": "stdout",
     "output_type": "stream",
     "text": [
      "McQueen\n"
     ]
    }
   ],
   "execution_count": 22
  },
  {
   "cell_type": "markdown",
   "metadata": {},
   "source": [
    "Initialiseer een dictionary met de volgende key-value-combinaties:\n",
    "- naam: \"Jelle\"\n",
    "- leeftijd: 28\n",
    "- beroep: \"Docent\"\n",
    "- hobby: \"Volleybal\""
   ]
  },
  {
   "cell_type": "code",
   "metadata": {
    "ExecuteTime": {
     "end_time": "2025-02-20T11:36:35.722601200Z",
     "start_time": "2025-02-11T20:02:54.223276Z"
    }
   },
   "source": [
    "mijn_dict = {\n",
    "    'naam' : \"Jelle\",\n",
    "    'Leeftijd' : 28,\n",
    "    'beroep' : \"Docent\",\n",
    "    'hobby' : \"Volleybal\"\n",
    "}\n",
    "\n",
    "print(mijn_dict)"
   ],
   "outputs": [
    {
     "name": "stdout",
     "output_type": "stream",
     "text": [
      "{'naam': 'Jelle', 'Leeftijd': 28, 'beroep': 'Docent', 'hobby': 'Volleybal'}\n"
     ]
    }
   ],
   "execution_count": 25
  },
  {
   "cell_type": "markdown",
   "metadata": {},
   "source": [
    "Probeer nu de naam te veranderen naar een naam naar keuze. Lukt dat?"
   ]
  },
  {
   "cell_type": "code",
   "metadata": {
    "ExecuteTime": {
     "end_time": "2025-02-20T11:36:35.722601200Z",
     "start_time": "2025-02-11T20:03:50.014750Z"
    }
   },
   "source": [
    "mijn_dict['naam'] = \"Lightning McQueen\"\n",
    "print(mijn_dict)"
   ],
   "outputs": [
    {
     "name": "stdout",
     "output_type": "stream",
     "text": [
      "{'naam': 'Lightning McQueen', 'Leeftijd': 28, 'beroep': 'Docent', 'hobby': 'Volleybal'}\n"
     ]
    }
   ],
   "execution_count": 26
  }
 ],
 "metadata": {
  "kernelspec": {
   "display_name": "python-in-deds-P4iSP_yI-py3.11",
   "language": "python",
   "name": "python3"
  },
  "language_info": {
   "codemirror_mode": {
    "name": "ipython",
    "version": 3
   },
   "file_extension": ".py",
   "mimetype": "text/x-python",
   "name": "python",
   "nbconvert_exporter": "python",
   "pygments_lexer": "ipython3",
   "version": "3.11.3"
  }
 },
 "nbformat": 4,
 "nbformat_minor": 2
}
