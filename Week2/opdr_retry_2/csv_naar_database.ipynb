{
 "cells": [
  {
   "cell_type": "code",
   "id": "initial_id",
   "metadata": {
    "collapsed": true,
    "ExecuteTime": {
     "end_time": "2025-02-25T14:05:51.498853Z",
     "start_time": "2025-02-25T14:05:51.271620Z"
    }
   },
   "source": [
    "import pandas as pd\n",
    "from sqlalchemy import create_engine\n",
    "import sqlite3\n",
    "from sqlalchemy.types import Numeric, Integer, String\n",
    "\n",
    "\n",
    "DB = {'servername': 'XPS15\\\\SQLEXPRESS', 'database': 'gecombineerde_database2'}\n",
    "\n",
    "#SQLAlchemy engine voor SQL Server\n",
    "engine_str = (\n",
    "    f\"mssql+pyodbc://{DB['servername']}/{DB['database']}?\"\n",
    "    \"trusted_connection=yes&driver=ODBC+Driver+17+for+SQL+Server\"\n",
    ")\n",
    "\n",
    "engine = create_engine(engine_str)"
   ],
   "outputs": [],
   "execution_count": 4
  },
  {
   "metadata": {},
   "cell_type": "markdown",
   "source": "1e csv bestand inventory_levels_train",
   "id": "b4626642c943874e"
  },
  {
   "metadata": {
    "ExecuteTime": {
     "end_time": "2025-02-25T14:05:53.917930Z",
     "start_time": "2025-02-25T14:05:53.901236Z"
    }
   },
   "cell_type": "code",
   "source": [
    "# CSV-bestand inlezen\n",
    "inventory_dataframe= pd.read_csv(\"inventory_levels_train.csv\")\n",
    "inventory_dataframe"
   ],
   "id": "fc21d0c0717e6133",
   "outputs": [
    {
     "data": {
      "text/plain": [
       "      Unnamed: 0  INVENTORY_YEAR  INVENTORY_MONTH  PRODUCT_NUMBER  \\\n",
       "0              0            2023                4              48   \n",
       "1              1            2023                4              49   \n",
       "2              2            2023                4              50   \n",
       "3              3            2023                4              51   \n",
       "4              4            2023                4              52   \n",
       "...          ...             ...              ...             ...   \n",
       "3538        3790            2023                4              43   \n",
       "3539        3791            2023                4              44   \n",
       "3540        3792            2023                4              45   \n",
       "3541        3793            2023                4              46   \n",
       "3542        3794            2023                4              47   \n",
       "\n",
       "      INVENTORY_COUNT  \n",
       "0                1932  \n",
       "1                1400  \n",
       "2               21705  \n",
       "3                9710  \n",
       "4                5616  \n",
       "...               ...  \n",
       "3538             6147  \n",
       "3539             5822  \n",
       "3540             1676  \n",
       "3541             1802  \n",
       "3542             5605  \n",
       "\n",
       "[3543 rows x 5 columns]"
      ],
      "text/html": [
       "<div>\n",
       "<style scoped>\n",
       "    .dataframe tbody tr th:only-of-type {\n",
       "        vertical-align: middle;\n",
       "    }\n",
       "\n",
       "    .dataframe tbody tr th {\n",
       "        vertical-align: top;\n",
       "    }\n",
       "\n",
       "    .dataframe thead th {\n",
       "        text-align: right;\n",
       "    }\n",
       "</style>\n",
       "<table border=\"1\" class=\"dataframe\">\n",
       "  <thead>\n",
       "    <tr style=\"text-align: right;\">\n",
       "      <th></th>\n",
       "      <th>Unnamed: 0</th>\n",
       "      <th>INVENTORY_YEAR</th>\n",
       "      <th>INVENTORY_MONTH</th>\n",
       "      <th>PRODUCT_NUMBER</th>\n",
       "      <th>INVENTORY_COUNT</th>\n",
       "    </tr>\n",
       "  </thead>\n",
       "  <tbody>\n",
       "    <tr>\n",
       "      <th>0</th>\n",
       "      <td>0</td>\n",
       "      <td>2023</td>\n",
       "      <td>4</td>\n",
       "      <td>48</td>\n",
       "      <td>1932</td>\n",
       "    </tr>\n",
       "    <tr>\n",
       "      <th>1</th>\n",
       "      <td>1</td>\n",
       "      <td>2023</td>\n",
       "      <td>4</td>\n",
       "      <td>49</td>\n",
       "      <td>1400</td>\n",
       "    </tr>\n",
       "    <tr>\n",
       "      <th>2</th>\n",
       "      <td>2</td>\n",
       "      <td>2023</td>\n",
       "      <td>4</td>\n",
       "      <td>50</td>\n",
       "      <td>21705</td>\n",
       "    </tr>\n",
       "    <tr>\n",
       "      <th>3</th>\n",
       "      <td>3</td>\n",
       "      <td>2023</td>\n",
       "      <td>4</td>\n",
       "      <td>51</td>\n",
       "      <td>9710</td>\n",
       "    </tr>\n",
       "    <tr>\n",
       "      <th>4</th>\n",
       "      <td>4</td>\n",
       "      <td>2023</td>\n",
       "      <td>4</td>\n",
       "      <td>52</td>\n",
       "      <td>5616</td>\n",
       "    </tr>\n",
       "    <tr>\n",
       "      <th>...</th>\n",
       "      <td>...</td>\n",
       "      <td>...</td>\n",
       "      <td>...</td>\n",
       "      <td>...</td>\n",
       "      <td>...</td>\n",
       "    </tr>\n",
       "    <tr>\n",
       "      <th>3538</th>\n",
       "      <td>3790</td>\n",
       "      <td>2023</td>\n",
       "      <td>4</td>\n",
       "      <td>43</td>\n",
       "      <td>6147</td>\n",
       "    </tr>\n",
       "    <tr>\n",
       "      <th>3539</th>\n",
       "      <td>3791</td>\n",
       "      <td>2023</td>\n",
       "      <td>4</td>\n",
       "      <td>44</td>\n",
       "      <td>5822</td>\n",
       "    </tr>\n",
       "    <tr>\n",
       "      <th>3540</th>\n",
       "      <td>3792</td>\n",
       "      <td>2023</td>\n",
       "      <td>4</td>\n",
       "      <td>45</td>\n",
       "      <td>1676</td>\n",
       "    </tr>\n",
       "    <tr>\n",
       "      <th>3541</th>\n",
       "      <td>3793</td>\n",
       "      <td>2023</td>\n",
       "      <td>4</td>\n",
       "      <td>46</td>\n",
       "      <td>1802</td>\n",
       "    </tr>\n",
       "    <tr>\n",
       "      <th>3542</th>\n",
       "      <td>3794</td>\n",
       "      <td>2023</td>\n",
       "      <td>4</td>\n",
       "      <td>47</td>\n",
       "      <td>5605</td>\n",
       "    </tr>\n",
       "  </tbody>\n",
       "</table>\n",
       "<p>3543 rows × 5 columns</p>\n",
       "</div>"
      ]
     },
     "execution_count": 5,
     "metadata": {},
     "output_type": "execute_result"
    }
   ],
   "execution_count": 5
  },
  {
   "metadata": {
    "ExecuteTime": {
     "end_time": "2025-02-25T14:08:10.503950Z",
     "start_time": "2025-02-25T14:08:09.794041Z"
    }
   },
   "cell_type": "code",
   "source": [
    "# Verwijder de ongewenste kolom als die bestaat\n",
    "inventory_dataframe = inventory_dataframe.drop(columns=[\"Unnamed: 0\"], errors=\"ignore\")\n",
    "#inventory_dataframe\n",
    "# Schrijf de DataFrame weg naar de database.\n",
    "# if_exists='replace' zorgt ervoor dat als de tabel al bestaat, deze eerst wordt verwijderd en opnieuw aangemaakt.\n",
    "inventory_dataframe.to_sql('inventory', engine, if_exists='replace', index=False)\n",
    "\n",
    "print(\"Data succesvol ingevoegd!\")\n"
   ],
   "id": "4aaf28d65fd27aa7",
   "outputs": [
    {
     "name": "stdout",
     "output_type": "stream",
     "text": [
      "Data succesvol ingevoegd!\n"
     ]
    }
   ],
   "execution_count": 10
  },
  {
   "metadata": {},
   "cell_type": "markdown",
   "source": "2e csv_bestand product_forecast_train",
   "id": "694a74e13d1426c4"
  },
  {
   "metadata": {
    "ExecuteTime": {
     "end_time": "2025-02-25T14:08:53.291137Z",
     "start_time": "2025-02-25T14:08:53.277148Z"
    }
   },
   "cell_type": "code",
   "source": [
    "# 2e CSV-bestand inlezen\n",
    "product_forcast_dataframe= pd.read_csv(\"product_forecast_train.csv\")\n",
    "product_forcast_dataframe"
   ],
   "id": "661a94b9290a0fc4",
   "outputs": [
    {
     "data": {
      "text/plain": [
       "      PRODUCT_NUMBER  YEAR  MONTH  EXPECTED_VOLUME\n",
       "0                 45  2023     12               90\n",
       "1                 46  2023     12               84\n",
       "2                 47  2023     12              468\n",
       "3                 48  2023     12               91\n",
       "4                 49  2023     12               35\n",
       "...              ...   ...    ...              ...\n",
       "3524              37  2022      1               60\n",
       "3525              38  2022      1               51\n",
       "3526              39  2022      1              235\n",
       "3527              40  2022      1              568\n",
       "3528              41  2022      1               84\n",
       "\n",
       "[3529 rows x 4 columns]"
      ],
      "text/html": [
       "<div>\n",
       "<style scoped>\n",
       "    .dataframe tbody tr th:only-of-type {\n",
       "        vertical-align: middle;\n",
       "    }\n",
       "\n",
       "    .dataframe tbody tr th {\n",
       "        vertical-align: top;\n",
       "    }\n",
       "\n",
       "    .dataframe thead th {\n",
       "        text-align: right;\n",
       "    }\n",
       "</style>\n",
       "<table border=\"1\" class=\"dataframe\">\n",
       "  <thead>\n",
       "    <tr style=\"text-align: right;\">\n",
       "      <th></th>\n",
       "      <th>PRODUCT_NUMBER</th>\n",
       "      <th>YEAR</th>\n",
       "      <th>MONTH</th>\n",
       "      <th>EXPECTED_VOLUME</th>\n",
       "    </tr>\n",
       "  </thead>\n",
       "  <tbody>\n",
       "    <tr>\n",
       "      <th>0</th>\n",
       "      <td>45</td>\n",
       "      <td>2023</td>\n",
       "      <td>12</td>\n",
       "      <td>90</td>\n",
       "    </tr>\n",
       "    <tr>\n",
       "      <th>1</th>\n",
       "      <td>46</td>\n",
       "      <td>2023</td>\n",
       "      <td>12</td>\n",
       "      <td>84</td>\n",
       "    </tr>\n",
       "    <tr>\n",
       "      <th>2</th>\n",
       "      <td>47</td>\n",
       "      <td>2023</td>\n",
       "      <td>12</td>\n",
       "      <td>468</td>\n",
       "    </tr>\n",
       "    <tr>\n",
       "      <th>3</th>\n",
       "      <td>48</td>\n",
       "      <td>2023</td>\n",
       "      <td>12</td>\n",
       "      <td>91</td>\n",
       "    </tr>\n",
       "    <tr>\n",
       "      <th>4</th>\n",
       "      <td>49</td>\n",
       "      <td>2023</td>\n",
       "      <td>12</td>\n",
       "      <td>35</td>\n",
       "    </tr>\n",
       "    <tr>\n",
       "      <th>...</th>\n",
       "      <td>...</td>\n",
       "      <td>...</td>\n",
       "      <td>...</td>\n",
       "      <td>...</td>\n",
       "    </tr>\n",
       "    <tr>\n",
       "      <th>3524</th>\n",
       "      <td>37</td>\n",
       "      <td>2022</td>\n",
       "      <td>1</td>\n",
       "      <td>60</td>\n",
       "    </tr>\n",
       "    <tr>\n",
       "      <th>3525</th>\n",
       "      <td>38</td>\n",
       "      <td>2022</td>\n",
       "      <td>1</td>\n",
       "      <td>51</td>\n",
       "    </tr>\n",
       "    <tr>\n",
       "      <th>3526</th>\n",
       "      <td>39</td>\n",
       "      <td>2022</td>\n",
       "      <td>1</td>\n",
       "      <td>235</td>\n",
       "    </tr>\n",
       "    <tr>\n",
       "      <th>3527</th>\n",
       "      <td>40</td>\n",
       "      <td>2022</td>\n",
       "      <td>1</td>\n",
       "      <td>568</td>\n",
       "    </tr>\n",
       "    <tr>\n",
       "      <th>3528</th>\n",
       "      <td>41</td>\n",
       "      <td>2022</td>\n",
       "      <td>1</td>\n",
       "      <td>84</td>\n",
       "    </tr>\n",
       "  </tbody>\n",
       "</table>\n",
       "<p>3529 rows × 4 columns</p>\n",
       "</div>"
      ]
     },
     "execution_count": 11,
     "metadata": {},
     "output_type": "execute_result"
    }
   ],
   "execution_count": 11
  },
  {
   "metadata": {
    "ExecuteTime": {
     "end_time": "2025-02-25T14:08:56.131535Z",
     "start_time": "2025-02-25T14:08:55.979665Z"
    }
   },
   "cell_type": "code",
   "source": [
    "# Schrijf de DataFrame weg naar SQL Server.\n",
    "# if_exists='replace' zorgt ervoor dat de tabel wordt aangemaakt of vervangen indien deze al bestaat.\n",
    "product_forcast_dataframe.to_sql('product_forecast', engine, if_exists='replace', index=False)\n",
    "\n",
    "print(\"Data succesvol ingevoegd!\")\n"
   ],
   "id": "de1728b104fb72ec",
   "outputs": [
    {
     "name": "stdout",
     "output_type": "stream",
     "text": [
      "Data succesvol ingevoegd!\n"
     ]
    }
   ],
   "execution_count": 12
  }
 ],
 "metadata": {
  "kernelspec": {
   "display_name": "Python 3",
   "language": "python",
   "name": "python3"
  },
  "language_info": {
   "codemirror_mode": {
    "name": "ipython",
    "version": 2
   },
   "file_extension": ".py",
   "mimetype": "text/x-python",
   "name": "python",
   "nbconvert_exporter": "python",
   "pygments_lexer": "ipython2",
   "version": "2.7.6"
  }
 },
 "nbformat": 4,
 "nbformat_minor": 5
}
